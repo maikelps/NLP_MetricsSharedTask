{
 "cells": [
  {
   "cell_type": "markdown",
   "id": "b7bc20f4",
   "metadata": {},
   "source": [
    "<div align=\"center\">\n",
    "    <h1>MDSAA TEXT MINING 2020-2021</h1>\n",
    "    <h2>MACHINE TRANSLATION METRICS</h2>\n",
    "    <p style=\"text-align:center\">David Sotto-Mayor Machado (m20201023@novaims.unl.pt), Maikel Sousa (m20200735@novaims.unl.pt), Catarina Moreira (m20201034@novaims.unl.pt)</p>\n",
    "</div>"
   ]
  },
  {
   "cell_type": "markdown",
   "id": "40380aed",
   "metadata": {},
   "source": [
    "<h2>Import Libraries</h2>"
   ]
  },
  {
   "cell_type": "code",
   "execution_count": 1,
   "id": "5543fe58",
   "metadata": {},
   "outputs": [
    {
     "name": "stderr",
     "output_type": "stream",
     "text": [
      "comet_ml is installed but `COMET_API_KEY` is not set.\n",
      "/Users/catarinamoreira/opt/anaconda3/envs/tm/lib/python3.8/site-packages/gensim/similarities/__init__.py:15: UserWarning: The gensim.similarities.levenshtein submodule is disabled, because the optional Levenshtein package <https://pypi.org/project/python-Levenshtein/> is unavailable. Install Levenhstein (e.g. `pip install python-Levenshtein`) to suppress this warning.\n",
      "  warnings.warn(msg)\n"
     ]
    }
   ],
   "source": [
    "import os, sys, re, time, gzip, zlib, logging, transformers, urllib.request, shutil\n",
    "import pandas as pd\n",
    "import numpy as np\n",
    "from comet.models import download_model\n",
    "import jieba.posseg as pseg\n",
    "import comet\n",
    "from collections import Counter\n",
    "from rouge import Rouge\n",
    "from tqdm.notebook import tqdm\n",
    "from bert_score import score\n",
    "from nltk.translate.bleu_score import sentence_bleu\n",
    "from nltk.corpus import stopwords\n",
    "from nltk import download\n",
    "from stopwordsiso import stopwords as swordsiso\n",
    "from sklearn.model_selection import train_test_split\n",
    "from gensim.models import Word2Vec\n",
    "from gensim.models import KeyedVectors\n",
    "import matplotlib.pyplot as plt\n",
    "from matplotlib import rcParams\n",
    "from bert_score import score\n",
    "from tqdm import tqdm_notebook as tqdm\n",
    "from nltk.corpus import stopwords\n",
    "from nltk.stem.wordnet import WordNetLemmatizer\n",
    "from nltk.tokenize import word_tokenize\n",
    "from nltk.corpus import wordnet\n",
    "from nltk.stem import SnowballStemmer\n",
    "from bs4 import BeautifulSoup\n",
    "import string\n",
    "from sklearn.feature_extraction.text import CountVectorizer\n",
    "from IPython.display import display_html \n",
    "import matplotlib.pyplot as plt\n",
    "import scipy.stats as stats\n",
    "from zipfile import *\n",
    "import platform\n",
    "from bleurt import score\n",
    "import bleurt\n",
    "import jieba\n",
    "import bert"
   ]
  },
  {
   "cell_type": "code",
   "execution_count": 2,
   "id": "0f41e531",
   "metadata": {},
   "outputs": [],
   "source": [
    "#ignore warnings\n",
    "import warnings\n",
    "warnings.filterwarnings(\"ignore\")"
   ]
  },
  {
   "cell_type": "markdown",
   "id": "48e80417",
   "metadata": {},
   "source": [
    "<h2>Functions</h2>"
   ]
  },
  {
   "cell_type": "code",
   "execution_count": 3,
   "id": "dd13862a",
   "metadata": {},
   "outputs": [],
   "source": [
    "#Function to return the number of annotators in the Pandas dataframe\n",
    "def label_counter(dataframe, field):\n",
    "    \"\"\"\n",
    "    Function that receives a dataframe and the field whose labels you want to count and\n",
    "    returns the number of annotators in the Pandas dataframe.\n",
    "    \"\"\"    \n",
    "    return dataframe[field].value_counts()"
   ]
  },
  {
   "cell_type": "code",
   "execution_count": 4,
   "id": "a6b66d6e",
   "metadata": {},
   "outputs": [],
   "source": [
    "#Function to return the number of annotators in the Pandas dataframe\n",
    "def label_mean(dataframe, field):\n",
    "    \"\"\"\n",
    "    Function that receives a dataframe and the field whose labels you want to do the mena and\n",
    "    returns the mean\n",
    "    \"\"\" \n",
    "    return dataframe[field].mean()"
   ]
  },
  {
   "cell_type": "code",
   "execution_count": 5,
   "id": "cf6e45a7",
   "metadata": {},
   "outputs": [],
   "source": [
    "#Function to return the frequenccy of each word of EN source\n",
    "def word_counter(text_list):\n",
    "    \"\"\"\n",
    "    Function that receives a list of strings and returns the frequency of each word\n",
    "    in the set of all strings.\n",
    "    \"\"\"\n",
    "    words_in_df = ' '.join(text_list).split()\n",
    "    \n",
    "    # Count all words \n",
    "    freq = pd.Series(words_in_df).value_counts()\n",
    "    return freq"
   ]
  },
  {
   "cell_type": "code",
   "execution_count": 6,
   "id": "c4dff9bc",
   "metadata": {},
   "outputs": [],
   "source": [
    "#Function to return the frequenccy of each word of ZH sources\n",
    "def word_counter1(text_list):\n",
    "    \"\"\"\n",
    "    Function that receives a list of strings and returns the frequency of each word\n",
    "    in the set of all strings.\n",
    "    \"\"\"\n",
    "    words_in_df = '，'.join(list(corpora[1]['source'])).split('，')\n",
    "    \n",
    "    # Count all words \n",
    "    freq = pd.Series(words_in_df).value_counts()\n",
    "    return freq"
   ]
  },
  {
   "cell_type": "code",
   "execution_count": 7,
   "id": "21df17e1",
   "metadata": {},
   "outputs": [],
   "source": [
    "def clean(text_list, stop, lemmatize, stemmer):\n",
    "    \"\"\"\n",
    "    Function that a receives a list of strings and preprocesses it.\n",
    "    \n",
    "    :param text_list: List of strings.\n",
    "    :param lemmatize: Tag to apply lemmatization if True.\n",
    "    :param stemmer: Tag to apply the stemmer if True.\n",
    "    \"\"\"\n",
    "    updates = []\n",
    "    for j in tqdm(range(len(text_list))): #create the bars\n",
    "        \n",
    "        text = text_list[j]\n",
    "        \n",
    "        #LOWERCASE TEXT\n",
    "        text = text.lower()\n",
    "        \n",
    "        #REMOVE TAGS\n",
    "        text = \" \".join([BeautifulSoup(word).get_text() for word in text.split()])\n",
    "        \n",
    "        #REMOVE NUMERICAL DATA AND PUNCTUATION\n",
    "        text = re.sub(\"[^a-zA-Z]\", ' ', text)\n",
    "        \n",
    "        #REMOVE STOP WORDS\n",
    "        text = \" \".join([word for word in text.split() if word not in stop])\n",
    "        \n",
    "        \n",
    "        if lemmatize:\n",
    "            text = \" \".join(lemma.lemmatize(word) for word in text.split())\n",
    "        \n",
    "        if stemmer:\n",
    "            text = \" \".join(snowball_stemmer.stem(word) for word in text.split())\n",
    "        \n",
    "        updates.append(text)\n",
    "        \n",
    "    return updates\n",
    "\n",
    "def update_df(dataframe, list_updated,column1):\n",
    "    dataframe.update(pd.DataFrame({column1: list_updated}))"
   ]
  },
  {
   "cell_type": "code",
   "execution_count": 8,
   "id": "bd6d3f11",
   "metadata": {},
   "outputs": [],
   "source": [
    "def clean_finlandes(text_list,stop, lemmatize, stemmer):\n",
    "    \"\"\"\n",
    "    Function that a receives a list of strings and preprocesses it.\n",
    "    \n",
    "    :param text_list: List of strings.\n",
    "    :param lemmatize: Tag to apply lemmatization if True.\n",
    "    :param stemmer: Tag to apply the stemmer if True.\n",
    "    \"\"\"\n",
    "    updates = []\n",
    "    for j in tqdm(range(len(text_list))): #create the bars\n",
    "        \n",
    "        text = text_list[j]\n",
    "        \n",
    "        #LOWERCASE TEXT\n",
    "        text = text.upper()\n",
    "        \n",
    "        #REMOVE NUMERICAL DATA AND PUNCTUATION\n",
    "        text = re.sub(\"[^a-zA-ZǺÄÖ]\", ' ', text)\n",
    "        \n",
    "        #REMOVE TAGS\n",
    "        text = BeautifulSoup(text).get_text()\n",
    "        \n",
    "        if lemmatize:\n",
    "            text = \" \".join(lemma.lemmatize(word) for word in text.split())\n",
    "        \n",
    "        if stemmer:\n",
    "            text = \" \".join(snowball_stemmer.stem(word) for word in text.split())\n",
    "        \n",
    "        updates.append(text)\n",
    "        \n",
    "    return updates\n",
    "\n",
    "def update_df(dataframe, list_updated,column1):\n",
    "    dataframe.update(pd.DataFrame({column1: list_updated}))"
   ]
  },
  {
   "cell_type": "code",
   "execution_count": 9,
   "id": "2236cda3",
   "metadata": {},
   "outputs": [],
   "source": [
    "def clean_chinese(text_list, stop):\n",
    "    \"\"\"\n",
    "    Function that a receives a list of strings and preprocesses it.\n",
    "    \n",
    "    :param text_list: List of strings.\n",
    "    :param lemmatize: Tag to apply lemmatization if True.\n",
    "    :param stemmer: Tag to apply the stemmer if True.\n",
    "    \"\"\"\n",
    "    updates = []\n",
    "    for j in tqdm(range(len(text_list))): #create the bars\n",
    "        \n",
    "        text = text_list[j]\n",
    "        \n",
    "        #REMOVE NUMERICAL DATA AND PUNCTUATION\n",
    "        text =  re.sub(\"[0-9]\", ' ', text)\n",
    "        \n",
    "        text = re.sub(\"r[\\s+\\.\\!\\/_,$%^*(+\\\"\\']+|[+——！，。. ？、~@#￥%……&*（）：；《）《》“”()»〔〕-]+\", \" \", text.encode().decode(\"utf8\"))\n",
    "        \n",
    "        #REMOVE TAGS\n",
    "        text = BeautifulSoup(text).get_text()\n",
    "        \n",
    "        updates.append(text)\n",
    "        \n",
    "    return updates\n",
    "\n",
    "def update_df(dataframe, list_updated,column1):\n",
    "    dataframe.update(pd.DataFrame({column1: list_updated}))"
   ]
  },
  {
   "cell_type": "code",
   "execution_count": 10,
   "id": "26dc2372",
   "metadata": {},
   "outputs": [],
   "source": [
    "def get_top_n_grams(corpus, top_k, n):\n",
    "    \"\"\"\n",
    "    Function that receives a list of documents (corpus) and extracts\n",
    "        the top k most frequent n-grams for that corpus.\n",
    "        \n",
    "    :param corpus: list of texts\n",
    "    :param top_k: int with the number of n-grams that we want to extract\n",
    "    :param n: n gram type to be considered \n",
    "             (if n=1 extracts unigrams, if n=2 extracts bigrams, ...)\n",
    "             \n",
    "    :return: Returns a sorted dataframe in which the first column \n",
    "        contains the extracted ngrams and the second column contains\n",
    "        the respective counts\n",
    "    \"\"\"\n",
    "    vec = CountVectorizer(ngram_range=(n, n), max_features=2000).fit(corpus)\n",
    "    \n",
    "    bag_of_words = vec.transform(corpus)\n",
    "    \n",
    "    sum_words = bag_of_words.sum(axis=0) \n",
    "    \n",
    "    words_freq = []\n",
    "    for word, idx in vec.vocabulary_.items():\n",
    "        words_freq.append((word, sum_words[0, idx]))\n",
    "        \n",
    "    words_freq = sorted(words_freq, key=lambda x: x[1], reverse=True)\n",
    "    top_df = pd.DataFrame(words_freq[:top_k])\n",
    "    top_df.columns = [\"Ngram\", \"Freq\"]\n",
    "    return top_df"
   ]
  },
  {
   "cell_type": "code",
   "execution_count": 11,
   "id": "905d8c2a",
   "metadata": {},
   "outputs": [],
   "source": [
    "def plot_frequencies(top_df, top_df1):\n",
    "    \"\"\"\n",
    "    Function that receives a dataframe from the \"get_top_n_grams\" function\n",
    "    and plots the frequencies in a bar plot.\n",
    "    \"\"\"\n",
    "    \n",
    "    fig = plt.figure()\n",
    "    plt.figure(figsize=(20,5))\n",
    "    \n",
    "    plt.subplot(1, 2, 1)\n",
    "    x_labels = top_df[\"Ngram\"][:30]\n",
    "    y_pos = np.arange(len(x_labels))\n",
    "    values = top_df[\"Freq\"][:30]\n",
    "    plt.bar(y_pos, values, align='center', alpha=0.5)\n",
    "    plt.xticks(y_pos, x_labels)\n",
    "    plt.ylabel('Frequencies')\n",
    "    plt.title('Words')\n",
    "    plt.xticks(rotation=90)\n",
    "    \n",
    "    \n",
    "    plt.subplot(1, 2, 2)\n",
    "    x_labels = top_df1[\"Ngram\"][:30]\n",
    "    y_pos = np.arange(len(x_labels))\n",
    "    values = top_df1[\"Freq\"][:30]\n",
    "    plt.bar(y_pos, values, align='center', alpha=0.5)\n",
    "    plt.xticks(y_pos, x_labels)\n",
    "    plt.ylabel('Frequencies')\n",
    "    plt.title('Words')\n",
    "    plt.xticks(rotation=90)\n",
    "    plt.show()"
   ]
  },
  {
   "cell_type": "markdown",
   "id": "7f04ded1",
   "metadata": {},
   "source": [
    "<h2>Import Corpora</h2>"
   ]
  },
  {
   "cell_type": "code",
   "execution_count": 12,
   "id": "6aecaaf7",
   "metadata": {},
   "outputs": [
    {
     "name": "stdout",
     "output_type": "stream",
     "text": [
      "\u001b[1m 6 \u001b[0mcorpora imported.\n"
     ]
    }
   ],
   "source": [
    "#To import all the corpus csv files\n",
    "folder='corpus'\n",
    "corpus = os.listdir(folder)\n",
    "corpus.remove('.DS_Store')\n",
    "\n",
    "filename = 'scores.csv'\n",
    "corpora=[]\n",
    "\n",
    "for sub in corpus:\n",
    "    corpora.append(pd.read_csv('{}/{}/{}'.format(folder,sub,filename)))\n",
    "        \n",
    "print('\\033[1m',len(corpora),'\\033[0mcorpora imported.')"
   ]
  },
  {
   "cell_type": "code",
   "execution_count": 13,
   "id": "0156bcfa",
   "metadata": {},
   "outputs": [],
   "source": [
    "#To drop rows with missing translations or references\n",
    "for i in range(len(corpus)):\n",
    "    corpora[i].drop(corpora[i][corpora[i][\"reference\"] == \".\"].index, inplace=True)\n",
    "    corpora[i].drop(corpora[i][corpora[i][\"translation\"] == \".\"].index, inplace=True)\n",
    "    corpora[i].reset_index(drop=True, inplace=True)"
   ]
  },
  {
   "cell_type": "code",
   "execution_count": 14,
   "id": "68aa64d5",
   "metadata": {},
   "outputs": [
    {
     "data": {
      "text/plain": [
       "['en-fi', 'zh-en', 'cs-en', 'en-zh', 'de-en', 'ru-en']"
      ]
     },
     "execution_count": 14,
     "metadata": {},
     "output_type": "execute_result"
    }
   ],
   "source": [
    "#To list the different translation language pairs\n",
    "corpus"
   ]
  },
  {
   "cell_type": "code",
   "execution_count": null,
   "id": "1c2e9215",
   "metadata": {},
   "outputs": [],
   "source": [
    "csen, deen, enfi, enzh, ruen, zhen"
   ]
  },
  {
   "cell_type": "code",
   "execution_count": 15,
   "id": "7ac60a37",
   "metadata": {},
   "outputs": [
    {
     "data": {
      "text/html": [
       "<div>\n",
       "<style scoped>\n",
       "    .dataframe tbody tr th:only-of-type {\n",
       "        vertical-align: middle;\n",
       "    }\n",
       "\n",
       "    .dataframe tbody tr th {\n",
       "        vertical-align: top;\n",
       "    }\n",
       "\n",
       "    .dataframe thead th {\n",
       "        text-align: right;\n",
       "    }\n",
       "</style>\n",
       "<table border=\"1\" class=\"dataframe\">\n",
       "  <thead>\n",
       "    <tr style=\"text-align: right;\">\n",
       "      <th></th>\n",
       "      <th>source</th>\n",
       "      <th>reference</th>\n",
       "      <th>translation</th>\n",
       "      <th>z-score</th>\n",
       "      <th>avg-score</th>\n",
       "      <th>annotators</th>\n",
       "    </tr>\n",
       "  </thead>\n",
       "  <tbody>\n",
       "    <tr>\n",
       "      <th>0</th>\n",
       "      <td>You can turn yourself into a pineapple, a dog ...</td>\n",
       "      <td>Voit muuttaa itsesi ananasta, koirasta tai Roy...</td>\n",
       "      <td>Voit muuttaa itsesi ananakseksi, koiraksi tai ...</td>\n",
       "      <td>-0.286195</td>\n",
       "      <td>34.20</td>\n",
       "      <td>5</td>\n",
       "    </tr>\n",
       "    <tr>\n",
       "      <th>1</th>\n",
       "      <td>Also shot were three men: two 29-year-olds and...</td>\n",
       "      <td>Myös ammuttiin kolme miestä: kaksi 29-vuotiait...</td>\n",
       "      <td>Myös kolmea miestä ammuttiin: kahta 29-vuotias...</td>\n",
       "      <td>0.547076</td>\n",
       "      <td>58.40</td>\n",
       "      <td>5</td>\n",
       "    </tr>\n",
       "    <tr>\n",
       "      <th>2</th>\n",
       "      <td>The information is stored at the cash register...</td>\n",
       "      <td>Tiedot tallennetaan kassakoneisiin joka tapauk...</td>\n",
       "      <td>Tiedot kuitenkin tallentuvat kassoilla joka ta...</td>\n",
       "      <td>1.122476</td>\n",
       "      <td>74.60</td>\n",
       "      <td>5</td>\n",
       "    </tr>\n",
       "    <tr>\n",
       "      <th>3</th>\n",
       "      <td>Xinhua says that there were traces of hydrochl...</td>\n",
       "      <td>Xinhua kertoo, että Xinyin näytteestä oli sunn...</td>\n",
       "      <td>Xinhua kertoo, että Xinyin sunnuntaina antamas...</td>\n",
       "      <td>0.383095</td>\n",
       "      <td>53.60</td>\n",
       "      <td>5</td>\n",
       "    </tr>\n",
       "    <tr>\n",
       "      <th>4</th>\n",
       "      <td>MacDonald, who was brought on board CBC's comm...</td>\n",
       "      <td>Voitaisiin kuulla CBD: n kommenttitiimin toimi...</td>\n",
       "      <td>MacDonaldin, joka tuli CBC:n selostajatiimiin ...</td>\n",
       "      <td>-0.493065</td>\n",
       "      <td>32.25</td>\n",
       "      <td>4</td>\n",
       "    </tr>\n",
       "  </tbody>\n",
       "</table>\n",
       "</div>"
      ],
      "text/plain": [
       "                                              source  \\\n",
       "0  You can turn yourself into a pineapple, a dog ...   \n",
       "1  Also shot were three men: two 29-year-olds and...   \n",
       "2  The information is stored at the cash register...   \n",
       "3  Xinhua says that there were traces of hydrochl...   \n",
       "4  MacDonald, who was brought on board CBC's comm...   \n",
       "\n",
       "                                           reference  \\\n",
       "0  Voit muuttaa itsesi ananasta, koirasta tai Roy...   \n",
       "1  Myös ammuttiin kolme miestä: kaksi 29-vuotiait...   \n",
       "2  Tiedot tallennetaan kassakoneisiin joka tapauk...   \n",
       "3  Xinhua kertoo, että Xinyin näytteestä oli sunn...   \n",
       "4  Voitaisiin kuulla CBD: n kommenttitiimin toimi...   \n",
       "\n",
       "                                         translation   z-score  avg-score  \\\n",
       "0  Voit muuttaa itsesi ananakseksi, koiraksi tai ... -0.286195      34.20   \n",
       "1  Myös kolmea miestä ammuttiin: kahta 29-vuotias...  0.547076      58.40   \n",
       "2  Tiedot kuitenkin tallentuvat kassoilla joka ta...  1.122476      74.60   \n",
       "3  Xinhua kertoo, että Xinyin sunnuntaina antamas...  0.383095      53.60   \n",
       "4  MacDonaldin, joka tuli CBC:n selostajatiimiin ... -0.493065      32.25   \n",
       "\n",
       "   annotators  \n",
       "0           5  \n",
       "1           5  \n",
       "2           5  \n",
       "3           5  \n",
       "4           4  "
      ]
     },
     "execution_count": 15,
     "metadata": {},
     "output_type": "execute_result"
    }
   ],
   "source": [
    "#To verify one of the corpus\n",
    "corpora[0].head(5)"
   ]
  },
  {
   "cell_type": "markdown",
   "id": "e7038ea9",
   "metadata": {},
   "source": [
    "<h2>Pre-processing Data</h2>"
   ]
  },
  {
   "cell_type": "markdown",
   "id": "bd8c3f65",
   "metadata": {},
   "source": [
    "As we know, one importante step before starting our experiments is to divide the corpora in training and test sets. However, this corpora is already divided and the corpora that is given to us is the training set. "
   ]
  },
  {
   "cell_type": "markdown",
   "id": "2e467cfe",
   "metadata": {},
   "source": [
    "### Corpus inspection\n"
   ]
  },
  {
   "cell_type": "markdown",
   "id": "c23cb0a4",
   "metadata": {},
   "source": [
    "Here, we are going to look into our data, understand it and think how to solve the problem."
   ]
  },
  {
   "cell_type": "markdown",
   "id": "f3880aca",
   "metadata": {},
   "source": [
    "###### Check the training set of each corpora"
   ]
  },
  {
   "cell_type": "code",
   "execution_count": 16,
   "id": "913706e6",
   "metadata": {},
   "outputs": [
    {
     "data": {
      "text/html": [
       "<div>\n",
       "<style scoped>\n",
       "    .dataframe tbody tr th:only-of-type {\n",
       "        vertical-align: middle;\n",
       "    }\n",
       "\n",
       "    .dataframe tbody tr th {\n",
       "        vertical-align: top;\n",
       "    }\n",
       "\n",
       "    .dataframe thead th {\n",
       "        text-align: right;\n",
       "    }\n",
       "</style>\n",
       "<table border=\"1\" class=\"dataframe\">\n",
       "  <thead>\n",
       "    <tr style=\"text-align: right;\">\n",
       "      <th></th>\n",
       "      <th>source</th>\n",
       "      <th>reference</th>\n",
       "      <th>translation</th>\n",
       "      <th>z-score</th>\n",
       "      <th>avg-score</th>\n",
       "      <th>annotators</th>\n",
       "    </tr>\n",
       "  </thead>\n",
       "  <tbody>\n",
       "    <tr>\n",
       "      <th>0</th>\n",
       "      <td>You can turn yourself into a pineapple, a dog ...</td>\n",
       "      <td>Voit muuttaa itsesi ananasta, koirasta tai Roy...</td>\n",
       "      <td>Voit muuttaa itsesi ananakseksi, koiraksi tai ...</td>\n",
       "      <td>-0.286195</td>\n",
       "      <td>34.20</td>\n",
       "      <td>5</td>\n",
       "    </tr>\n",
       "    <tr>\n",
       "      <th>1</th>\n",
       "      <td>Also shot were three men: two 29-year-olds and...</td>\n",
       "      <td>Myös ammuttiin kolme miestä: kaksi 29-vuotiait...</td>\n",
       "      <td>Myös kolmea miestä ammuttiin: kahta 29-vuotias...</td>\n",
       "      <td>0.547076</td>\n",
       "      <td>58.40</td>\n",
       "      <td>5</td>\n",
       "    </tr>\n",
       "    <tr>\n",
       "      <th>2</th>\n",
       "      <td>The information is stored at the cash register...</td>\n",
       "      <td>Tiedot tallennetaan kassakoneisiin joka tapauk...</td>\n",
       "      <td>Tiedot kuitenkin tallentuvat kassoilla joka ta...</td>\n",
       "      <td>1.122476</td>\n",
       "      <td>74.60</td>\n",
       "      <td>5</td>\n",
       "    </tr>\n",
       "    <tr>\n",
       "      <th>3</th>\n",
       "      <td>Xinhua says that there were traces of hydrochl...</td>\n",
       "      <td>Xinhua kertoo, että Xinyin näytteestä oli sunn...</td>\n",
       "      <td>Xinhua kertoo, että Xinyin sunnuntaina antamas...</td>\n",
       "      <td>0.383095</td>\n",
       "      <td>53.60</td>\n",
       "      <td>5</td>\n",
       "    </tr>\n",
       "    <tr>\n",
       "      <th>4</th>\n",
       "      <td>MacDonald, who was brought on board CBC's comm...</td>\n",
       "      <td>Voitaisiin kuulla CBD: n kommenttitiimin toimi...</td>\n",
       "      <td>MacDonaldin, joka tuli CBC:n selostajatiimiin ...</td>\n",
       "      <td>-0.493065</td>\n",
       "      <td>32.25</td>\n",
       "      <td>4</td>\n",
       "    </tr>\n",
       "  </tbody>\n",
       "</table>\n",
       "</div>"
      ],
      "text/plain": [
       "                                              source  \\\n",
       "0  You can turn yourself into a pineapple, a dog ...   \n",
       "1  Also shot were three men: two 29-year-olds and...   \n",
       "2  The information is stored at the cash register...   \n",
       "3  Xinhua says that there were traces of hydrochl...   \n",
       "4  MacDonald, who was brought on board CBC's comm...   \n",
       "\n",
       "                                           reference  \\\n",
       "0  Voit muuttaa itsesi ananasta, koirasta tai Roy...   \n",
       "1  Myös ammuttiin kolme miestä: kaksi 29-vuotiait...   \n",
       "2  Tiedot tallennetaan kassakoneisiin joka tapauk...   \n",
       "3  Xinhua kertoo, että Xinyin näytteestä oli sunn...   \n",
       "4  Voitaisiin kuulla CBD: n kommenttitiimin toimi...   \n",
       "\n",
       "                                         translation   z-score  avg-score  \\\n",
       "0  Voit muuttaa itsesi ananakseksi, koiraksi tai ... -0.286195      34.20   \n",
       "1  Myös kolmea miestä ammuttiin: kahta 29-vuotias...  0.547076      58.40   \n",
       "2  Tiedot kuitenkin tallentuvat kassoilla joka ta...  1.122476      74.60   \n",
       "3  Xinhua kertoo, että Xinyin sunnuntaina antamas...  0.383095      53.60   \n",
       "4  MacDonaldin, joka tuli CBC:n selostajatiimiin ... -0.493065      32.25   \n",
       "\n",
       "   annotators  \n",
       "0           5  \n",
       "1           5  \n",
       "2           5  \n",
       "3           5  \n",
       "4           4  "
      ]
     },
     "execution_count": 16,
     "metadata": {},
     "output_type": "execute_result"
    }
   ],
   "source": [
    "#To check the training set of the first corpora\n",
    "corpora[0][:5]"
   ]
  },
  {
   "cell_type": "code",
   "execution_count": 17,
   "id": "fb6ff781",
   "metadata": {},
   "outputs": [
    {
     "data": {
      "text/html": [
       "<div>\n",
       "<style scoped>\n",
       "    .dataframe tbody tr th:only-of-type {\n",
       "        vertical-align: middle;\n",
       "    }\n",
       "\n",
       "    .dataframe tbody tr th {\n",
       "        vertical-align: top;\n",
       "    }\n",
       "\n",
       "    .dataframe thead th {\n",
       "        text-align: right;\n",
       "    }\n",
       "</style>\n",
       "<table border=\"1\" class=\"dataframe\">\n",
       "  <thead>\n",
       "    <tr style=\"text-align: right;\">\n",
       "      <th></th>\n",
       "      <th>source</th>\n",
       "      <th>reference</th>\n",
       "      <th>translation</th>\n",
       "      <th>z-score</th>\n",
       "      <th>avg-score</th>\n",
       "      <th>annotators</th>\n",
       "    </tr>\n",
       "  </thead>\n",
       "  <tbody>\n",
       "    <tr>\n",
       "      <th>0</th>\n",
       "      <td>他性格活泼，这对英国赛马来说是好事，但是除此之外，他还是一位不可思议的骑师。</td>\n",
       "      <td>His character is good for the British horse, b...</td>\n",
       "      <td>He's a lively character which is good for Brit...</td>\n",
       "      <td>0.625559</td>\n",
       "      <td>92.75</td>\n",
       "      <td>4</td>\n",
       "    </tr>\n",
       "    <tr>\n",
       "      <th>1</th>\n",
       "      <td>近日刚搬至旧金山的一位28岁厨师本周被发现死于当地一家商场的楼梯间。</td>\n",
       "      <td>A 28 chef, who has just moved to San Francisco...</td>\n",
       "      <td>A 28-year-old chef who had recently moved to S...</td>\n",
       "      <td>0.550952</td>\n",
       "      <td>92.00</td>\n",
       "      <td>4</td>\n",
       "    </tr>\n",
       "    <tr>\n",
       "      <th>2</th>\n",
       "      <td>去年，有官员表示，胡克先生的团队所得出的结论是针对伊斯兰国炼油厂的空袭并未大幅削减恐怖组织的...</td>\n",
       "      <td>Last year, officials said Mr. Hooker's team ha...</td>\n",
       "      <td>Last year, officials said, Mr. Hooker's team c...</td>\n",
       "      <td>0.540814</td>\n",
       "      <td>89.00</td>\n",
       "      <td>5</td>\n",
       "    </tr>\n",
       "    <tr>\n",
       "      <th>3</th>\n",
       "      <td>尤其值得玩味的是政府对于饥饿民众们的回应，比如总统市民赫伯特·胡佛“别人的事我可管不了”的态度。</td>\n",
       "      <td>It is particularly interesting to note the gov...</td>\n",
       "      <td>Especially savory are the accounts of the gove...</td>\n",
       "      <td>-0.793944</td>\n",
       "      <td>49.50</td>\n",
       "      <td>4</td>\n",
       "    </tr>\n",
       "    <tr>\n",
       "      <th>4</th>\n",
       "      <td>不过，从20世纪90年代至今，人类共进行了18次火星探测，而月球探测只进行了14次。</td>\n",
       "      <td>However, from the 1990s to the present, human ...</td>\n",
       "      <td>However, ever since the 1990s, a total of 18 h...</td>\n",
       "      <td>0.046532</td>\n",
       "      <td>77.50</td>\n",
       "      <td>4</td>\n",
       "    </tr>\n",
       "  </tbody>\n",
       "</table>\n",
       "</div>"
      ],
      "text/plain": [
       "                                              source  \\\n",
       "0             他性格活泼，这对英国赛马来说是好事，但是除此之外，他还是一位不可思议的骑师。   \n",
       "1                 近日刚搬至旧金山的一位28岁厨师本周被发现死于当地一家商场的楼梯间。   \n",
       "2  去年，有官员表示，胡克先生的团队所得出的结论是针对伊斯兰国炼油厂的空袭并未大幅削减恐怖组织的...   \n",
       "3   尤其值得玩味的是政府对于饥饿民众们的回应，比如总统市民赫伯特·胡佛“别人的事我可管不了”的态度。   \n",
       "4         不过，从20世纪90年代至今，人类共进行了18次火星探测，而月球探测只进行了14次。   \n",
       "\n",
       "                                           reference  \\\n",
       "0  His character is good for the British horse, b...   \n",
       "1  A 28 chef, who has just moved to San Francisco...   \n",
       "2  Last year, officials said Mr. Hooker's team ha...   \n",
       "3  It is particularly interesting to note the gov...   \n",
       "4  However, from the 1990s to the present, human ...   \n",
       "\n",
       "                                         translation   z-score  avg-score  \\\n",
       "0  He's a lively character which is good for Brit...  0.625559      92.75   \n",
       "1  A 28-year-old chef who had recently moved to S...  0.550952      92.00   \n",
       "2  Last year, officials said, Mr. Hooker's team c...  0.540814      89.00   \n",
       "3  Especially savory are the accounts of the gove... -0.793944      49.50   \n",
       "4  However, ever since the 1990s, a total of 18 h...  0.046532      77.50   \n",
       "\n",
       "   annotators  \n",
       "0           4  \n",
       "1           4  \n",
       "2           5  \n",
       "3           4  \n",
       "4           4  "
      ]
     },
     "execution_count": 17,
     "metadata": {},
     "output_type": "execute_result"
    }
   ],
   "source": [
    "#To check the training set of the second corpora\n",
    "corpora[1][:5]"
   ]
  },
  {
   "cell_type": "code",
   "execution_count": 18,
   "id": "2d046dcc",
   "metadata": {},
   "outputs": [
    {
     "data": {
      "text/html": [
       "<div>\n",
       "<style scoped>\n",
       "    .dataframe tbody tr th:only-of-type {\n",
       "        vertical-align: middle;\n",
       "    }\n",
       "\n",
       "    .dataframe tbody tr th {\n",
       "        vertical-align: top;\n",
       "    }\n",
       "\n",
       "    .dataframe thead th {\n",
       "        text-align: right;\n",
       "    }\n",
       "</style>\n",
       "<table border=\"1\" class=\"dataframe\">\n",
       "  <thead>\n",
       "    <tr style=\"text-align: right;\">\n",
       "      <th></th>\n",
       "      <th>source</th>\n",
       "      <th>reference</th>\n",
       "      <th>translation</th>\n",
       "      <th>z-score</th>\n",
       "      <th>avg-score</th>\n",
       "      <th>annotators</th>\n",
       "    </tr>\n",
       "  </thead>\n",
       "  <tbody>\n",
       "    <tr>\n",
       "      <th>0</th>\n",
       "      <td>Uchopíte pak zbraň mezi své předloktí a rameno...</td>\n",
       "      <td>You will then grab the weapon between your for...</td>\n",
       "      <td>You then grasp the gun between your forearm an...</td>\n",
       "      <td>-0.675383</td>\n",
       "      <td>60.000000</td>\n",
       "      <td>3</td>\n",
       "    </tr>\n",
       "    <tr>\n",
       "      <th>1</th>\n",
       "      <td>Ale je-li New York změna, pak je to také znovu...</td>\n",
       "      <td>But if New York is changed, then it's also a r...</td>\n",
       "      <td>But if New York is change, it is also reinvent...</td>\n",
       "      <td>-0.829403</td>\n",
       "      <td>44.000000</td>\n",
       "      <td>2</td>\n",
       "    </tr>\n",
       "    <tr>\n",
       "      <th>2</th>\n",
       "      <td>Dlouho a intenzivně jsem během léta přemýšlel,...</td>\n",
       "      <td>I have been thinking over and over again over ...</td>\n",
       "      <td>I have thought long and hard over the course o...</td>\n",
       "      <td>0.803185</td>\n",
       "      <td>96.500000</td>\n",
       "      <td>2</td>\n",
       "    </tr>\n",
       "    <tr>\n",
       "      <th>3</th>\n",
       "      <td>Najdou si jiný způsob, jak někde podvádět.</td>\n",
       "      <td>They find another way to cheat somewhere.</td>\n",
       "      <td>They will find another way how to defraud others.</td>\n",
       "      <td>0.563149</td>\n",
       "      <td>90.500000</td>\n",
       "      <td>2</td>\n",
       "    </tr>\n",
       "    <tr>\n",
       "      <th>4</th>\n",
       "      <td>Zpráva o výměně v čele prezidentovy administra...</td>\n",
       "      <td>The report on the replacement of the president...</td>\n",
       "      <td>The news of the replacement at the top of the ...</td>\n",
       "      <td>0.021549</td>\n",
       "      <td>74.666667</td>\n",
       "      <td>3</td>\n",
       "    </tr>\n",
       "  </tbody>\n",
       "</table>\n",
       "</div>"
      ],
      "text/plain": [
       "                                              source  \\\n",
       "0  Uchopíte pak zbraň mezi své předloktí a rameno...   \n",
       "1  Ale je-li New York změna, pak je to také znovu...   \n",
       "2  Dlouho a intenzivně jsem během léta přemýšlel,...   \n",
       "3         Najdou si jiný způsob, jak někde podvádět.   \n",
       "4  Zpráva o výměně v čele prezidentovy administra...   \n",
       "\n",
       "                                           reference  \\\n",
       "0  You will then grab the weapon between your for...   \n",
       "1  But if New York is changed, then it's also a r...   \n",
       "2  I have been thinking over and over again over ...   \n",
       "3          They find another way to cheat somewhere.   \n",
       "4  The report on the replacement of the president...   \n",
       "\n",
       "                                         translation   z-score  avg-score  \\\n",
       "0  You then grasp the gun between your forearm an... -0.675383  60.000000   \n",
       "1  But if New York is change, it is also reinvent... -0.829403  44.000000   \n",
       "2  I have thought long and hard over the course o...  0.803185  96.500000   \n",
       "3  They will find another way how to defraud others.  0.563149  90.500000   \n",
       "4  The news of the replacement at the top of the ...  0.021549  74.666667   \n",
       "\n",
       "   annotators  \n",
       "0           3  \n",
       "1           2  \n",
       "2           2  \n",
       "3           2  \n",
       "4           3  "
      ]
     },
     "execution_count": 18,
     "metadata": {},
     "output_type": "execute_result"
    }
   ],
   "source": [
    "#To check the training set of the third corpora\n",
    "corpora[2][:5]"
   ]
  },
  {
   "cell_type": "code",
   "execution_count": 19,
   "id": "ae83e6fb",
   "metadata": {},
   "outputs": [
    {
     "data": {
      "text/html": [
       "<div>\n",
       "<style scoped>\n",
       "    .dataframe tbody tr th:only-of-type {\n",
       "        vertical-align: middle;\n",
       "    }\n",
       "\n",
       "    .dataframe tbody tr th {\n",
       "        vertical-align: top;\n",
       "    }\n",
       "\n",
       "    .dataframe thead th {\n",
       "        text-align: right;\n",
       "    }\n",
       "</style>\n",
       "<table border=\"1\" class=\"dataframe\">\n",
       "  <thead>\n",
       "    <tr style=\"text-align: right;\">\n",
       "      <th></th>\n",
       "      <th>source</th>\n",
       "      <th>reference</th>\n",
       "      <th>translation</th>\n",
       "      <th>z-score</th>\n",
       "      <th>avg-score</th>\n",
       "      <th>annotators</th>\n",
       "    </tr>\n",
       "  </thead>\n",
       "  <tbody>\n",
       "    <tr>\n",
       "      <th>0</th>\n",
       "      <td>\"In the GISS model's simulation, Venus' slow s...</td>\n",
       "      <td>GSIS的科学家AnthonyDelGenio在新闻稿中解释说：“在GISS模型的模拟模型中...</td>\n",
       "      <td>戈达德太空研究所科学家安东尼·德尔·杰尼奥在新闻发布会上解释说：“在戈达德太空研究所的模型模...</td>\n",
       "      <td>-1.171867</td>\n",
       "      <td>50.0</td>\n",
       "      <td>1</td>\n",
       "    </tr>\n",
       "    <tr>\n",
       "      <th>1</th>\n",
       "      <td>Ai Yanhan of China in the Women's 4 x 200m Fre...</td>\n",
       "      <td>中国在英国女性4x200mFreestreyWTE中的最后被称为：“中国14岁的孩子从球下降...</td>\n",
       "      <td>参加女子4x200米自由泳接力赛决赛的中国小将艾衍含被这样描述：“那名14岁的中国小姑娘犯了...</td>\n",
       "      <td>-2.255403</td>\n",
       "      <td>26.5</td>\n",
       "      <td>2</td>\n",
       "    </tr>\n",
       "    <tr>\n",
       "      <th>2</th>\n",
       "      <td>Then came 2012, when nothing much went right f...</td>\n",
       "      <td>然后来到2012年，当她和她的队友们没有什么好处。</td>\n",
       "      <td>2012年，她和她的队友都不被看好。</td>\n",
       "      <td>-2.508996</td>\n",
       "      <td>21.0</td>\n",
       "      <td>1</td>\n",
       "    </tr>\n",
       "    <tr>\n",
       "      <th>3</th>\n",
       "      <td>Since last year, Guodian Group has exported a ...</td>\n",
       "      <td>自去年以来，GoudianGroup从南非通过南非港口出口了163套风力发电项目。</td>\n",
       "      <td>自去年以来，国电集团共计有163套风电项目陆续从连云港港出口南非。</td>\n",
       "      <td>-2.416780</td>\n",
       "      <td>23.0</td>\n",
       "      <td>1</td>\n",
       "    </tr>\n",
       "    <tr>\n",
       "      <th>4</th>\n",
       "      <td>Some alleged that the Kempinski hotel simply \"...</td>\n",
       "      <td>一些人指称，Kempinski旅馆只是\"被捕\"，以满足阿拉伯客户的要求。</td>\n",
       "      <td>有人认为凯宾斯基酒店简直是为了满足阿拉伯客户的要求而“卑躬屈膝”。</td>\n",
       "      <td>-1.489676</td>\n",
       "      <td>45.0</td>\n",
       "      <td>7</td>\n",
       "    </tr>\n",
       "  </tbody>\n",
       "</table>\n",
       "</div>"
      ],
      "text/plain": [
       "                                              source  \\\n",
       "0  \"In the GISS model's simulation, Venus' slow s...   \n",
       "1  Ai Yanhan of China in the Women's 4 x 200m Fre...   \n",
       "2  Then came 2012, when nothing much went right f...   \n",
       "3  Since last year, Guodian Group has exported a ...   \n",
       "4  Some alleged that the Kempinski hotel simply \"...   \n",
       "\n",
       "                                           reference  \\\n",
       "0  GSIS的科学家AnthonyDelGenio在新闻稿中解释说：“在GISS模型的模拟模型中...   \n",
       "1  中国在英国女性4x200mFreestreyWTE中的最后被称为：“中国14岁的孩子从球下降...   \n",
       "2                          然后来到2012年，当她和她的队友们没有什么好处。   \n",
       "3          自去年以来，GoudianGroup从南非通过南非港口出口了163套风力发电项目。   \n",
       "4               一些人指称，Kempinski旅馆只是\"被捕\"，以满足阿拉伯客户的要求。   \n",
       "\n",
       "                                         translation   z-score  avg-score  \\\n",
       "0  戈达德太空研究所科学家安东尼·德尔·杰尼奥在新闻发布会上解释说：“在戈达德太空研究所的模型模... -1.171867       50.0   \n",
       "1  参加女子4x200米自由泳接力赛决赛的中国小将艾衍含被这样描述：“那名14岁的中国小姑娘犯了... -2.255403       26.5   \n",
       "2                                 2012年，她和她的队友都不被看好。 -2.508996       21.0   \n",
       "3                  自去年以来，国电集团共计有163套风电项目陆续从连云港港出口南非。 -2.416780       23.0   \n",
       "4                  有人认为凯宾斯基酒店简直是为了满足阿拉伯客户的要求而“卑躬屈膝”。 -1.489676       45.0   \n",
       "\n",
       "   annotators  \n",
       "0           1  \n",
       "1           2  \n",
       "2           1  \n",
       "3           1  \n",
       "4           7  "
      ]
     },
     "execution_count": 19,
     "metadata": {},
     "output_type": "execute_result"
    }
   ],
   "source": [
    "#To check the training set of the fourth corpora\n",
    "corpora[3][:5]"
   ]
  },
  {
   "cell_type": "code",
   "execution_count": 20,
   "id": "1f4569a0",
   "metadata": {},
   "outputs": [
    {
     "data": {
      "text/html": [
       "<div>\n",
       "<style scoped>\n",
       "    .dataframe tbody tr th:only-of-type {\n",
       "        vertical-align: middle;\n",
       "    }\n",
       "\n",
       "    .dataframe tbody tr th {\n",
       "        vertical-align: top;\n",
       "    }\n",
       "\n",
       "    .dataframe thead th {\n",
       "        text-align: right;\n",
       "    }\n",
       "</style>\n",
       "<table border=\"1\" class=\"dataframe\">\n",
       "  <thead>\n",
       "    <tr style=\"text-align: right;\">\n",
       "      <th></th>\n",
       "      <th>source</th>\n",
       "      <th>reference</th>\n",
       "      <th>translation</th>\n",
       "      <th>z-score</th>\n",
       "      <th>avg-score</th>\n",
       "      <th>annotators</th>\n",
       "    </tr>\n",
       "  </thead>\n",
       "  <tbody>\n",
       "    <tr>\n",
       "      <th>0</th>\n",
       "      <td>Ihr Zeitlupentempo maßen sie, als sie vor Spit...</td>\n",
       "      <td>Her timeless pace measures them when they equi...</td>\n",
       "      <td>Their slow speed was measured by researchers o...</td>\n",
       "      <td>-0.345024</td>\n",
       "      <td>76.0</td>\n",
       "      <td>1</td>\n",
       "    </tr>\n",
       "    <tr>\n",
       "      <th>1</th>\n",
       "      <td>Er sagte, dass die Bereiche ruhige Treffpunkte...</td>\n",
       "      <td>He said the areas offer quiet meeting points b...</td>\n",
       "      <td>He said the spaces provided calm meeting point...</td>\n",
       "      <td>0.903800</td>\n",
       "      <td>97.5</td>\n",
       "      <td>2</td>\n",
       "    </tr>\n",
       "    <tr>\n",
       "      <th>2</th>\n",
       "      <td>Für die Geschäftsleute an der B 27 ist es nur ...</td>\n",
       "      <td>For businessmen at the B 27, it's only a small...</td>\n",
       "      <td>This is only a small consolation for businesse...</td>\n",
       "      <td>0.700503</td>\n",
       "      <td>94.0</td>\n",
       "      <td>1</td>\n",
       "    </tr>\n",
       "    <tr>\n",
       "      <th>3</th>\n",
       "      <td>Diese Fähigkeit sei möglicherweise angeboren o...</td>\n",
       "      <td>This ability may be born or developed with gen...</td>\n",
       "      <td>This ability may be innate, or may develop as ...</td>\n",
       "      <td>-1.256572</td>\n",
       "      <td>51.5</td>\n",
       "      <td>2</td>\n",
       "    </tr>\n",
       "    <tr>\n",
       "      <th>4</th>\n",
       "      <td>Weil sie Wassertemperaturen um die sechs Grad ...</td>\n",
       "      <td>Because they prefer water temperatures around ...</td>\n",
       "      <td>They generally only come to the surface in win...</td>\n",
       "      <td>0.293909</td>\n",
       "      <td>87.0</td>\n",
       "      <td>2</td>\n",
       "    </tr>\n",
       "  </tbody>\n",
       "</table>\n",
       "</div>"
      ],
      "text/plain": [
       "                                              source  \\\n",
       "0  Ihr Zeitlupentempo maßen sie, als sie vor Spit...   \n",
       "1  Er sagte, dass die Bereiche ruhige Treffpunkte...   \n",
       "2  Für die Geschäftsleute an der B 27 ist es nur ...   \n",
       "3  Diese Fähigkeit sei möglicherweise angeboren o...   \n",
       "4  Weil sie Wassertemperaturen um die sechs Grad ...   \n",
       "\n",
       "                                           reference  \\\n",
       "0  Her timeless pace measures them when they equi...   \n",
       "1  He said the areas offer quiet meeting points b...   \n",
       "2  For businessmen at the B 27, it's only a small...   \n",
       "3  This ability may be born or developed with gen...   \n",
       "4  Because they prefer water temperatures around ...   \n",
       "\n",
       "                                         translation   z-score  avg-score  \\\n",
       "0  Their slow speed was measured by researchers o... -0.345024       76.0   \n",
       "1  He said the spaces provided calm meeting point...  0.903800       97.5   \n",
       "2  This is only a small consolation for businesse...  0.700503       94.0   \n",
       "3  This ability may be innate, or may develop as ... -1.256572       51.5   \n",
       "4  They generally only come to the surface in win...  0.293909       87.0   \n",
       "\n",
       "   annotators  \n",
       "0           1  \n",
       "1           2  \n",
       "2           1  \n",
       "3           2  \n",
       "4           2  "
      ]
     },
     "execution_count": 20,
     "metadata": {},
     "output_type": "execute_result"
    }
   ],
   "source": [
    "#To check the training set of the fifth corpora\n",
    "corpora[4][:5]"
   ]
  },
  {
   "cell_type": "code",
   "execution_count": 21,
   "id": "28ab6b06",
   "metadata": {},
   "outputs": [
    {
     "data": {
      "text/html": [
       "<div>\n",
       "<style scoped>\n",
       "    .dataframe tbody tr th:only-of-type {\n",
       "        vertical-align: middle;\n",
       "    }\n",
       "\n",
       "    .dataframe tbody tr th {\n",
       "        vertical-align: top;\n",
       "    }\n",
       "\n",
       "    .dataframe thead th {\n",
       "        text-align: right;\n",
       "    }\n",
       "</style>\n",
       "<table border=\"1\" class=\"dataframe\">\n",
       "  <thead>\n",
       "    <tr style=\"text-align: right;\">\n",
       "      <th></th>\n",
       "      <th>source</th>\n",
       "      <th>reference</th>\n",
       "      <th>translation</th>\n",
       "      <th>z-score</th>\n",
       "      <th>avg-score</th>\n",
       "      <th>annotators</th>\n",
       "    </tr>\n",
       "  </thead>\n",
       "  <tbody>\n",
       "    <tr>\n",
       "      <th>0</th>\n",
       "      <td>В этом году крымчане получат уведомление на оп...</td>\n",
       "      <td>This year the Crimeans will receive a notice f...</td>\n",
       "      <td>This year, residents of Crimea will receive a ...</td>\n",
       "      <td>0.878043</td>\n",
       "      <td>92.0</td>\n",
       "      <td>1</td>\n",
       "    </tr>\n",
       "    <tr>\n",
       "      <th>1</th>\n",
       "      <td>Энергетические компании находятся под давление...</td>\n",
       "      <td>Energy companies are under pressure due to low...</td>\n",
       "      <td>Energy companies are under pressure from lower...</td>\n",
       "      <td>0.511473</td>\n",
       "      <td>81.5</td>\n",
       "      <td>2</td>\n",
       "    </tr>\n",
       "    <tr>\n",
       "      <th>2</th>\n",
       "      <td>В бархатный сезон покупают туры в основном оди...</td>\n",
       "      <td>In the velvet season, tours are mostly single ...</td>\n",
       "      <td>In the autumn season, tours are mainly purchas...</td>\n",
       "      <td>0.947866</td>\n",
       "      <td>94.0</td>\n",
       "      <td>1</td>\n",
       "    </tr>\n",
       "    <tr>\n",
       "      <th>3</th>\n",
       "      <td>Возле него на всякий случай стоит познавательн...</td>\n",
       "      <td>Near him, just in case, there is a cognitive t...</td>\n",
       "      <td>Beside it, for good measure, there is an infor...</td>\n",
       "      <td>1.052601</td>\n",
       "      <td>97.0</td>\n",
       "      <td>1</td>\n",
       "    </tr>\n",
       "    <tr>\n",
       "      <th>4</th>\n",
       "      <td>Действительно ли Эфиопия находится на грани ра...</td>\n",
       "      <td>Is Ethiopia on the verge of schism?</td>\n",
       "      <td>Is Ethiopia about to crack?</td>\n",
       "      <td>0.738397</td>\n",
       "      <td>88.0</td>\n",
       "      <td>1</td>\n",
       "    </tr>\n",
       "  </tbody>\n",
       "</table>\n",
       "</div>"
      ],
      "text/plain": [
       "                                              source  \\\n",
       "0  В этом году крымчане получат уведомление на оп...   \n",
       "1  Энергетические компании находятся под давление...   \n",
       "2  В бархатный сезон покупают туры в основном оди...   \n",
       "3  Возле него на всякий случай стоит познавательн...   \n",
       "4  Действительно ли Эфиопия находится на грани ра...   \n",
       "\n",
       "                                           reference  \\\n",
       "0  This year the Crimeans will receive a notice f...   \n",
       "1  Energy companies are under pressure due to low...   \n",
       "2  In the velvet season, tours are mostly single ...   \n",
       "3  Near him, just in case, there is a cognitive t...   \n",
       "4                Is Ethiopia on the verge of schism?   \n",
       "\n",
       "                                         translation   z-score  avg-score  \\\n",
       "0  This year, residents of Crimea will receive a ...  0.878043       92.0   \n",
       "1  Energy companies are under pressure from lower...  0.511473       81.5   \n",
       "2  In the autumn season, tours are mainly purchas...  0.947866       94.0   \n",
       "3  Beside it, for good measure, there is an infor...  1.052601       97.0   \n",
       "4                        Is Ethiopia about to crack?  0.738397       88.0   \n",
       "\n",
       "   annotators  \n",
       "0           1  \n",
       "1           2  \n",
       "2           1  \n",
       "3           1  \n",
       "4           1  "
      ]
     },
     "execution_count": 21,
     "metadata": {},
     "output_type": "execute_result"
    }
   ],
   "source": [
    "#To check the training set of the sixth corpora\n",
    "corpora[5][:5]"
   ]
  },
  {
   "cell_type": "markdown",
   "id": "ebffd647",
   "metadata": {},
   "source": [
    "###### Number of annotators each corpora"
   ]
  },
  {
   "cell_type": "code",
   "execution_count": 22,
   "id": "ea647943",
   "metadata": {},
   "outputs": [
    {
     "data": {
      "text/plain": [
       "1    5768\n",
       "2     690\n",
       "3     120\n",
       "4      80\n",
       "5      79\n",
       "6      11\n",
       "Name: annotators, dtype: int64"
      ]
     },
     "execution_count": 22,
     "metadata": {},
     "output_type": "execute_result"
    }
   ],
   "source": [
    "#To use the function label_counter on corpora[0]\n",
    "label_counter(corpora[0], \"annotators\")"
   ]
  },
  {
   "cell_type": "code",
   "execution_count": 23,
   "id": "04112767",
   "metadata": {},
   "outputs": [
    {
     "data": {
      "text/plain": [
       "1    17734\n",
       "2     7126\n",
       "3      895\n",
       "4      572\n",
       "5       45\n",
       "6       33\n",
       "8       10\n",
       "7        2\n",
       "9        1\n",
       "Name: annotators, dtype: int64"
      ]
     },
     "execution_count": 23,
     "metadata": {},
     "output_type": "execute_result"
    }
   ],
   "source": [
    "#To use the function label_counter on corpora[1]\n",
    "label_counter(corpora[1], \"annotators\")"
   ]
  },
  {
   "cell_type": "code",
   "execution_count": 24,
   "id": "2e44eab9",
   "metadata": {},
   "outputs": [
    {
     "data": {
      "text/plain": [
       "2    5648\n",
       "1    3854\n",
       "3    1768\n",
       "4     197\n",
       "5      92\n",
       "6      16\n",
       "7       8\n",
       "8       2\n",
       "Name: annotators, dtype: int64"
      ]
     },
     "execution_count": 24,
     "metadata": {},
     "output_type": "execute_result"
    }
   ],
   "source": [
    "#To use the function label_counter on corpora[2]\n",
    "label_counter(corpora[2], \"annotators\")"
   ]
  },
  {
   "cell_type": "code",
   "execution_count": 25,
   "id": "557210fc",
   "metadata": {},
   "outputs": [
    {
     "data": {
      "text/plain": [
       "1     7266\n",
       "2     2040\n",
       "3      337\n",
       "6      131\n",
       "4      113\n",
       "5      106\n",
       "7      102\n",
       "12      48\n",
       "8       40\n",
       "9       15\n",
       "13      12\n",
       "16       8\n",
       "17       2\n",
       "10       1\n",
       "Name: annotators, dtype: int64"
      ]
     },
     "execution_count": 25,
     "metadata": {},
     "output_type": "execute_result"
    }
   ],
   "source": [
    "#To use the function label_counter on corpora[3]\n",
    "label_counter(corpora[3], \"annotators\")"
   ]
  },
  {
   "cell_type": "code",
   "execution_count": 26,
   "id": "c2de5aec",
   "metadata": {},
   "outputs": [
    {
     "data": {
      "text/plain": [
       "1    13599\n",
       "2     6443\n",
       "4      777\n",
       "3      766\n",
       "6       61\n",
       "5       32\n",
       "8       18\n",
       "7        6\n",
       "9        2\n",
       "Name: annotators, dtype: int64"
      ]
     },
     "execution_count": 26,
     "metadata": {},
     "output_type": "execute_result"
    }
   ],
   "source": [
    "#To use the function label_counter on corpora[4]\n",
    "label_counter(corpora[4], \"annotators\")"
   ]
  },
  {
   "cell_type": "code",
   "execution_count": 27,
   "id": "bfbadfec",
   "metadata": {},
   "outputs": [
    {
     "data": {
      "text/plain": [
       "1    13309\n",
       "2     4246\n",
       "4      307\n",
       "3      110\n",
       "5        4\n",
       "6        1\n",
       "Name: annotators, dtype: int64"
      ]
     },
     "execution_count": 27,
     "metadata": {},
     "output_type": "execute_result"
    }
   ],
   "source": [
    "#To use the function label_counter on corpora[5]\n",
    "label_counter(corpora[5], \"annotators\")"
   ]
  },
  {
   "cell_type": "markdown",
   "id": "465f8da4",
   "metadata": {},
   "source": [
    "###### Evaluation mean of avg-score in each corpora"
   ]
  },
  {
   "cell_type": "code",
   "execution_count": 28,
   "id": "7c72332e",
   "metadata": {},
   "outputs": [
    {
     "data": {
      "text/plain": [
       "45.121"
      ]
     },
     "execution_count": 28,
     "metadata": {},
     "output_type": "execute_result"
    }
   ],
   "source": [
    "#To use the function label_mean on corpora[0]\n",
    "round(label_mean(corpora[0], \"avg-score\"),3)"
   ]
  },
  {
   "cell_type": "code",
   "execution_count": 29,
   "id": "68c615c2",
   "metadata": {},
   "outputs": [
    {
     "data": {
      "text/plain": [
       "66.058"
      ]
     },
     "execution_count": 29,
     "metadata": {},
     "output_type": "execute_result"
    }
   ],
   "source": [
    "#To use the function label_mean on corpora[0]\n",
    "round(label_mean(corpora[1], \"avg-score\"),3)"
   ]
  },
  {
   "cell_type": "code",
   "execution_count": 30,
   "id": "849e9e5d",
   "metadata": {},
   "outputs": [
    {
     "data": {
      "text/plain": [
       "69.24"
      ]
     },
     "execution_count": 30,
     "metadata": {},
     "output_type": "execute_result"
    }
   ],
   "source": [
    "#To use the function label_mean on corpora[0]\n",
    "round(label_mean(corpora[2], \"avg-score\"),3)"
   ]
  },
  {
   "cell_type": "code",
   "execution_count": 31,
   "id": "9eb306ee",
   "metadata": {},
   "outputs": [
    {
     "data": {
      "text/plain": [
       "65.979"
      ]
     },
     "execution_count": 31,
     "metadata": {},
     "output_type": "execute_result"
    }
   ],
   "source": [
    "#To use the function label_mean on corpora[0]\n",
    "round(label_mean(corpora[3], \"avg-score\"),3)"
   ]
  },
  {
   "cell_type": "code",
   "execution_count": 32,
   "id": "5570ee11",
   "metadata": {},
   "outputs": [
    {
     "data": {
      "text/plain": [
       "71.853"
      ]
     },
     "execution_count": 32,
     "metadata": {},
     "output_type": "execute_result"
    }
   ],
   "source": [
    "#To use the function label_mean on corpora[0]\n",
    "round(label_mean(corpora[4], \"avg-score\"),3)"
   ]
  },
  {
   "cell_type": "code",
   "execution_count": 33,
   "id": "23115850",
   "metadata": {},
   "outputs": [
    {
     "data": {
      "text/plain": [
       "74.513"
      ]
     },
     "execution_count": 33,
     "metadata": {},
     "output_type": "execute_result"
    }
   ],
   "source": [
    "#To use the function label_mean on corpora[0]\n",
    "round(label_mean(corpora[5], \"avg-score\"),3)"
   ]
  },
  {
   "cell_type": "markdown",
   "id": "16eae63c",
   "metadata": {},
   "source": [
    "###### Frequency of each word"
   ]
  },
  {
   "cell_type": "code",
   "execution_count": 34,
   "id": "b3fc7063",
   "metadata": {
    "scrolled": true
   },
   "outputs": [
    {
     "data": {
      "text/plain": [
       "ja      2751\n",
       "on      2530\n",
       "että    1218\n",
       "oli      926\n",
       "ei       618\n",
       "joka     595\n",
       "-        512\n",
       "hän      504\n",
       "ovat     463\n",
       "se       390\n",
       "dtype: int64"
      ]
     },
     "execution_count": 34,
     "metadata": {},
     "output_type": "execute_result"
    }
   ],
   "source": [
    "#To use the funciton word_counter on corpora[0]\n",
    "word_counter(list(corpora[0]['reference']))[:10]"
   ]
  },
  {
   "cell_type": "code",
   "execution_count": 35,
   "id": "c928bc81",
   "metadata": {},
   "outputs": [
    {
     "data": {
      "text/plain": [
       "ja      2506\n",
       "on      1951\n",
       "että    1343\n",
       "oli      703\n",
       "ei       665\n",
       "ovat     417\n",
       "hän      403\n",
       "joka     376\n",
       "kun      356\n",
       "kuin     305\n",
       "dtype: int64"
      ]
     },
     "execution_count": 35,
     "metadata": {},
     "output_type": "execute_result"
    }
   ],
   "source": [
    "word_counter(list(corpora[0]['translation']))[:10]"
   ]
  },
  {
   "cell_type": "code",
   "execution_count": 36,
   "id": "749e33da",
   "metadata": {},
   "outputs": [
    {
     "data": {
      "text/plain": [
       "目前     133\n",
       "因此     112\n",
       "据了解    108\n",
       "去年      94\n",
       "然而      90\n",
       "据悉      80\n",
       "同时      79\n",
       "此前      73\n",
       "周四      69\n",
       "其中      67\n",
       "dtype: int64"
      ]
     },
     "execution_count": 36,
     "metadata": {},
     "output_type": "execute_result"
    }
   ],
   "source": [
    "#To use the funciton word_counter on corpora[1]\n",
    "word_counter1(list(corpora[1]['reference']))[:10]"
   ]
  },
  {
   "cell_type": "code",
   "execution_count": 37,
   "id": "d764d336",
   "metadata": {},
   "outputs": [
    {
     "data": {
      "text/plain": [
       "the     44398\n",
       "of      21892\n",
       "and     18043\n",
       "to      16658\n",
       "in      11697\n",
       "a       11067\n",
       "is       6729\n",
       "for      5771\n",
       "that     5591\n",
       "on       4676\n",
       "dtype: int64"
      ]
     },
     "execution_count": 37,
     "metadata": {},
     "output_type": "execute_result"
    }
   ],
   "source": [
    "word_counter(list(corpora[1]['translation']))[:10]"
   ]
  },
  {
   "cell_type": "code",
   "execution_count": 38,
   "id": "e238d46a",
   "metadata": {},
   "outputs": [
    {
     "data": {
      "text/plain": [
       "the     14652\n",
       "of       6669\n",
       "to       5461\n",
       "and      5287\n",
       "in       4813\n",
       "a        4399\n",
       "that     2312\n",
       "is       2203\n",
       "for      2066\n",
       "The      1864\n",
       "dtype: int64"
      ]
     },
     "execution_count": 38,
     "metadata": {},
     "output_type": "execute_result"
    }
   ],
   "source": [
    "#To use the funciton word_counter on corpora[2]\n",
    "word_counter(list(corpora[2]['reference']))[:10]"
   ]
  },
  {
   "cell_type": "code",
   "execution_count": 39,
   "id": "71b7554a",
   "metadata": {},
   "outputs": [
    {
     "data": {
      "text/plain": [
       "the     12525\n",
       "to       6211\n",
       "of       5540\n",
       "and      5057\n",
       "a        4777\n",
       "in       4265\n",
       "is       2507\n",
       "that     2002\n",
       "for      1896\n",
       "was      1746\n",
       "dtype: int64"
      ]
     },
     "execution_count": 39,
     "metadata": {},
     "output_type": "execute_result"
    }
   ],
   "source": [
    "word_counter(list(corpora[2]['translation']))[:10]"
   ]
  },
  {
   "cell_type": "code",
   "execution_count": 40,
   "id": "427cff5e",
   "metadata": {
    "scrolled": true
   },
   "outputs": [
    {
     "data": {
      "text/plain": [
       "，    1434\n",
       "1     154\n",
       "-     123\n",
       "0     121\n",
       "。     114\n",
       "2      96\n",
       "”      62\n",
       "：      62\n",
       "月      48\n",
       "在      46\n",
       "dtype: int64"
      ]
     },
     "execution_count": 40,
     "metadata": {},
     "output_type": "execute_result"
    }
   ],
   "source": [
    "#To use the funciton word_counter on corpora[3]\n",
    "word_counter(list(corpora[3]['reference']))[:10]"
   ]
  },
  {
   "cell_type": "code",
   "execution_count": 41,
   "id": "fba434e4",
   "metadata": {},
   "outputs": [
    {
     "data": {
      "text/plain": [
       "CBC        45\n",
       "Galicia    33\n",
       "Louis      33\n",
       "Hamlets    28\n",
       "Tower      28\n",
       "Frank      27\n",
       "Skeldon    22\n",
       "NICE       19\n",
       "BMA        18\n",
       "Primark    18\n",
       "dtype: int64"
      ]
     },
     "execution_count": 41,
     "metadata": {},
     "output_type": "execute_result"
    }
   ],
   "source": [
    "word_counter(list(corpora[3]['translation']))[:10]"
   ]
  },
  {
   "cell_type": "code",
   "execution_count": 42,
   "id": "19589e45",
   "metadata": {},
   "outputs": [
    {
     "data": {
      "text/plain": [
       "the     31180\n",
       "of      13073\n",
       "to      10423\n",
       "in       9705\n",
       "and      9636\n",
       "a        9046\n",
       "is       4653\n",
       "that     4190\n",
       "for      4072\n",
       "The      3786\n",
       "dtype: int64"
      ]
     },
     "execution_count": 42,
     "metadata": {},
     "output_type": "execute_result"
    }
   ],
   "source": [
    "#To use the funciton word_counter on corpora[4]\n",
    "word_counter(list(corpora[4]['reference']))[:10]"
   ]
  },
  {
   "cell_type": "code",
   "execution_count": 43,
   "id": "6c0fcd79",
   "metadata": {},
   "outputs": [
    {
     "data": {
      "text/plain": [
       "the     25111\n",
       "to      11477\n",
       "of      10744\n",
       "and      9859\n",
       "a        9529\n",
       "in       8820\n",
       "is       4523\n",
       "for      4417\n",
       "that     4168\n",
       "on       3882\n",
       "dtype: int64"
      ]
     },
     "execution_count": 43,
     "metadata": {},
     "output_type": "execute_result"
    }
   ],
   "source": [
    "word_counter(list(corpora[4]['translation']))[:10]"
   ]
  },
  {
   "cell_type": "code",
   "execution_count": 44,
   "id": "b177e116",
   "metadata": {},
   "outputs": [
    {
     "data": {
      "text/plain": [
       "the     32079\n",
       "of      17896\n",
       "to       9728\n",
       "in       9390\n",
       "and      8207\n",
       "a        6462\n",
       "that     4211\n",
       "is       4032\n",
       "on       3645\n",
       "for      3357\n",
       "dtype: int64"
      ]
     },
     "execution_count": 44,
     "metadata": {},
     "output_type": "execute_result"
    }
   ],
   "source": [
    "#To use the funciton word_counter on corpora[5]\n",
    "word_counter(list(corpora[5]['reference']))[:10]"
   ]
  },
  {
   "cell_type": "code",
   "execution_count": 45,
   "id": "2e421e48",
   "metadata": {},
   "outputs": [
    {
     "data": {
      "text/plain": [
       "the     25214\n",
       "of      13691\n",
       "to       9446\n",
       "and      8560\n",
       "in       8556\n",
       "a        8232\n",
       "is       3987\n",
       "that     3873\n",
       "for      3568\n",
       "on       3172\n",
       "dtype: int64"
      ]
     },
     "execution_count": 45,
     "metadata": {},
     "output_type": "execute_result"
    }
   ],
   "source": [
    "word_counter(list(corpora[5]['translation']))[:10]"
   ]
  },
  {
   "cell_type": "markdown",
   "id": "294acf0c",
   "metadata": {},
   "source": [
    "As we can notice, in each corpora the majority of the words in the top 10, most words are stopwords. \n",
    "These words will contain no semantic meaning and it will not help us. "
   ]
  },
  {
   "cell_type": "markdown",
   "id": "b66773bd",
   "metadata": {},
   "source": [
    "###### Initial Preprocessing"
   ]
  },
  {
   "cell_type": "code",
   "execution_count": 46,
   "id": "7e834441",
   "metadata": {},
   "outputs": [],
   "source": [
    "english_stopwords = set(stopwords.words('english'))\n",
    "finnish_stopwords= set(stopwords.words('finnish'))\n",
    "chinese_stopwords= set(swordsiso('zh'))\n",
    "\n",
    "exclude = set(string.punctuation)\n",
    "lemma = WordNetLemmatizer()"
   ]
  },
  {
   "cell_type": "code",
   "execution_count": 47,
   "id": "46a8a42f",
   "metadata": {},
   "outputs": [
    {
     "data": {
      "application/vnd.jupyter.widget-view+json": {
       "model_id": "a3d84cac1e8c4e3e99d18b1bb961fedf",
       "version_major": 2,
       "version_minor": 0
      },
      "text/plain": [
       "  0%|          | 0/6748 [00:00<?, ?it/s]"
      ]
     },
     "metadata": {},
     "output_type": "display_data"
    },
    {
     "data": {
      "application/vnd.jupyter.widget-view+json": {
       "model_id": "6a0899a46a984840910f0c6e7c6e6afa",
       "version_major": 2,
       "version_minor": 0
      },
      "text/plain": [
       "  0%|          | 0/6748 [00:00<?, ?it/s]"
      ]
     },
     "metadata": {},
     "output_type": "display_data"
    }
   ],
   "source": [
    "#To update the reference and translation in corpora 0\n",
    "updates_0_reference = clean_finlandes(corpora[0][\"reference\"],finnish_stopwords, lemmatize = True, stemmer = False)\n",
    "updates_0_translation = clean_finlandes(corpora[0][\"translation\"], finnish_stopwords, lemmatize = True, stemmer = False)"
   ]
  },
  {
   "cell_type": "code",
   "execution_count": 48,
   "id": "44277ec3",
   "metadata": {},
   "outputs": [],
   "source": [
    "#To update the dataframe\n",
    "update_df(corpora[0], updates_0_reference, 'reference')\n",
    "update_df(corpora[0], updates_0_translation, 'translation')"
   ]
  },
  {
   "cell_type": "code",
   "execution_count": 49,
   "id": "cf121827",
   "metadata": {},
   "outputs": [
    {
     "data": {
      "application/vnd.jupyter.widget-view+json": {
       "model_id": "e322d94f30a6417b96c1f758aacd410c",
       "version_major": 2,
       "version_minor": 0
      },
      "text/plain": [
       "  0%|          | 0/26418 [00:00<?, ?it/s]"
      ]
     },
     "metadata": {},
     "output_type": "display_data"
    },
    {
     "data": {
      "application/vnd.jupyter.widget-view+json": {
       "model_id": "9974438a84274448a31c301596ad2609",
       "version_major": 2,
       "version_minor": 0
      },
      "text/plain": [
       "  0%|          | 0/26418 [00:00<?, ?it/s]"
      ]
     },
     "metadata": {},
     "output_type": "display_data"
    }
   ],
   "source": [
    "#To update the reference and translation in corpora 1\n",
    "updates_1_reference = clean(corpora[1][\"reference\"],english_stopwords,  lemmatize = True, stemmer = False)\n",
    "updates_1_translation = clean(corpora[1][\"translation\"], english_stopwords, lemmatize = True, stemmer = False)"
   ]
  },
  {
   "cell_type": "code",
   "execution_count": 50,
   "id": "12553aeb",
   "metadata": {},
   "outputs": [],
   "source": [
    "#To update the dataframe\n",
    "update_df(corpora[1], updates_1_reference, 'reference')\n",
    "update_df(corpora[1], updates_1_translation, 'translation')"
   ]
  },
  {
   "cell_type": "code",
   "execution_count": 51,
   "id": "d99f536c",
   "metadata": {},
   "outputs": [
    {
     "data": {
      "application/vnd.jupyter.widget-view+json": {
       "model_id": "eab312fefa7241bcb712f7e96b84efd0",
       "version_major": 2,
       "version_minor": 0
      },
      "text/plain": [
       "  0%|          | 0/11585 [00:00<?, ?it/s]"
      ]
     },
     "metadata": {},
     "output_type": "display_data"
    },
    {
     "data": {
      "application/vnd.jupyter.widget-view+json": {
       "model_id": "ea0ff387abe34696a44f73131808e3f5",
       "version_major": 2,
       "version_minor": 0
      },
      "text/plain": [
       "  0%|          | 0/11585 [00:00<?, ?it/s]"
      ]
     },
     "metadata": {},
     "output_type": "display_data"
    }
   ],
   "source": [
    "#To update the reference and translation in corpora 2\n",
    "updates_2_reference = clean(corpora[2][\"reference\"], english_stopwords, lemmatize = True, stemmer = False)\n",
    "updates_2_translation = clean(corpora[2][\"translation\"],english_stopwords,  lemmatize = True, stemmer = False)"
   ]
  },
  {
   "cell_type": "code",
   "execution_count": 52,
   "id": "c03fb77f",
   "metadata": {},
   "outputs": [],
   "source": [
    "#To update the dataframe\n",
    "update_df(corpora[2], updates_2_reference, 'reference')\n",
    "update_df(corpora[2], updates_2_translation, 'translation')"
   ]
  },
  {
   "cell_type": "code",
   "execution_count": 53,
   "id": "b360048b",
   "metadata": {},
   "outputs": [
    {
     "data": {
      "application/vnd.jupyter.widget-view+json": {
       "model_id": "6d8f2aacca044c6a838743079d36c65f",
       "version_major": 2,
       "version_minor": 0
      },
      "text/plain": [
       "  0%|          | 0/10221 [00:00<?, ?it/s]"
      ]
     },
     "metadata": {},
     "output_type": "display_data"
    },
    {
     "data": {
      "application/vnd.jupyter.widget-view+json": {
       "model_id": "98513a0d57594fe3bb8632f07f4b5a1d",
       "version_major": 2,
       "version_minor": 0
      },
      "text/plain": [
       "  0%|          | 0/10221 [00:00<?, ?it/s]"
      ]
     },
     "metadata": {},
     "output_type": "display_data"
    }
   ],
   "source": [
    "#To update the reference and translation in corpora 3\n",
    "updates_3_reference= clean_chinese(corpora[3][\"reference\"],chinese_stopwords)\n",
    "updates_3_translation = clean_chinese(corpora[3][\"translation\"],chinese_stopwords)"
   ]
  },
  {
   "cell_type": "code",
   "execution_count": 54,
   "id": "e4080729",
   "metadata": {},
   "outputs": [],
   "source": [
    "#To update the dataframe\n",
    "update_df(corpora[3], updates_3_reference, 'reference')\n",
    "update_df(corpora[3], updates_3_translation, 'translation')"
   ]
  },
  {
   "cell_type": "code",
   "execution_count": 55,
   "id": "4e7bf197",
   "metadata": {},
   "outputs": [
    {
     "data": {
      "application/vnd.jupyter.widget-view+json": {
       "model_id": "c4f7111b98774e88984780090a6529be",
       "version_major": 2,
       "version_minor": 0
      },
      "text/plain": [
       "  0%|          | 0/21704 [00:00<?, ?it/s]"
      ]
     },
     "metadata": {},
     "output_type": "display_data"
    },
    {
     "data": {
      "application/vnd.jupyter.widget-view+json": {
       "model_id": "aadf91ba7abe42c58ee7f4a38a4d28ef",
       "version_major": 2,
       "version_minor": 0
      },
      "text/plain": [
       "  0%|          | 0/21704 [00:00<?, ?it/s]"
      ]
     },
     "metadata": {},
     "output_type": "display_data"
    }
   ],
   "source": [
    "#To update the reference and translation in corpora 4\n",
    "updates_4_reference = clean(corpora[4][\"reference\"], english_stopwords, lemmatize = True, stemmer = False)\n",
    "updates_4_translation = clean(corpora[4][\"translation\"],english_stopwords, lemmatize = True, stemmer = False)"
   ]
  },
  {
   "cell_type": "code",
   "execution_count": 56,
   "id": "24963441",
   "metadata": {},
   "outputs": [],
   "source": [
    "#To update the dataframe\n",
    "update_df(corpora[4], updates_4_reference,  'reference')\n",
    "update_df(corpora[4], updates_4_translation, 'translation')"
   ]
  },
  {
   "cell_type": "code",
   "execution_count": 57,
   "id": "98fd049b",
   "metadata": {},
   "outputs": [
    {
     "data": {
      "application/vnd.jupyter.widget-view+json": {
       "model_id": "8ca269620f6740ff9fb2eb1985274a0e",
       "version_major": 2,
       "version_minor": 0
      },
      "text/plain": [
       "  0%|          | 0/17977 [00:00<?, ?it/s]"
      ]
     },
     "metadata": {},
     "output_type": "display_data"
    },
    {
     "data": {
      "application/vnd.jupyter.widget-view+json": {
       "model_id": "1c2a85273ddb4f838ba312d1fe68fa9f",
       "version_major": 2,
       "version_minor": 0
      },
      "text/plain": [
       "  0%|          | 0/17977 [00:00<?, ?it/s]"
      ]
     },
     "metadata": {},
     "output_type": "display_data"
    }
   ],
   "source": [
    "#To update the reference and translation in corpora 5\n",
    "updates_5_reference = clean(corpora[5][\"reference\"],english_stopwords, lemmatize = True, stemmer = False)\n",
    "updates_5_translation = clean(corpora[5][\"translation\"],english_stopwords, lemmatize = True, stemmer = False)"
   ]
  },
  {
   "cell_type": "code",
   "execution_count": 58,
   "id": "d9bc64d4",
   "metadata": {},
   "outputs": [],
   "source": [
    "#To update the dataframe\n",
    "update_df(corpora[5], updates_5_reference, 'reference')\n",
    "update_df(corpora[5], updates_5_translation, 'translation')"
   ]
  },
  {
   "cell_type": "markdown",
   "id": "ce9e50e9",
   "metadata": {},
   "source": [
    "### Bag-of-Words"
   ]
  },
  {
   "cell_type": "code",
   "execution_count": 59,
   "id": "5cbe0c25",
   "metadata": {},
   "outputs": [],
   "source": [
    "cv_english = CountVectorizer(\n",
    "    max_df=0.8,\n",
    "    stop_words=\"english\", \n",
    "    max_features=10000, \n",
    "    ngram_range=(1,3)\n",
    ")"
   ]
  },
  {
   "cell_type": "code",
   "execution_count": 60,
   "id": "eb2e159c",
   "metadata": {},
   "outputs": [],
   "source": [
    "cv_finnish = CountVectorizer(\n",
    "    max_df=0.8,\n",
    "    stop_words=finnish_stopwords, \n",
    "    max_features=10000, \n",
    "    ngram_range=(1,3)\n",
    ")"
   ]
  },
  {
   "cell_type": "code",
   "execution_count": 61,
   "id": "540ee8bd",
   "metadata": {},
   "outputs": [],
   "source": [
    "cv_chinese = CountVectorizer(\n",
    "    max_df=0.8,\n",
    "    stop_words=chinese_stopwords,\n",
    "    max_features=10000, \n",
    "    ngram_range=(1,3)\n",
    ")"
   ]
  },
  {
   "cell_type": "code",
   "execution_count": 62,
   "id": "161bcf78",
   "metadata": {},
   "outputs": [],
   "source": [
    "top_df_0_reference = get_top_n_grams(corpora[0]['reference'], top_k=20, n=1)\n",
    "top_df_0_translation = get_top_n_grams(corpora[0]['translation'], top_k=20, n=1)"
   ]
  },
  {
   "cell_type": "code",
   "execution_count": 63,
   "id": "b666e6e5",
   "metadata": {},
   "outputs": [
    {
     "data": {
      "text/html": [
       "<style  type=\"text/css\" >\n",
       "</style><table id=\"T_30e13_\" style='display:inline'><caption>Reference table</caption><thead>    <tr>        <th class=\"blank level0\" ></th>        <th class=\"col_heading level0 col0\" >Ngram</th>        <th class=\"col_heading level0 col1\" >Freq</th>    </tr></thead><tbody>\n",
       "                <tr>\n",
       "                        <th id=\"T_30e13_level0_row0\" class=\"row_heading level0 row0\" >0</th>\n",
       "                        <td id=\"T_30e13_row0_col0\" class=\"data row0 col0\" >ja</td>\n",
       "                        <td id=\"T_30e13_row0_col1\" class=\"data row0 col1\" >2820</td>\n",
       "            </tr>\n",
       "            <tr>\n",
       "                        <th id=\"T_30e13_level0_row1\" class=\"row_heading level0 row1\" >1</th>\n",
       "                        <td id=\"T_30e13_row1_col0\" class=\"data row1 col0\" >on</td>\n",
       "                        <td id=\"T_30e13_row1_col1\" class=\"data row1 col1\" >2653</td>\n",
       "            </tr>\n",
       "            <tr>\n",
       "                        <th id=\"T_30e13_level0_row2\" class=\"row_heading level0 row2\" >2</th>\n",
       "                        <td id=\"T_30e13_row2_col0\" class=\"data row2 col0\" >että</td>\n",
       "                        <td id=\"T_30e13_row2_col1\" class=\"data row2 col1\" >1238</td>\n",
       "            </tr>\n",
       "            <tr>\n",
       "                        <th id=\"T_30e13_level0_row3\" class=\"row_heading level0 row3\" >3</th>\n",
       "                        <td id=\"T_30e13_row3_col0\" class=\"data row3 col0\" >oli</td>\n",
       "                        <td id=\"T_30e13_row3_col1\" class=\"data row3 col1\" >953</td>\n",
       "            </tr>\n",
       "            <tr>\n",
       "                        <th id=\"T_30e13_level0_row4\" class=\"row_heading level0 row4\" >4</th>\n",
       "                        <td id=\"T_30e13_row4_col0\" class=\"data row4 col0\" >hän</td>\n",
       "                        <td id=\"T_30e13_row4_col1\" class=\"data row4 col1\" >736</td>\n",
       "            </tr>\n",
       "            <tr>\n",
       "                        <th id=\"T_30e13_level0_row5\" class=\"row_heading level0 row5\" >5</th>\n",
       "                        <td id=\"T_30e13_row5_col0\" class=\"data row5 col0\" >ei</td>\n",
       "                        <td id=\"T_30e13_row5_col1\" class=\"data row5 col1\" >686</td>\n",
       "            </tr>\n",
       "            <tr>\n",
       "                        <th id=\"T_30e13_level0_row6\" class=\"row_heading level0 row6\" >6</th>\n",
       "                        <td id=\"T_30e13_row6_col0\" class=\"data row6 col0\" >joka</td>\n",
       "                        <td id=\"T_30e13_row6_col1\" class=\"data row6 col1\" >602</td>\n",
       "            </tr>\n",
       "            <tr>\n",
       "                        <th id=\"T_30e13_level0_row7\" class=\"row_heading level0 row7\" >7</th>\n",
       "                        <td id=\"T_30e13_row7_col0\" class=\"data row7 col0\" >se</td>\n",
       "                        <td id=\"T_30e13_row7_col1\" class=\"data row7 col1\" >588</td>\n",
       "            </tr>\n",
       "            <tr>\n",
       "                        <th id=\"T_30e13_level0_row8\" class=\"row_heading level0 row8\" >8</th>\n",
       "                        <td id=\"T_30e13_row8_col0\" class=\"data row8 col0\" >ovat</td>\n",
       "                        <td id=\"T_30e13_row8_col1\" class=\"data row8 col1\" >471</td>\n",
       "            </tr>\n",
       "            <tr>\n",
       "                        <th id=\"T_30e13_level0_row9\" class=\"row_heading level0 row9\" >9</th>\n",
       "                        <td id=\"T_30e13_row9_col0\" class=\"data row9 col0\" >kun</td>\n",
       "                        <td id=\"T_30e13_row9_col1\" class=\"data row9 col1\" >422</td>\n",
       "            </tr>\n",
       "            <tr>\n",
       "                        <th id=\"T_30e13_level0_row10\" class=\"row_heading level0 row10\" >10</th>\n",
       "                        <td id=\"T_30e13_row10_col0\" class=\"data row10 col0\" >sanoi</td>\n",
       "                        <td id=\"T_30e13_row10_col1\" class=\"data row10 col1\" >408</td>\n",
       "            </tr>\n",
       "            <tr>\n",
       "                        <th id=\"T_30e13_level0_row11\" class=\"row_heading level0 row11\" >11</th>\n",
       "                        <td id=\"T_30e13_row11_col0\" class=\"data row11 col0\" >mutta</td>\n",
       "                        <td id=\"T_30e13_row11_col1\" class=\"data row11 col1\" >403</td>\n",
       "            </tr>\n",
       "            <tr>\n",
       "                        <th id=\"T_30e13_level0_row12\" class=\"row_heading level0 row12\" >12</th>\n",
       "                        <td id=\"T_30e13_row12_col0\" class=\"data row12 col0\" >hänen</td>\n",
       "                        <td id=\"T_30e13_row12_col1\" class=\"data row12 col1\" >360</td>\n",
       "            </tr>\n",
       "            <tr>\n",
       "                        <th id=\"T_30e13_level0_row13\" class=\"row_heading level0 row13\" >13</th>\n",
       "                        <td id=\"T_30e13_row13_col0\" class=\"data row13 col0\" >sen</td>\n",
       "                        <td id=\"T_30e13_row13_col1\" class=\"data row13 col1\" >346</td>\n",
       "            </tr>\n",
       "            <tr>\n",
       "                        <th id=\"T_30e13_level0_row14\" class=\"row_heading level0 row14\" >14</th>\n",
       "                        <td id=\"T_30e13_row14_col0\" class=\"data row14 col0\" >kuin</td>\n",
       "                        <td id=\"T_30e13_row14_col1\" class=\"data row14 col1\" >340</td>\n",
       "            </tr>\n",
       "            <tr>\n",
       "                        <th id=\"T_30e13_level0_row15\" class=\"row_heading level0 row15\" >15</th>\n",
       "                        <td id=\"T_30e13_row15_col0\" class=\"data row15 col0\" >jotka</td>\n",
       "                        <td id=\"T_30e13_row15_col1\" class=\"data row15 col1\" >309</td>\n",
       "            </tr>\n",
       "            <tr>\n",
       "                        <th id=\"T_30e13_level0_row16\" class=\"row_heading level0 row16\" >16</th>\n",
       "                        <td id=\"T_30e13_row16_col0\" class=\"data row16 col0\" >ole</td>\n",
       "                        <td id=\"T_30e13_row16_col1\" class=\"data row16 col1\" >302</td>\n",
       "            </tr>\n",
       "            <tr>\n",
       "                        <th id=\"T_30e13_level0_row17\" class=\"row_heading level0 row17\" >17</th>\n",
       "                        <td id=\"T_30e13_row17_col0\" class=\"data row17 col0\" >myös</td>\n",
       "                        <td id=\"T_30e13_row17_col1\" class=\"data row17 col1\" >299</td>\n",
       "            </tr>\n",
       "            <tr>\n",
       "                        <th id=\"T_30e13_level0_row18\" class=\"row_heading level0 row18\" >18</th>\n",
       "                        <td id=\"T_30e13_row18_col0\" class=\"data row18 col0\" >sanoo</td>\n",
       "                        <td id=\"T_30e13_row18_col1\" class=\"data row18 col1\" >296</td>\n",
       "            </tr>\n",
       "            <tr>\n",
       "                        <th id=\"T_30e13_level0_row19\" class=\"row_heading level0 row19\" >19</th>\n",
       "                        <td id=\"T_30e13_row19_col0\" class=\"data row19 col0\" >sisällä</td>\n",
       "                        <td id=\"T_30e13_row19_col1\" class=\"data row19 col1\" >290</td>\n",
       "            </tr>\n",
       "    </tbody></table>&nbsp&nbsp&nbsp&nbsp&nbsp&nbsp&nbsp<style  type=\"text/css\" >\n",
       "</style><table id=\"T_81a19_\" style='display:inline'><caption>Translation table </caption><thead>    <tr>        <th class=\"blank level0\" ></th>        <th class=\"col_heading level0 col0\" >Ngram</th>        <th class=\"col_heading level0 col1\" >Freq</th>    </tr></thead><tbody>\n",
       "                <tr>\n",
       "                        <th id=\"T_81a19_level0_row0\" class=\"row_heading level0 row0\" >0</th>\n",
       "                        <td id=\"T_81a19_row0_col0\" class=\"data row0 col0\" >ja</td>\n",
       "                        <td id=\"T_81a19_row0_col1\" class=\"data row0 col1\" >2573</td>\n",
       "            </tr>\n",
       "            <tr>\n",
       "                        <th id=\"T_81a19_level0_row1\" class=\"row_heading level0 row1\" >1</th>\n",
       "                        <td id=\"T_81a19_row1_col0\" class=\"data row1 col0\" >on</td>\n",
       "                        <td id=\"T_81a19_row1_col1\" class=\"data row1 col1\" >2032</td>\n",
       "            </tr>\n",
       "            <tr>\n",
       "                        <th id=\"T_81a19_level0_row2\" class=\"row_heading level0 row2\" >2</th>\n",
       "                        <td id=\"T_81a19_row2_col0\" class=\"data row2 col0\" >että</td>\n",
       "                        <td id=\"T_81a19_row2_col1\" class=\"data row2 col1\" >1347</td>\n",
       "            </tr>\n",
       "            <tr>\n",
       "                        <th id=\"T_81a19_level0_row3\" class=\"row_heading level0 row3\" >3</th>\n",
       "                        <td id=\"T_81a19_row3_col0\" class=\"data row3 col0\" >oli</td>\n",
       "                        <td id=\"T_81a19_row3_col1\" class=\"data row3 col1\" >726</td>\n",
       "            </tr>\n",
       "            <tr>\n",
       "                        <th id=\"T_81a19_level0_row4\" class=\"row_heading level0 row4\" >4</th>\n",
       "                        <td id=\"T_81a19_row4_col0\" class=\"data row4 col0\" >ei</td>\n",
       "                        <td id=\"T_81a19_row4_col1\" class=\"data row4 col1\" >702</td>\n",
       "            </tr>\n",
       "            <tr>\n",
       "                        <th id=\"T_81a19_level0_row5\" class=\"row_heading level0 row5\" >5</th>\n",
       "                        <td id=\"T_81a19_row5_col0\" class=\"data row5 col0\" >hän</td>\n",
       "                        <td id=\"T_81a19_row5_col1\" class=\"data row5 col1\" >632</td>\n",
       "            </tr>\n",
       "            <tr>\n",
       "                        <th id=\"T_81a19_level0_row6\" class=\"row_heading level0 row6\" >6</th>\n",
       "                        <td id=\"T_81a19_row6_col0\" class=\"data row6 col0\" >sanoi</td>\n",
       "                        <td id=\"T_81a19_row6_col1\" class=\"data row6 col1\" >469</td>\n",
       "            </tr>\n",
       "            <tr>\n",
       "                        <th id=\"T_81a19_level0_row7\" class=\"row_heading level0 row7\" >7</th>\n",
       "                        <td id=\"T_81a19_row7_col0\" class=\"data row7 col0\" >ovat</td>\n",
       "                        <td id=\"T_81a19_row7_col1\" class=\"data row7 col1\" >428</td>\n",
       "            </tr>\n",
       "            <tr>\n",
       "                        <th id=\"T_81a19_level0_row8\" class=\"row_heading level0 row8\" >8</th>\n",
       "                        <td id=\"T_81a19_row8_col0\" class=\"data row8 col0\" >kun</td>\n",
       "                        <td id=\"T_81a19_row8_col1\" class=\"data row8 col1\" >411</td>\n",
       "            </tr>\n",
       "            <tr>\n",
       "                        <th id=\"T_81a19_level0_row9\" class=\"row_heading level0 row9\" >9</th>\n",
       "                        <td id=\"T_81a19_row9_col0\" class=\"data row9 col0\" >se</td>\n",
       "                        <td id=\"T_81a19_row9_col1\" class=\"data row9 col1\" >401</td>\n",
       "            </tr>\n",
       "            <tr>\n",
       "                        <th id=\"T_81a19_level0_row10\" class=\"row_heading level0 row10\" >10</th>\n",
       "                        <td id=\"T_81a19_row10_col0\" class=\"data row10 col0\" >mutta</td>\n",
       "                        <td id=\"T_81a19_row10_col1\" class=\"data row10 col1\" >394</td>\n",
       "            </tr>\n",
       "            <tr>\n",
       "                        <th id=\"T_81a19_level0_row11\" class=\"row_heading level0 row11\" >11</th>\n",
       "                        <td id=\"T_81a19_row11_col0\" class=\"data row11 col0\" >joka</td>\n",
       "                        <td id=\"T_81a19_row11_col1\" class=\"data row11 col1\" >382</td>\n",
       "            </tr>\n",
       "            <tr>\n",
       "                        <th id=\"T_81a19_level0_row12\" class=\"row_heading level0 row12\" >12</th>\n",
       "                        <td id=\"T_81a19_row12_col0\" class=\"data row12 col0\" >mukaan</td>\n",
       "                        <td id=\"T_81a19_row12_col1\" class=\"data row12 col1\" >353</td>\n",
       "            </tr>\n",
       "            <tr>\n",
       "                        <th id=\"T_81a19_level0_row13\" class=\"row_heading level0 row13\" >13</th>\n",
       "                        <td id=\"T_81a19_row13_col0\" class=\"data row13 col0\" >sen</td>\n",
       "                        <td id=\"T_81a19_row13_col1\" class=\"data row13 col1\" >345</td>\n",
       "            </tr>\n",
       "            <tr>\n",
       "                        <th id=\"T_81a19_level0_row14\" class=\"row_heading level0 row14\" >14</th>\n",
       "                        <td id=\"T_81a19_row14_col0\" class=\"data row14 col0\" >kuin</td>\n",
       "                        <td id=\"T_81a19_row14_col1\" class=\"data row14 col1\" >308</td>\n",
       "            </tr>\n",
       "            <tr>\n",
       "                        <th id=\"T_81a19_level0_row15\" class=\"row_heading level0 row15\" >15</th>\n",
       "                        <td id=\"T_81a19_row15_col0\" class=\"data row15 col0\" >ole</td>\n",
       "                        <td id=\"T_81a19_row15_col1\" class=\"data row15 col1\" >305</td>\n",
       "            </tr>\n",
       "            <tr>\n",
       "                        <th id=\"T_81a19_level0_row16\" class=\"row_heading level0 row16\" >16</th>\n",
       "                        <td id=\"T_81a19_row16_col0\" class=\"data row16 col0\" >jälkeen</td>\n",
       "                        <td id=\"T_81a19_row16_col1\" class=\"data row16 col1\" >270</td>\n",
       "            </tr>\n",
       "            <tr>\n",
       "                        <th id=\"T_81a19_level0_row17\" class=\"row_heading level0 row17\" >17</th>\n",
       "                        <td id=\"T_81a19_row17_col0\" class=\"data row17 col0\" >myös</td>\n",
       "                        <td id=\"T_81a19_row17_col1\" class=\"data row17 col1\" >259</td>\n",
       "            </tr>\n",
       "            <tr>\n",
       "                        <th id=\"T_81a19_level0_row18\" class=\"row_heading level0 row18\" >18</th>\n",
       "                        <td id=\"T_81a19_row18_col0\" class=\"data row18 col0\" >hänen</td>\n",
       "                        <td id=\"T_81a19_row18_col1\" class=\"data row18 col1\" >257</td>\n",
       "            </tr>\n",
       "            <tr>\n",
       "                        <th id=\"T_81a19_level0_row19\" class=\"row_heading level0 row19\" >19</th>\n",
       "                        <td id=\"T_81a19_row19_col0\" class=\"data row19 col0\" >jotka</td>\n",
       "                        <td id=\"T_81a19_row19_col1\" class=\"data row19 col1\" >254</td>\n",
       "            </tr>\n",
       "    </tbody></table>"
      ]
     },
     "metadata": {},
     "output_type": "display_data"
    }
   ],
   "source": [
    "df1_styler = top_df_0_reference.style.set_table_attributes(\"style='display:inline'\").set_caption('Reference table')\n",
    "df2_styler = top_df_0_translation.style.set_table_attributes(\"style='display:inline'\").set_caption('Translation table ')\n",
    "\n",
    "display_html(df1_styler._repr_html_()+'&nbsp'+'&nbsp'+'&nbsp'+'&nbsp'+'&nbsp'+'&nbsp'+'&nbsp'+df2_styler._repr_html_(), raw=True)"
   ]
  },
  {
   "cell_type": "code",
   "execution_count": 64,
   "id": "5cc4f702",
   "metadata": {},
   "outputs": [],
   "source": [
    "top_df_1_reference = get_top_n_grams(corpora[1]['reference'], top_k=20, n=1)\n",
    "top_df_1_translation = get_top_n_grams(corpora[1]['translation'], top_k=20, n=1)"
   ]
  },
  {
   "cell_type": "code",
   "execution_count": 65,
   "id": "9da971f3",
   "metadata": {},
   "outputs": [
    {
     "data": {
      "text/html": [
       "<style  type=\"text/css\" >\n",
       "</style><table id=\"T_d2698_\" style='display:inline'><caption>Reference table</caption><thead>    <tr>        <th class=\"blank level0\" ></th>        <th class=\"col_heading level0 col0\" >Ngram</th>        <th class=\"col_heading level0 col1\" >Freq</th>    </tr></thead><tbody>\n",
       "                <tr>\n",
       "                        <th id=\"T_d2698_level0_row0\" class=\"row_heading level0 row0\" >0</th>\n",
       "                        <td id=\"T_d2698_row0_col0\" class=\"data row0 col0\" >year</td>\n",
       "                        <td id=\"T_d2698_row0_col1\" class=\"data row0 col1\" >3416</td>\n",
       "            </tr>\n",
       "            <tr>\n",
       "                        <th id=\"T_d2698_level0_row1\" class=\"row_heading level0 row1\" >1</th>\n",
       "                        <td id=\"T_d2698_row1_col0\" class=\"data row1 col0\" >said</td>\n",
       "                        <td id=\"T_d2698_row1_col1\" class=\"data row1 col1\" >3190</td>\n",
       "            </tr>\n",
       "            <tr>\n",
       "                        <th id=\"T_d2698_level0_row2\" class=\"row_heading level0 row2\" >2</th>\n",
       "                        <td id=\"T_d2698_row2_col0\" class=\"data row2 col0\" >also</td>\n",
       "                        <td id=\"T_d2698_row2_col1\" class=\"data row2 col1\" >1737</td>\n",
       "            </tr>\n",
       "            <tr>\n",
       "                        <th id=\"T_d2698_level0_row3\" class=\"row_heading level0 row3\" >3</th>\n",
       "                        <td id=\"T_d2698_row3_col0\" class=\"data row3 col0\" >team</td>\n",
       "                        <td id=\"T_d2698_row3_col1\" class=\"data row3 col1\" >1732</td>\n",
       "            </tr>\n",
       "            <tr>\n",
       "                        <th id=\"T_d2698_level0_row4\" class=\"row_heading level0 row4\" >4</th>\n",
       "                        <td id=\"T_d2698_row4_col0\" class=\"data row4 col0\" >time</td>\n",
       "                        <td id=\"T_d2698_row4_col1\" class=\"data row4 col1\" >1652</td>\n",
       "            </tr>\n",
       "            <tr>\n",
       "                        <th id=\"T_d2698_level0_row5\" class=\"row_heading level0 row5\" >5</th>\n",
       "                        <td id=\"T_d2698_row5_col0\" class=\"data row5 col0\" >first</td>\n",
       "                        <td id=\"T_d2698_row5_col1\" class=\"data row5 col1\" >1516</td>\n",
       "            </tr>\n",
       "            <tr>\n",
       "                        <th id=\"T_d2698_level0_row6\" class=\"row_heading level0 row6\" >6</th>\n",
       "                        <td id=\"T_d2698_row6_col0\" class=\"data row6 col0\" >people</td>\n",
       "                        <td id=\"T_d2698_row6_col1\" class=\"data row6 col1\" >1430</td>\n",
       "            </tr>\n",
       "            <tr>\n",
       "                        <th id=\"T_d2698_level0_row7\" class=\"row_heading level0 row7\" >7</th>\n",
       "                        <td id=\"T_d2698_row7_col0\" class=\"data row7 col0\" >new</td>\n",
       "                        <td id=\"T_d2698_row7_col1\" class=\"data row7 col1\" >1372</td>\n",
       "            </tr>\n",
       "            <tr>\n",
       "                        <th id=\"T_d2698_level0_row8\" class=\"row_heading level0 row8\" >8</th>\n",
       "                        <td id=\"T_d2698_row8_col0\" class=\"data row8 col0\" >game</td>\n",
       "                        <td id=\"T_d2698_row8_col1\" class=\"data row8 col1\" >1203</td>\n",
       "            </tr>\n",
       "            <tr>\n",
       "                        <th id=\"T_d2698_level0_row9\" class=\"row_heading level0 row9\" >9</th>\n",
       "                        <td id=\"T_d2698_row9_col0\" class=\"data row9 col0\" >two</td>\n",
       "                        <td id=\"T_d2698_row9_col1\" class=\"data row9 col1\" >1194</td>\n",
       "            </tr>\n",
       "            <tr>\n",
       "                        <th id=\"T_d2698_level0_row10\" class=\"row_heading level0 row10\" >10</th>\n",
       "                        <td id=\"T_d2698_row10_col0\" class=\"data row10 col0\" >old</td>\n",
       "                        <td id=\"T_d2698_row10_col1\" class=\"data row10 col1\" >1078</td>\n",
       "            </tr>\n",
       "            <tr>\n",
       "                        <th id=\"T_d2698_level0_row11\" class=\"row_heading level0 row11\" >11</th>\n",
       "                        <td id=\"T_d2698_row11_col0\" class=\"data row11 col0\" >day</td>\n",
       "                        <td id=\"T_d2698_row11_col1\" class=\"data row11 col1\" >1060</td>\n",
       "            </tr>\n",
       "            <tr>\n",
       "                        <th id=\"T_d2698_level0_row12\" class=\"row_heading level0 row12\" >12</th>\n",
       "                        <td id=\"T_d2698_row12_col0\" class=\"data row12 col0\" >police</td>\n",
       "                        <td id=\"T_d2698_row12_col1\" class=\"data row12 col1\" >1053</td>\n",
       "            </tr>\n",
       "            <tr>\n",
       "                        <th id=\"T_d2698_level0_row13\" class=\"row_heading level0 row13\" >13</th>\n",
       "                        <td id=\"T_d2698_row13_col0\" class=\"data row13 col0\" >state</td>\n",
       "                        <td id=\"T_d2698_row13_col1\" class=\"data row13 col1\" >1043</td>\n",
       "            </tr>\n",
       "            <tr>\n",
       "                        <th id=\"T_d2698_level0_row14\" class=\"row_heading level0 row14\" >14</th>\n",
       "                        <td id=\"T_d2698_row14_col0\" class=\"data row14 col0\" >according</td>\n",
       "                        <td id=\"T_d2698_row14_col1\" class=\"data row14 col1\" >980</td>\n",
       "            </tr>\n",
       "            <tr>\n",
       "                        <th id=\"T_d2698_level0_row15\" class=\"row_heading level0 row15\" >15</th>\n",
       "                        <td id=\"T_d2698_row15_col0\" class=\"data row15 col0\" >olympic</td>\n",
       "                        <td id=\"T_d2698_row15_col1\" class=\"data row15 col1\" >965</td>\n",
       "            </tr>\n",
       "            <tr>\n",
       "                        <th id=\"T_d2698_level0_row16\" class=\"row_heading level0 row16\" >16</th>\n",
       "                        <td id=\"T_d2698_row16_col0\" class=\"data row16 col0\" >one</td>\n",
       "                        <td id=\"T_d2698_row16_col1\" class=\"data row16 col1\" >925</td>\n",
       "            </tr>\n",
       "            <tr>\n",
       "                        <th id=\"T_d2698_level0_row17\" class=\"row_heading level0 row17\" >17</th>\n",
       "                        <td id=\"T_d2698_row17_col0\" class=\"data row17 col0\" >last</td>\n",
       "                        <td id=\"T_d2698_row17_col1\" class=\"data row17 col1\" >867</td>\n",
       "            </tr>\n",
       "            <tr>\n",
       "                        <th id=\"T_d2698_level0_row18\" class=\"row_heading level0 row18\" >18</th>\n",
       "                        <td id=\"T_d2698_row18_col0\" class=\"data row18 col0\" >mr</td>\n",
       "                        <td id=\"T_d2698_row18_col1\" class=\"data row18 col1\" >852</td>\n",
       "            </tr>\n",
       "            <tr>\n",
       "                        <th id=\"T_d2698_level0_row19\" class=\"row_heading level0 row19\" >19</th>\n",
       "                        <td id=\"T_d2698_row19_col0\" class=\"data row19 col0\" >city</td>\n",
       "                        <td id=\"T_d2698_row19_col1\" class=\"data row19 col1\" >843</td>\n",
       "            </tr>\n",
       "    </tbody></table>&nbsp&nbsp&nbsp&nbsp&nbsp&nbsp&nbsp<style  type=\"text/css\" >\n",
       "</style><table id=\"T_84ef8_\" style='display:inline'><caption>Translation table </caption><thead>    <tr>        <th class=\"blank level0\" ></th>        <th class=\"col_heading level0 col0\" >Ngram</th>        <th class=\"col_heading level0 col1\" >Freq</th>    </tr></thead><tbody>\n",
       "                <tr>\n",
       "                        <th id=\"T_84ef8_level0_row0\" class=\"row_heading level0 row0\" >0</th>\n",
       "                        <td id=\"T_84ef8_row0_col0\" class=\"data row0 col0\" >year</td>\n",
       "                        <td id=\"T_84ef8_row0_col1\" class=\"data row0 col1\" >3305</td>\n",
       "            </tr>\n",
       "            <tr>\n",
       "                        <th id=\"T_84ef8_level0_row1\" class=\"row_heading level0 row1\" >1</th>\n",
       "                        <td id=\"T_84ef8_row1_col0\" class=\"data row1 col0\" >said</td>\n",
       "                        <td id=\"T_84ef8_row1_col1\" class=\"data row1 col1\" >2949</td>\n",
       "            </tr>\n",
       "            <tr>\n",
       "                        <th id=\"T_84ef8_level0_row2\" class=\"row_heading level0 row2\" >2</th>\n",
       "                        <td id=\"T_84ef8_row2_col0\" class=\"data row2 col0\" >people</td>\n",
       "                        <td id=\"T_84ef8_row2_col1\" class=\"data row2 col1\" >1926</td>\n",
       "            </tr>\n",
       "            <tr>\n",
       "                        <th id=\"T_84ef8_level0_row3\" class=\"row_heading level0 row3\" >3</th>\n",
       "                        <td id=\"T_84ef8_row3_col0\" class=\"data row3 col0\" >also</td>\n",
       "                        <td id=\"T_84ef8_row3_col1\" class=\"data row3 col1\" >1482</td>\n",
       "            </tr>\n",
       "            <tr>\n",
       "                        <th id=\"T_84ef8_level0_row4\" class=\"row_heading level0 row4\" >4</th>\n",
       "                        <td id=\"T_84ef8_row4_col0\" class=\"data row4 col0\" >one</td>\n",
       "                        <td id=\"T_84ef8_row4_col1\" class=\"data row4 col1\" >1454</td>\n",
       "            </tr>\n",
       "            <tr>\n",
       "                        <th id=\"T_84ef8_level0_row5\" class=\"row_heading level0 row5\" >5</th>\n",
       "                        <td id=\"T_84ef8_row5_col0\" class=\"data row5 col0\" >time</td>\n",
       "                        <td id=\"T_84ef8_row5_col1\" class=\"data row5 col1\" >1441</td>\n",
       "            </tr>\n",
       "            <tr>\n",
       "                        <th id=\"T_84ef8_level0_row6\" class=\"row_heading level0 row6\" >6</th>\n",
       "                        <td id=\"T_84ef8_row6_col0\" class=\"data row6 col0\" >first</td>\n",
       "                        <td id=\"T_84ef8_row6_col1\" class=\"data row6 col1\" >1309</td>\n",
       "            </tr>\n",
       "            <tr>\n",
       "                        <th id=\"T_84ef8_level0_row7\" class=\"row_heading level0 row7\" >7</th>\n",
       "                        <td id=\"T_84ef8_row7_col0\" class=\"data row7 col0\" >new</td>\n",
       "                        <td id=\"T_84ef8_row7_col1\" class=\"data row7 col1\" >1274</td>\n",
       "            </tr>\n",
       "            <tr>\n",
       "                        <th id=\"T_84ef8_level0_row8\" class=\"row_heading level0 row8\" >8</th>\n",
       "                        <td id=\"T_84ef8_row8_col0\" class=\"data row8 col0\" >day</td>\n",
       "                        <td id=\"T_84ef8_row8_col1\" class=\"data row8 col1\" >1109</td>\n",
       "            </tr>\n",
       "            <tr>\n",
       "                        <th id=\"T_84ef8_level0_row9\" class=\"row_heading level0 row9\" >9</th>\n",
       "                        <td id=\"T_84ef8_row9_col0\" class=\"data row9 col0\" >team</td>\n",
       "                        <td id=\"T_84ef8_row9_col1\" class=\"data row9 col1\" >1097</td>\n",
       "            </tr>\n",
       "            <tr>\n",
       "                        <th id=\"T_84ef8_level0_row10\" class=\"row_heading level0 row10\" >10</th>\n",
       "                        <td id=\"T_84ef8_row10_col0\" class=\"data row10 col0\" >according</td>\n",
       "                        <td id=\"T_84ef8_row10_col1\" class=\"data row10 col1\" >1074</td>\n",
       "            </tr>\n",
       "            <tr>\n",
       "                        <th id=\"T_84ef8_level0_row11\" class=\"row_heading level0 row11\" >11</th>\n",
       "                        <td id=\"T_84ef8_row11_col0\" class=\"data row11 col0\" >game</td>\n",
       "                        <td id=\"T_84ef8_row11_col1\" class=\"data row11 col1\" >1053</td>\n",
       "            </tr>\n",
       "            <tr>\n",
       "                        <th id=\"T_84ef8_level0_row12\" class=\"row_heading level0 row12\" >12</th>\n",
       "                        <td id=\"T_84ef8_row12_col0\" class=\"data row12 col0\" >two</td>\n",
       "                        <td id=\"T_84ef8_row12_col1\" class=\"data row12 col1\" >1036</td>\n",
       "            </tr>\n",
       "            <tr>\n",
       "                        <th id=\"T_84ef8_level0_row13\" class=\"row_heading level0 row13\" >13</th>\n",
       "                        <td id=\"T_84ef8_row13_col0\" class=\"data row13 col0\" >olympic</td>\n",
       "                        <td id=\"T_84ef8_row13_col1\" class=\"data row13 col1\" >1032</td>\n",
       "            </tr>\n",
       "            <tr>\n",
       "                        <th id=\"T_84ef8_level0_row14\" class=\"row_heading level0 row14\" >14</th>\n",
       "                        <td id=\"T_84ef8_row14_col0\" class=\"data row14 col0\" >china</td>\n",
       "                        <td id=\"T_84ef8_row14_col1\" class=\"data row14 col1\" >1017</td>\n",
       "            </tr>\n",
       "            <tr>\n",
       "                        <th id=\"T_84ef8_level0_row15\" class=\"row_heading level0 row15\" >15</th>\n",
       "                        <td id=\"T_84ef8_row15_col0\" class=\"data row15 col0\" >police</td>\n",
       "                        <td id=\"T_84ef8_row15_col1\" class=\"data row15 col1\" >984</td>\n",
       "            </tr>\n",
       "            <tr>\n",
       "                        <th id=\"T_84ef8_level0_row16\" class=\"row_heading level0 row16\" >16</th>\n",
       "                        <td id=\"T_84ef8_row16_col0\" class=\"data row16 col0\" >old</td>\n",
       "                        <td id=\"T_84ef8_row16_col1\" class=\"data row16 col1\" >942</td>\n",
       "            </tr>\n",
       "            <tr>\n",
       "                        <th id=\"T_84ef8_level0_row17\" class=\"row_heading level0 row17\" >17</th>\n",
       "                        <td id=\"T_84ef8_row17_col0\" class=\"data row17 col0\" >last</td>\n",
       "                        <td id=\"T_84ef8_row17_col1\" class=\"data row17 col1\" >921</td>\n",
       "            </tr>\n",
       "            <tr>\n",
       "                        <th id=\"T_84ef8_level0_row18\" class=\"row_heading level0 row18\" >18</th>\n",
       "                        <td id=\"T_84ef8_row18_col0\" class=\"data row18 col0\" >month</td>\n",
       "                        <td id=\"T_84ef8_row18_col1\" class=\"data row18 col1\" >862</td>\n",
       "            </tr>\n",
       "            <tr>\n",
       "                        <th id=\"T_84ef8_level0_row19\" class=\"row_heading level0 row19\" >19</th>\n",
       "                        <td id=\"T_84ef8_row19_col0\" class=\"data row19 col0\" >state</td>\n",
       "                        <td id=\"T_84ef8_row19_col1\" class=\"data row19 col1\" >842</td>\n",
       "            </tr>\n",
       "    </tbody></table>"
      ]
     },
     "metadata": {},
     "output_type": "display_data"
    }
   ],
   "source": [
    "df1_styler = top_df_1_reference.style.set_table_attributes(\"style='display:inline'\").set_caption('Reference table')\n",
    "df2_styler = top_df_1_translation.style.set_table_attributes(\"style='display:inline'\").set_caption('Translation table ')\n",
    "\n",
    "display_html(df1_styler._repr_html_()+'&nbsp'+'&nbsp'+'&nbsp'+'&nbsp'+'&nbsp'+'&nbsp'+'&nbsp'+df2_styler._repr_html_(), raw=True)"
   ]
  },
  {
   "cell_type": "code",
   "execution_count": 66,
   "id": "bd444458",
   "metadata": {},
   "outputs": [],
   "source": [
    "top_df_2_reference = get_top_n_grams(corpora[2]['reference'], top_k=20, n=1)\n",
    "top_df_2_translation = get_top_n_grams(corpora[2]['translation'], top_k=20, n=1)"
   ]
  },
  {
   "cell_type": "code",
   "execution_count": 67,
   "id": "a8dfbf44",
   "metadata": {},
   "outputs": [
    {
     "data": {
      "text/html": [
       "<style  type=\"text/css\" >\n",
       "</style><table id=\"T_0100c_\" style='display:inline'><caption>Reference table</caption><thead>    <tr>        <th class=\"blank level0\" ></th>        <th class=\"col_heading level0 col0\" >Ngram</th>        <th class=\"col_heading level0 col1\" >Freq</th>    </tr></thead><tbody>\n",
       "                <tr>\n",
       "                        <th id=\"T_0100c_level0_row0\" class=\"row_heading level0 row0\" >0</th>\n",
       "                        <td id=\"T_0100c_row0_col0\" class=\"data row0 col0\" >said</td>\n",
       "                        <td id=\"T_0100c_row0_col1\" class=\"data row0 col1\" >1034</td>\n",
       "            </tr>\n",
       "            <tr>\n",
       "                        <th id=\"T_0100c_level0_row1\" class=\"row_heading level0 row1\" >1</th>\n",
       "                        <td id=\"T_0100c_row1_col0\" class=\"data row1 col0\" >year</td>\n",
       "                        <td id=\"T_0100c_row1_col1\" class=\"data row1 col1\" >1028</td>\n",
       "            </tr>\n",
       "            <tr>\n",
       "                        <th id=\"T_0100c_level0_row2\" class=\"row_heading level0 row2\" >2</th>\n",
       "                        <td id=\"T_0100c_row2_col0\" class=\"data row2 col0\" >people</td>\n",
       "                        <td id=\"T_0100c_row2_col1\" class=\"data row2 col1\" >582</td>\n",
       "            </tr>\n",
       "            <tr>\n",
       "                        <th id=\"T_0100c_level0_row3\" class=\"row_heading level0 row3\" >3</th>\n",
       "                        <td id=\"T_0100c_row3_col0\" class=\"data row3 col0\" >one</td>\n",
       "                        <td id=\"T_0100c_row3_col1\" class=\"data row3 col1\" >518</td>\n",
       "            </tr>\n",
       "            <tr>\n",
       "                        <th id=\"T_0100c_level0_row4\" class=\"row_heading level0 row4\" >4</th>\n",
       "                        <td id=\"T_0100c_row4_col0\" class=\"data row4 col0\" >time</td>\n",
       "                        <td id=\"T_0100c_row4_col1\" class=\"data row4 col1\" >495</td>\n",
       "            </tr>\n",
       "            <tr>\n",
       "                        <th id=\"T_0100c_level0_row5\" class=\"row_heading level0 row5\" >5</th>\n",
       "                        <td id=\"T_0100c_row5_col0\" class=\"data row5 col0\" >new</td>\n",
       "                        <td id=\"T_0100c_row5_col1\" class=\"data row5 col1\" >463</td>\n",
       "            </tr>\n",
       "            <tr>\n",
       "                        <th id=\"T_0100c_level0_row6\" class=\"row_heading level0 row6\" >6</th>\n",
       "                        <td id=\"T_0100c_row6_col0\" class=\"data row6 col0\" >also</td>\n",
       "                        <td id=\"T_0100c_row6_col1\" class=\"data row6 col1\" >425</td>\n",
       "            </tr>\n",
       "            <tr>\n",
       "                        <th id=\"T_0100c_level0_row7\" class=\"row_heading level0 row7\" >7</th>\n",
       "                        <td id=\"T_0100c_row7_col0\" class=\"data row7 col0\" >last</td>\n",
       "                        <td id=\"T_0100c_row7_col1\" class=\"data row7 col1\" >422</td>\n",
       "            </tr>\n",
       "            <tr>\n",
       "                        <th id=\"T_0100c_level0_row8\" class=\"row_heading level0 row8\" >8</th>\n",
       "                        <td id=\"T_0100c_row8_col0\" class=\"data row8 col0\" >would</td>\n",
       "                        <td id=\"T_0100c_row8_col1\" class=\"data row8 col1\" >416</td>\n",
       "            </tr>\n",
       "            <tr>\n",
       "                        <th id=\"T_0100c_level0_row9\" class=\"row_heading level0 row9\" >9</th>\n",
       "                        <td id=\"T_0100c_row9_col0\" class=\"data row9 col0\" >first</td>\n",
       "                        <td id=\"T_0100c_row9_col1\" class=\"data row9 col1\" >371</td>\n",
       "            </tr>\n",
       "            <tr>\n",
       "                        <th id=\"T_0100c_level0_row10\" class=\"row_heading level0 row10\" >10</th>\n",
       "                        <td id=\"T_0100c_row10_col0\" class=\"data row10 col0\" >two</td>\n",
       "                        <td id=\"T_0100c_row10_col1\" class=\"data row10 col1\" >358</td>\n",
       "            </tr>\n",
       "            <tr>\n",
       "                        <th id=\"T_0100c_level0_row11\" class=\"row_heading level0 row11\" >11</th>\n",
       "                        <td id=\"T_0100c_row11_col0\" class=\"data row11 col0\" >like</td>\n",
       "                        <td id=\"T_0100c_row11_col1\" class=\"data row11 col1\" >342</td>\n",
       "            </tr>\n",
       "            <tr>\n",
       "                        <th id=\"T_0100c_level0_row12\" class=\"row_heading level0 row12\" >12</th>\n",
       "                        <td id=\"T_0100c_row12_col0\" class=\"data row12 col0\" >according</td>\n",
       "                        <td id=\"T_0100c_row12_col1\" class=\"data row12 col1\" >312</td>\n",
       "            </tr>\n",
       "            <tr>\n",
       "                        <th id=\"T_0100c_level0_row13\" class=\"row_heading level0 row13\" >13</th>\n",
       "                        <td id=\"T_0100c_row13_col0\" class=\"data row13 col0\" >even</td>\n",
       "                        <td id=\"T_0100c_row13_col1\" class=\"data row13 col1\" >306</td>\n",
       "            </tr>\n",
       "            <tr>\n",
       "                        <th id=\"T_0100c_level0_row14\" class=\"row_heading level0 row14\" >14</th>\n",
       "                        <td id=\"T_0100c_row14_col0\" class=\"data row14 col0\" >say</td>\n",
       "                        <td id=\"T_0100c_row14_col1\" class=\"data row14 col1\" >300</td>\n",
       "            </tr>\n",
       "            <tr>\n",
       "                        <th id=\"T_0100c_level0_row15\" class=\"row_heading level0 row15\" >15</th>\n",
       "                        <td id=\"T_0100c_row15_col0\" class=\"data row15 col0\" >state</td>\n",
       "                        <td id=\"T_0100c_row15_col1\" class=\"data row15 col1\" >289</td>\n",
       "            </tr>\n",
       "            <tr>\n",
       "                        <th id=\"T_0100c_level0_row16\" class=\"row_heading level0 row16\" >16</th>\n",
       "                        <td id=\"T_0100c_row16_col0\" class=\"data row16 col0\" >could</td>\n",
       "                        <td id=\"T_0100c_row16_col1\" class=\"data row16 col1\" >246</td>\n",
       "            </tr>\n",
       "            <tr>\n",
       "                        <th id=\"T_0100c_level0_row17\" class=\"row_heading level0 row17\" >17</th>\n",
       "                        <td id=\"T_0100c_row17_col0\" class=\"data row17 col0\" >team</td>\n",
       "                        <td id=\"T_0100c_row17_col1\" class=\"data row17 col1\" >242</td>\n",
       "            </tr>\n",
       "            <tr>\n",
       "                        <th id=\"T_0100c_level0_row18\" class=\"row_heading level0 row18\" >18</th>\n",
       "                        <td id=\"T_0100c_row18_col0\" class=\"data row18 col0\" >police</td>\n",
       "                        <td id=\"T_0100c_row18_col1\" class=\"data row18 col1\" >237</td>\n",
       "            </tr>\n",
       "            <tr>\n",
       "                        <th id=\"T_0100c_level0_row19\" class=\"row_heading level0 row19\" >19</th>\n",
       "                        <td id=\"T_0100c_row19_col0\" class=\"data row19 col0\" >game</td>\n",
       "                        <td id=\"T_0100c_row19_col1\" class=\"data row19 col1\" >234</td>\n",
       "            </tr>\n",
       "    </tbody></table>&nbsp&nbsp&nbsp&nbsp&nbsp&nbsp&nbsp<style  type=\"text/css\" >\n",
       "</style><table id=\"T_af34d_\" style='display:inline'><caption>Translation table </caption><thead>    <tr>        <th class=\"blank level0\" ></th>        <th class=\"col_heading level0 col0\" >Ngram</th>        <th class=\"col_heading level0 col1\" >Freq</th>    </tr></thead><tbody>\n",
       "                <tr>\n",
       "                        <th id=\"T_af34d_level0_row0\" class=\"row_heading level0 row0\" >0</th>\n",
       "                        <td id=\"T_af34d_row0_col0\" class=\"data row0 col0\" >said</td>\n",
       "                        <td id=\"T_af34d_row0_col1\" class=\"data row0 col1\" >1180</td>\n",
       "            </tr>\n",
       "            <tr>\n",
       "                        <th id=\"T_af34d_level0_row1\" class=\"row_heading level0 row1\" >1</th>\n",
       "                        <td id=\"T_af34d_row1_col0\" class=\"data row1 col0\" >year</td>\n",
       "                        <td id=\"T_af34d_row1_col1\" class=\"data row1 col1\" >1036</td>\n",
       "            </tr>\n",
       "            <tr>\n",
       "                        <th id=\"T_af34d_level0_row2\" class=\"row_heading level0 row2\" >2</th>\n",
       "                        <td id=\"T_af34d_row2_col0\" class=\"data row2 col0\" >people</td>\n",
       "                        <td id=\"T_af34d_row2_col1\" class=\"data row2 col1\" >557</td>\n",
       "            </tr>\n",
       "            <tr>\n",
       "                        <th id=\"T_af34d_level0_row3\" class=\"row_heading level0 row3\" >3</th>\n",
       "                        <td id=\"T_af34d_row3_col0\" class=\"data row3 col0\" >one</td>\n",
       "                        <td id=\"T_af34d_row3_col1\" class=\"data row3 col1\" >555</td>\n",
       "            </tr>\n",
       "            <tr>\n",
       "                        <th id=\"T_af34d_level0_row4\" class=\"row_heading level0 row4\" >4</th>\n",
       "                        <td id=\"T_af34d_row4_col0\" class=\"data row4 col0\" >would</td>\n",
       "                        <td id=\"T_af34d_row4_col1\" class=\"data row4 col1\" >461</td>\n",
       "            </tr>\n",
       "            <tr>\n",
       "                        <th id=\"T_af34d_level0_row5\" class=\"row_heading level0 row5\" >5</th>\n",
       "                        <td id=\"T_af34d_row5_col0\" class=\"data row5 col0\" >new</td>\n",
       "                        <td id=\"T_af34d_row5_col1\" class=\"data row5 col1\" >457</td>\n",
       "            </tr>\n",
       "            <tr>\n",
       "                        <th id=\"T_af34d_level0_row6\" class=\"row_heading level0 row6\" >6</th>\n",
       "                        <td id=\"T_af34d_row6_col0\" class=\"data row6 col0\" >mr</td>\n",
       "                        <td id=\"T_af34d_row6_col1\" class=\"data row6 col1\" >430</td>\n",
       "            </tr>\n",
       "            <tr>\n",
       "                        <th id=\"T_af34d_level0_row7\" class=\"row_heading level0 row7\" >7</th>\n",
       "                        <td id=\"T_af34d_row7_col0\" class=\"data row7 col0\" >also</td>\n",
       "                        <td id=\"T_af34d_row7_col1\" class=\"data row7 col1\" >422</td>\n",
       "            </tr>\n",
       "            <tr>\n",
       "                        <th id=\"T_af34d_level0_row8\" class=\"row_heading level0 row8\" >8</th>\n",
       "                        <td id=\"T_af34d_row8_col0\" class=\"data row8 col0\" >time</td>\n",
       "                        <td id=\"T_af34d_row8_col1\" class=\"data row8 col1\" >421</td>\n",
       "            </tr>\n",
       "            <tr>\n",
       "                        <th id=\"T_af34d_level0_row9\" class=\"row_heading level0 row9\" >9</th>\n",
       "                        <td id=\"T_af34d_row9_col0\" class=\"data row9 col0\" >last</td>\n",
       "                        <td id=\"T_af34d_row9_col1\" class=\"data row9 col1\" >385</td>\n",
       "            </tr>\n",
       "            <tr>\n",
       "                        <th id=\"T_af34d_level0_row10\" class=\"row_heading level0 row10\" >10</th>\n",
       "                        <td id=\"T_af34d_row10_col0\" class=\"data row10 col0\" >two</td>\n",
       "                        <td id=\"T_af34d_row10_col1\" class=\"data row10 col1\" >380</td>\n",
       "            </tr>\n",
       "            <tr>\n",
       "                        <th id=\"T_af34d_level0_row11\" class=\"row_heading level0 row11\" >11</th>\n",
       "                        <td id=\"T_af34d_row11_col0\" class=\"data row11 col0\" >like</td>\n",
       "                        <td id=\"T_af34d_row11_col1\" class=\"data row11 col1\" >362</td>\n",
       "            </tr>\n",
       "            <tr>\n",
       "                        <th id=\"T_af34d_level0_row12\" class=\"row_heading level0 row12\" >12</th>\n",
       "                        <td id=\"T_af34d_row12_col0\" class=\"data row12 col0\" >first</td>\n",
       "                        <td id=\"T_af34d_row12_col1\" class=\"data row12 col1\" >357</td>\n",
       "            </tr>\n",
       "            <tr>\n",
       "                        <th id=\"T_af34d_level0_row13\" class=\"row_heading level0 row13\" >13</th>\n",
       "                        <td id=\"T_af34d_row13_col0\" class=\"data row13 col0\" >state</td>\n",
       "                        <td id=\"T_af34d_row13_col1\" class=\"data row13 col1\" >279</td>\n",
       "            </tr>\n",
       "            <tr>\n",
       "                        <th id=\"T_af34d_level0_row14\" class=\"row_heading level0 row14\" >14</th>\n",
       "                        <td id=\"T_af34d_row14_col0\" class=\"data row14 col0\" >czech</td>\n",
       "                        <td id=\"T_af34d_row14_col1\" class=\"data row14 col1\" >278</td>\n",
       "            </tr>\n",
       "            <tr>\n",
       "                        <th id=\"T_af34d_level0_row15\" class=\"row_heading level0 row15\" >15</th>\n",
       "                        <td id=\"T_af34d_row15_col0\" class=\"data row15 col0\" >say</td>\n",
       "                        <td id=\"T_af34d_row15_col1\" class=\"data row15 col1\" >259</td>\n",
       "            </tr>\n",
       "            <tr>\n",
       "                        <th id=\"T_af34d_level0_row16\" class=\"row_heading level0 row16\" >16</th>\n",
       "                        <td id=\"T_af34d_row16_col0\" class=\"data row16 col0\" >old</td>\n",
       "                        <td id=\"T_af34d_row16_col1\" class=\"data row16 col1\" >252</td>\n",
       "            </tr>\n",
       "            <tr>\n",
       "                        <th id=\"T_af34d_level0_row17\" class=\"row_heading level0 row17\" >17</th>\n",
       "                        <td id=\"T_af34d_row17_col0\" class=\"data row17 col0\" >could</td>\n",
       "                        <td id=\"T_af34d_row17_col1\" class=\"data row17 col1\" >247</td>\n",
       "            </tr>\n",
       "            <tr>\n",
       "                        <th id=\"T_af34d_level0_row18\" class=\"row_heading level0 row18\" >18</th>\n",
       "                        <td id=\"T_af34d_row18_col0\" class=\"data row18 col0\" >team</td>\n",
       "                        <td id=\"T_af34d_row18_col1\" class=\"data row18 col1\" >245</td>\n",
       "            </tr>\n",
       "            <tr>\n",
       "                        <th id=\"T_af34d_level0_row19\" class=\"row_heading level0 row19\" >19</th>\n",
       "                        <td id=\"T_af34d_row19_col0\" class=\"data row19 col0\" >according</td>\n",
       "                        <td id=\"T_af34d_row19_col1\" class=\"data row19 col1\" >242</td>\n",
       "            </tr>\n",
       "    </tbody></table>"
      ]
     },
     "metadata": {},
     "output_type": "display_data"
    }
   ],
   "source": [
    "df1_styler = top_df_2_reference.style.set_table_attributes(\"style='display:inline'\").set_caption('Reference table')\n",
    "df2_styler = top_df_2_translation.style.set_table_attributes(\"style='display:inline'\").set_caption('Translation table ')\n",
    "\n",
    "display_html(df1_styler._repr_html_()+'&nbsp'+'&nbsp'+'&nbsp'+'&nbsp'+'&nbsp'+'&nbsp'+'&nbsp'+df2_styler._repr_html_(), raw=True)"
   ]
  },
  {
   "cell_type": "code",
   "execution_count": 68,
   "id": "f6792484",
   "metadata": {},
   "outputs": [],
   "source": [
    "top_df_3_reference = get_top_n_grams(corpora[3]['reference'], top_k=20, n=1)\n",
    "top_df_3_translation = get_top_n_grams(corpora[3]['translation'], top_k=20, n=1)"
   ]
  },
  {
   "cell_type": "code",
   "execution_count": 69,
   "id": "48068c31",
   "metadata": {},
   "outputs": [
    {
     "data": {
      "text/html": [
       "<style  type=\"text/css\" >\n",
       "</style><table id=\"T_eaa79_\" style='display:inline'><caption>Reference table</caption><thead>    <tr>        <th class=\"blank level0\" ></th>        <th class=\"col_heading level0 col0\" >Ngram</th>        <th class=\"col_heading level0 col1\" >Freq</th>    </tr></thead><tbody>\n",
       "                <tr>\n",
       "                        <th id=\"T_eaa79_level0_row0\" class=\"row_heading level0 row0\" >0</th>\n",
       "                        <td id=\"T_eaa79_row0_col0\" class=\"data row0 col0\" >他说</td>\n",
       "                        <td id=\"T_eaa79_row0_col1\" class=\"data row0 col1\" >94</td>\n",
       "            </tr>\n",
       "            <tr>\n",
       "                        <th id=\"T_eaa79_level0_row1\" class=\"row_heading level0 row1\" >1</th>\n",
       "                        <td id=\"T_eaa79_row1_col0\" class=\"data row1 col0\" >此外</td>\n",
       "                        <td id=\"T_eaa79_row1_col1\" class=\"data row1 col1\" >81</td>\n",
       "            </tr>\n",
       "            <tr>\n",
       "                        <th id=\"T_eaa79_level0_row2\" class=\"row_heading level0 row2\" >2</th>\n",
       "                        <td id=\"T_eaa79_row2_col0\" class=\"data row2 col0\" >因此</td>\n",
       "                        <td id=\"T_eaa79_row2_col1\" class=\"data row2 col1\" >78</td>\n",
       "            </tr>\n",
       "            <tr>\n",
       "                        <th id=\"T_eaa79_level0_row3\" class=\"row_heading level0 row3\" >3</th>\n",
       "                        <td id=\"T_eaa79_row3_col0\" class=\"data row3 col0\" >目前</td>\n",
       "                        <td id=\"T_eaa79_row3_col1\" class=\"data row3 col1\" >74</td>\n",
       "            </tr>\n",
       "            <tr>\n",
       "                        <th id=\"T_eaa79_level0_row4\" class=\"row_heading level0 row4\" >4</th>\n",
       "                        <td id=\"T_eaa79_row4_col0\" class=\"data row4 col0\" >她说</td>\n",
       "                        <td id=\"T_eaa79_row4_col1\" class=\"data row4 col1\" >68</td>\n",
       "            </tr>\n",
       "            <tr>\n",
       "                        <th id=\"T_eaa79_level0_row5\" class=\"row_heading level0 row5\" >5</th>\n",
       "                        <td id=\"T_eaa79_row5_col0\" class=\"data row5 col0\" >然而</td>\n",
       "                        <td id=\"T_eaa79_row5_col1\" class=\"data row5 col1\" >64</td>\n",
       "            </tr>\n",
       "            <tr>\n",
       "                        <th id=\"T_eaa79_level0_row6\" class=\"row_heading level0 row6\" >6</th>\n",
       "                        <td id=\"T_eaa79_row6_col0\" class=\"data row6 col0\" >但是</td>\n",
       "                        <td id=\"T_eaa79_row6_col1\" class=\"data row6 col1\" >55</td>\n",
       "            </tr>\n",
       "            <tr>\n",
       "                        <th id=\"T_eaa79_level0_row7\" class=\"row_heading level0 row7\" >7</th>\n",
       "                        <td id=\"T_eaa79_row7_col0\" class=\"data row7 col0\" >今年</td>\n",
       "                        <td id=\"T_eaa79_row7_col1\" class=\"data row7 col1\" >51</td>\n",
       "            </tr>\n",
       "            <tr>\n",
       "                        <th id=\"T_eaa79_level0_row8\" class=\"row_heading level0 row8\" >8</th>\n",
       "                        <td id=\"T_eaa79_row8_col0\" class=\"data row8 col0\" >去年</td>\n",
       "                        <td id=\"T_eaa79_row8_col1\" class=\"data row8 col1\" >45</td>\n",
       "            </tr>\n",
       "            <tr>\n",
       "                        <th id=\"T_eaa79_level0_row9\" class=\"row_heading level0 row9\" >9</th>\n",
       "                        <td id=\"T_eaa79_row9_col0\" class=\"data row9 col0\" >iphone</td>\n",
       "                        <td id=\"T_eaa79_row9_col1\" class=\"data row9 col1\" >45</td>\n",
       "            </tr>\n",
       "            <tr>\n",
       "                        <th id=\"T_eaa79_level0_row10\" class=\"row_heading level0 row10\" >10</th>\n",
       "                        <td id=\"T_eaa79_row10_col0\" class=\"data row10 col0\" >分钟</td>\n",
       "                        <td id=\"T_eaa79_row10_col1\" class=\"data row10 col1\" >40</td>\n",
       "            </tr>\n",
       "            <tr>\n",
       "                        <th id=\"T_eaa79_level0_row11\" class=\"row_heading level0 row11\" >11</th>\n",
       "                        <td id=\"T_eaa79_row11_col0\" class=\"data row11 col0\" >同时</td>\n",
       "                        <td id=\"T_eaa79_row11_col1\" class=\"data row11 col1\" >38</td>\n",
       "            </tr>\n",
       "            <tr>\n",
       "                        <th id=\"T_eaa79_level0_row12\" class=\"row_heading level0 row12\" >12</th>\n",
       "                        <td id=\"T_eaa79_row12_col0\" class=\"data row12 col0\" >其中</td>\n",
       "                        <td id=\"T_eaa79_row12_col1\" class=\"data row12 col1\" >37</td>\n",
       "            </tr>\n",
       "            <tr>\n",
       "                        <th id=\"T_eaa79_level0_row13\" class=\"row_heading level0 row13\" >13</th>\n",
       "                        <td id=\"T_eaa79_row13_col0\" class=\"data row13 col0\" >亿元</td>\n",
       "                        <td id=\"T_eaa79_row13_col1\" class=\"data row13 col1\" >35</td>\n",
       "            </tr>\n",
       "            <tr>\n",
       "                        <th id=\"T_eaa79_level0_row14\" class=\"row_heading level0 row14\" >14</th>\n",
       "                        <td id=\"T_eaa79_row14_col0\" class=\"data row14 col0\" >最近</td>\n",
       "                        <td id=\"T_eaa79_row14_col1\" class=\"data row14 col1\" >33</td>\n",
       "            </tr>\n",
       "            <tr>\n",
       "                        <th id=\"T_eaa79_level0_row15\" class=\"row_heading level0 row15\" >15</th>\n",
       "                        <td id=\"T_eaa79_row15_col0\" class=\"data row15 col0\" >截至</td>\n",
       "                        <td id=\"T_eaa79_row15_col1\" class=\"data row15 col1\" >33</td>\n",
       "            </tr>\n",
       "            <tr>\n",
       "                        <th id=\"T_eaa79_level0_row16\" class=\"row_heading level0 row16\" >16</th>\n",
       "                        <td id=\"T_eaa79_row16_col0\" class=\"data row16 col0\" >据报道</td>\n",
       "                        <td id=\"T_eaa79_row16_col1\" class=\"data row16 col1\" >32</td>\n",
       "            </tr>\n",
       "            <tr>\n",
       "                        <th id=\"T_eaa79_level0_row17\" class=\"row_heading level0 row17\" >17</th>\n",
       "                        <td id=\"T_eaa79_row17_col0\" class=\"data row17 col0\" >亿美元</td>\n",
       "                        <td id=\"T_eaa79_row17_col1\" class=\"data row17 col1\" >30</td>\n",
       "            </tr>\n",
       "            <tr>\n",
       "                        <th id=\"T_eaa79_level0_row18\" class=\"row_heading level0 row18\" >18</th>\n",
       "                        <td id=\"T_eaa79_row18_col0\" class=\"data row18 col0\" >现在</td>\n",
       "                        <td id=\"T_eaa79_row18_col1\" class=\"data row18 col1\" >29</td>\n",
       "            </tr>\n",
       "            <tr>\n",
       "                        <th id=\"T_eaa79_level0_row19\" class=\"row_heading level0 row19\" >19</th>\n",
       "                        <td id=\"T_eaa79_row19_col0\" class=\"data row19 col0\" >据了解</td>\n",
       "                        <td id=\"T_eaa79_row19_col1\" class=\"data row19 col1\" >29</td>\n",
       "            </tr>\n",
       "    </tbody></table>&nbsp&nbsp&nbsp&nbsp&nbsp&nbsp&nbsp<style  type=\"text/css\" >\n",
       "</style><table id=\"T_a5f15_\" style='display:inline'><caption>Translation table </caption><thead>    <tr>        <th class=\"blank level0\" ></th>        <th class=\"col_heading level0 col0\" >Ngram</th>        <th class=\"col_heading level0 col1\" >Freq</th>    </tr></thead><tbody>\n",
       "                <tr>\n",
       "                        <th id=\"T_a5f15_level0_row0\" class=\"row_heading level0 row0\" >0</th>\n",
       "                        <td id=\"T_a5f15_row0_col0\" class=\"data row0 col0\" >其中</td>\n",
       "                        <td id=\"T_a5f15_row0_col1\" class=\"data row0 col1\" >59</td>\n",
       "            </tr>\n",
       "            <tr>\n",
       "                        <th id=\"T_a5f15_level0_row1\" class=\"row_heading level0 row1\" >1</th>\n",
       "                        <td id=\"T_a5f15_row1_col0\" class=\"data row1 col0\" >cbc</td>\n",
       "                        <td id=\"T_a5f15_row1_col1\" class=\"data row1 col1\" >54</td>\n",
       "            </tr>\n",
       "            <tr>\n",
       "                        <th id=\"T_a5f15_level0_row2\" class=\"row_heading level0 row2\" >2</th>\n",
       "                        <td id=\"T_a5f15_row2_col0\" class=\"data row2 col0\" >去年</td>\n",
       "                        <td id=\"T_a5f15_row2_col1\" class=\"data row2 col1\" >54</td>\n",
       "            </tr>\n",
       "            <tr>\n",
       "                        <th id=\"T_a5f15_level0_row3\" class=\"row_heading level0 row3\" >3</th>\n",
       "                        <td id=\"T_a5f15_row3_col0\" class=\"data row3 col0\" >表示</td>\n",
       "                        <td id=\"T_a5f15_row3_col1\" class=\"data row3 col1\" >53</td>\n",
       "            </tr>\n",
       "            <tr>\n",
       "                        <th id=\"T_a5f15_level0_row4\" class=\"row_heading level0 row4\" >4</th>\n",
       "                        <td id=\"T_a5f15_row4_col0\" class=\"data row4 col0\" >目前</td>\n",
       "                        <td id=\"T_a5f15_row4_col1\" class=\"data row4 col1\" >49</td>\n",
       "            </tr>\n",
       "            <tr>\n",
       "                        <th id=\"T_a5f15_level0_row5\" class=\"row_heading level0 row5\" >5</th>\n",
       "                        <td id=\"T_a5f15_row5_col0\" class=\"data row5 col0\" >据了解</td>\n",
       "                        <td id=\"T_a5f15_row5_col1\" class=\"data row5 col1\" >48</td>\n",
       "            </tr>\n",
       "            <tr>\n",
       "                        <th id=\"T_a5f15_level0_row6\" class=\"row_heading level0 row6\" >6</th>\n",
       "                        <td id=\"T_a5f15_row6_col0\" class=\"data row6 col0\" >分钟</td>\n",
       "                        <td id=\"T_a5f15_row6_col1\" class=\"data row6 col1\" >46</td>\n",
       "            </tr>\n",
       "            <tr>\n",
       "                        <th id=\"T_a5f15_level0_row7\" class=\"row_heading level0 row7\" >7</th>\n",
       "                        <td id=\"T_a5f15_row7_col0\" class=\"data row7 col0\" >因此</td>\n",
       "                        <td id=\"T_a5f15_row7_col1\" class=\"data row7 col1\" >45</td>\n",
       "            </tr>\n",
       "            <tr>\n",
       "                        <th id=\"T_a5f15_level0_row8\" class=\"row_heading level0 row8\" >8</th>\n",
       "                        <td id=\"T_a5f15_row8_col0\" class=\"data row8 col0\" >但是</td>\n",
       "                        <td id=\"T_a5f15_row8_col1\" class=\"data row8 col1\" >41</td>\n",
       "            </tr>\n",
       "            <tr>\n",
       "                        <th id=\"T_a5f15_level0_row9\" class=\"row_heading level0 row9\" >9</th>\n",
       "                        <td id=\"T_a5f15_row9_col0\" class=\"data row9 col0\" >周四</td>\n",
       "                        <td id=\"T_a5f15_row9_col1\" class=\"data row9 col1\" >40</td>\n",
       "            </tr>\n",
       "            <tr>\n",
       "                        <th id=\"T_a5f15_level0_row10\" class=\"row_heading level0 row10\" >10</th>\n",
       "                        <td id=\"T_a5f15_row10_col0\" class=\"data row10 col0\" >然而</td>\n",
       "                        <td id=\"T_a5f15_row10_col1\" class=\"data row10 col1\" >40</td>\n",
       "            </tr>\n",
       "            <tr>\n",
       "                        <th id=\"T_a5f15_level0_row11\" class=\"row_heading level0 row11\" >11</th>\n",
       "                        <td id=\"T_a5f15_row11_col0\" class=\"data row11 col0\" >公里</td>\n",
       "                        <td id=\"T_a5f15_row11_col1\" class=\"data row11 col1\" >38</td>\n",
       "            </tr>\n",
       "            <tr>\n",
       "                        <th id=\"T_a5f15_level0_row12\" class=\"row_heading level0 row12\" >12</th>\n",
       "                        <td id=\"T_a5f15_row12_col0\" class=\"data row12 col0\" >galicia</td>\n",
       "                        <td id=\"T_a5f15_row12_col1\" class=\"data row12 col1\" >37</td>\n",
       "            </tr>\n",
       "            <tr>\n",
       "                        <th id=\"T_a5f15_level0_row13\" class=\"row_heading level0 row13\" >13</th>\n",
       "                        <td id=\"T_a5f15_row13_col0\" class=\"data row13 col0\" >日上午</td>\n",
       "                        <td id=\"T_a5f15_row13_col1\" class=\"data row13 col1\" >37</td>\n",
       "            </tr>\n",
       "            <tr>\n",
       "                        <th id=\"T_a5f15_level0_row14\" class=\"row_heading level0 row14\" >14</th>\n",
       "                        <td id=\"T_a5f15_row14_col0\" class=\"data row14 col0\" >据悉</td>\n",
       "                        <td id=\"T_a5f15_row14_col1\" class=\"data row14 col1\" >35</td>\n",
       "            </tr>\n",
       "            <tr>\n",
       "                        <th id=\"T_a5f15_level0_row15\" class=\"row_heading level0 row15\" >15</th>\n",
       "                        <td id=\"T_a5f15_row15_col0\" class=\"data row15 col0\" >她说</td>\n",
       "                        <td id=\"T_a5f15_row15_col1\" class=\"data row15 col1\" >35</td>\n",
       "            </tr>\n",
       "            <tr>\n",
       "                        <th id=\"T_a5f15_level0_row16\" class=\"row_heading level0 row16\" >16</th>\n",
       "                        <td id=\"T_a5f15_row16_col0\" class=\"data row16 col0\" >今年</td>\n",
       "                        <td id=\"T_a5f15_row16_col1\" class=\"data row16 col1\" >34</td>\n",
       "            </tr>\n",
       "            <tr>\n",
       "                        <th id=\"T_a5f15_level0_row17\" class=\"row_heading level0 row17\" >17</th>\n",
       "                        <td id=\"T_a5f15_row17_col0\" class=\"data row17 col0\" >个月</td>\n",
       "                        <td id=\"T_a5f15_row17_col1\" class=\"data row17 col1\" >34</td>\n",
       "            </tr>\n",
       "            <tr>\n",
       "                        <th id=\"T_a5f15_level0_row18\" class=\"row_heading level0 row18\" >18</th>\n",
       "                        <td id=\"T_a5f15_row18_col0\" class=\"data row18 col0\" >louis</td>\n",
       "                        <td id=\"T_a5f15_row18_col1\" class=\"data row18 col1\" >33</td>\n",
       "            </tr>\n",
       "            <tr>\n",
       "                        <th id=\"T_a5f15_level0_row19\" class=\"row_heading level0 row19\" >19</th>\n",
       "                        <td id=\"T_a5f15_row19_col0\" class=\"data row19 col0\" >亿美元</td>\n",
       "                        <td id=\"T_a5f15_row19_col1\" class=\"data row19 col1\" >32</td>\n",
       "            </tr>\n",
       "    </tbody></table>"
      ]
     },
     "metadata": {},
     "output_type": "display_data"
    }
   ],
   "source": [
    "df1_styler = top_df_3_reference.style.set_table_attributes(\"style='display:inline'\").set_caption('Reference table')\n",
    "df2_styler = top_df_3_translation.style.set_table_attributes(\"style='display:inline'\").set_caption('Translation table ')\n",
    "\n",
    "display_html(df1_styler._repr_html_()+'&nbsp'+'&nbsp'+'&nbsp'+'&nbsp'+'&nbsp'+'&nbsp'+'&nbsp'+df2_styler._repr_html_(), raw=True)"
   ]
  },
  {
   "cell_type": "code",
   "execution_count": 70,
   "id": "2709278d",
   "metadata": {},
   "outputs": [],
   "source": [
    "top_df_4_reference = get_top_n_grams(corpora[4]['reference'], top_k=20, n=1)\n",
    "top_df_4_translation = get_top_n_grams(corpora[4]['translation'], top_k=20, n=1)"
   ]
  },
  {
   "cell_type": "code",
   "execution_count": 71,
   "id": "112ae823",
   "metadata": {},
   "outputs": [
    {
     "data": {
      "text/html": [
       "<style  type=\"text/css\" >\n",
       "</style><table id=\"T_a419d_\" style='display:inline'><caption>Reference table</caption><thead>    <tr>        <th class=\"blank level0\" ></th>        <th class=\"col_heading level0 col0\" >Ngram</th>        <th class=\"col_heading level0 col1\" >Freq</th>    </tr></thead><tbody>\n",
       "                <tr>\n",
       "                        <th id=\"T_a419d_level0_row0\" class=\"row_heading level0 row0\" >0</th>\n",
       "                        <td id=\"T_a419d_row0_col0\" class=\"data row0 col0\" >year</td>\n",
       "                        <td id=\"T_a419d_row0_col1\" class=\"data row0 col1\" >2025</td>\n",
       "            </tr>\n",
       "            <tr>\n",
       "                        <th id=\"T_a419d_level0_row1\" class=\"row_heading level0 row1\" >1</th>\n",
       "                        <td id=\"T_a419d_row1_col0\" class=\"data row1 col0\" >said</td>\n",
       "                        <td id=\"T_a419d_row1_col1\" class=\"data row1 col1\" >1991</td>\n",
       "            </tr>\n",
       "            <tr>\n",
       "                        <th id=\"T_a419d_level0_row2\" class=\"row_heading level0 row2\" >2</th>\n",
       "                        <td id=\"T_a419d_row2_col0\" class=\"data row2 col0\" >time</td>\n",
       "                        <td id=\"T_a419d_row2_col1\" class=\"data row2 col1\" >1062</td>\n",
       "            </tr>\n",
       "            <tr>\n",
       "                        <th id=\"T_a419d_level0_row3\" class=\"row_heading level0 row3\" >3</th>\n",
       "                        <td id=\"T_a419d_row3_col0\" class=\"data row3 col0\" >people</td>\n",
       "                        <td id=\"T_a419d_row3_col1\" class=\"data row3 col1\" >1033</td>\n",
       "            </tr>\n",
       "            <tr>\n",
       "                        <th id=\"T_a419d_level0_row4\" class=\"row_heading level0 row4\" >4</th>\n",
       "                        <td id=\"T_a419d_row4_col0\" class=\"data row4 col0\" >also</td>\n",
       "                        <td id=\"T_a419d_row4_col1\" class=\"data row4 col1\" >986</td>\n",
       "            </tr>\n",
       "            <tr>\n",
       "                        <th id=\"T_a419d_level0_row5\" class=\"row_heading level0 row5\" >5</th>\n",
       "                        <td id=\"T_a419d_row5_col0\" class=\"data row5 col0\" >would</td>\n",
       "                        <td id=\"T_a419d_row5_col1\" class=\"data row5 col1\" >938</td>\n",
       "            </tr>\n",
       "            <tr>\n",
       "                        <th id=\"T_a419d_level0_row6\" class=\"row_heading level0 row6\" >6</th>\n",
       "                        <td id=\"T_a419d_row6_col0\" class=\"data row6 col0\" >new</td>\n",
       "                        <td id=\"T_a419d_row6_col1\" class=\"data row6 col1\" >894</td>\n",
       "            </tr>\n",
       "            <tr>\n",
       "                        <th id=\"T_a419d_level0_row7\" class=\"row_heading level0 row7\" >7</th>\n",
       "                        <td id=\"T_a419d_row7_col0\" class=\"data row7 col0\" >one</td>\n",
       "                        <td id=\"T_a419d_row7_col1\" class=\"data row7 col1\" >847</td>\n",
       "            </tr>\n",
       "            <tr>\n",
       "                        <th id=\"T_a419d_level0_row8\" class=\"row_heading level0 row8\" >8</th>\n",
       "                        <td id=\"T_a419d_row8_col0\" class=\"data row8 col0\" >say</td>\n",
       "                        <td id=\"T_a419d_row8_col1\" class=\"data row8 col1\" >729</td>\n",
       "            </tr>\n",
       "            <tr>\n",
       "                        <th id=\"T_a419d_level0_row9\" class=\"row_heading level0 row9\" >9</th>\n",
       "                        <td id=\"T_a419d_row9_col0\" class=\"data row9 col0\" >first</td>\n",
       "                        <td id=\"T_a419d_row9_col1\" class=\"data row9 col1\" >715</td>\n",
       "            </tr>\n",
       "            <tr>\n",
       "                        <th id=\"T_a419d_level0_row10\" class=\"row_heading level0 row10\" >10</th>\n",
       "                        <td id=\"T_a419d_row10_col0\" class=\"data row10 col0\" >old</td>\n",
       "                        <td id=\"T_a419d_row10_col1\" class=\"data row10 col1\" >694</td>\n",
       "            </tr>\n",
       "            <tr>\n",
       "                        <th id=\"T_a419d_level0_row11\" class=\"row_heading level0 row11\" >11</th>\n",
       "                        <td id=\"T_a419d_row11_col0\" class=\"data row11 col0\" >last</td>\n",
       "                        <td id=\"T_a419d_row11_col1\" class=\"data row11 col1\" >681</td>\n",
       "            </tr>\n",
       "            <tr>\n",
       "                        <th id=\"T_a419d_level0_row12\" class=\"row_heading level0 row12\" >12</th>\n",
       "                        <td id=\"T_a419d_row12_col0\" class=\"data row12 col0\" >two</td>\n",
       "                        <td id=\"T_a419d_row12_col1\" class=\"data row12 col1\" >659</td>\n",
       "            </tr>\n",
       "            <tr>\n",
       "                        <th id=\"T_a419d_level0_row13\" class=\"row_heading level0 row13\" >13</th>\n",
       "                        <td id=\"T_a419d_row13_col0\" class=\"data row13 col0\" >police</td>\n",
       "                        <td id=\"T_a419d_row13_col1\" class=\"data row13 col1\" >617</td>\n",
       "            </tr>\n",
       "            <tr>\n",
       "                        <th id=\"T_a419d_level0_row14\" class=\"row_heading level0 row14\" >14</th>\n",
       "                        <td id=\"T_a419d_row14_col0\" class=\"data row14 col0\" >woman</td>\n",
       "                        <td id=\"T_a419d_row14_col1\" class=\"data row14 col1\" >585</td>\n",
       "            </tr>\n",
       "            <tr>\n",
       "                        <th id=\"T_a419d_level0_row15\" class=\"row_heading level0 row15\" >15</th>\n",
       "                        <td id=\"T_a419d_row15_col0\" class=\"data row15 col0\" >day</td>\n",
       "                        <td id=\"T_a419d_row15_col1\" class=\"data row15 col1\" >578</td>\n",
       "            </tr>\n",
       "            <tr>\n",
       "                        <th id=\"T_a419d_level0_row16\" class=\"row_heading level0 row16\" >16</th>\n",
       "                        <td id=\"T_a419d_row16_col0\" class=\"data row16 col0\" >could</td>\n",
       "                        <td id=\"T_a419d_row16_col1\" class=\"data row16 col1\" >568</td>\n",
       "            </tr>\n",
       "            <tr>\n",
       "                        <th id=\"T_a419d_level0_row17\" class=\"row_heading level0 row17\" >17</th>\n",
       "                        <td id=\"T_a419d_row17_col0\" class=\"data row17 col0\" >world</td>\n",
       "                        <td id=\"T_a419d_row17_col1\" class=\"data row17 col1\" >564</td>\n",
       "            </tr>\n",
       "            <tr>\n",
       "                        <th id=\"T_a419d_level0_row18\" class=\"row_heading level0 row18\" >18</th>\n",
       "                        <td id=\"T_a419d_row18_col0\" class=\"data row18 col0\" >according</td>\n",
       "                        <td id=\"T_a419d_row18_col1\" class=\"data row18 col1\" >525</td>\n",
       "            </tr>\n",
       "            <tr>\n",
       "                        <th id=\"T_a419d_level0_row19\" class=\"row_heading level0 row19\" >19</th>\n",
       "                        <td id=\"T_a419d_row19_col0\" class=\"data row19 col0\" >many</td>\n",
       "                        <td id=\"T_a419d_row19_col1\" class=\"data row19 col1\" >523</td>\n",
       "            </tr>\n",
       "    </tbody></table>&nbsp&nbsp&nbsp&nbsp&nbsp&nbsp&nbsp<style  type=\"text/css\" >\n",
       "</style><table id=\"T_1e638_\" style='display:inline'><caption>Translation table </caption><thead>    <tr>        <th class=\"blank level0\" ></th>        <th class=\"col_heading level0 col0\" >Ngram</th>        <th class=\"col_heading level0 col1\" >Freq</th>    </tr></thead><tbody>\n",
       "                <tr>\n",
       "                        <th id=\"T_1e638_level0_row0\" class=\"row_heading level0 row0\" >0</th>\n",
       "                        <td id=\"T_1e638_row0_col0\" class=\"data row0 col0\" >said</td>\n",
       "                        <td id=\"T_1e638_row0_col1\" class=\"data row0 col1\" >2321</td>\n",
       "            </tr>\n",
       "            <tr>\n",
       "                        <th id=\"T_1e638_level0_row1\" class=\"row_heading level0 row1\" >1</th>\n",
       "                        <td id=\"T_1e638_row1_col0\" class=\"data row1 col0\" >year</td>\n",
       "                        <td id=\"T_1e638_row1_col1\" class=\"data row1 col1\" >1944</td>\n",
       "            </tr>\n",
       "            <tr>\n",
       "                        <th id=\"T_1e638_level0_row2\" class=\"row_heading level0 row2\" >2</th>\n",
       "                        <td id=\"T_1e638_row2_col0\" class=\"data row2 col0\" >people</td>\n",
       "                        <td id=\"T_1e638_row2_col1\" class=\"data row2 col1\" >1393</td>\n",
       "            </tr>\n",
       "            <tr>\n",
       "                        <th id=\"T_1e638_level0_row3\" class=\"row_heading level0 row3\" >3</th>\n",
       "                        <td id=\"T_1e638_row3_col0\" class=\"data row3 col0\" >time</td>\n",
       "                        <td id=\"T_1e638_row3_col1\" class=\"data row3 col1\" >1022</td>\n",
       "            </tr>\n",
       "            <tr>\n",
       "                        <th id=\"T_1e638_level0_row4\" class=\"row_heading level0 row4\" >4</th>\n",
       "                        <td id=\"T_1e638_row4_col0\" class=\"data row4 col0\" >one</td>\n",
       "                        <td id=\"T_1e638_row4_col1\" class=\"data row4 col1\" >937</td>\n",
       "            </tr>\n",
       "            <tr>\n",
       "                        <th id=\"T_1e638_level0_row5\" class=\"row_heading level0 row5\" >5</th>\n",
       "                        <td id=\"T_1e638_row5_col0\" class=\"data row5 col0\" >new</td>\n",
       "                        <td id=\"T_1e638_row5_col1\" class=\"data row5 col1\" >879</td>\n",
       "            </tr>\n",
       "            <tr>\n",
       "                        <th id=\"T_1e638_level0_row6\" class=\"row_heading level0 row6\" >6</th>\n",
       "                        <td id=\"T_1e638_row6_col0\" class=\"data row6 col0\" >also</td>\n",
       "                        <td id=\"T_1e638_row6_col1\" class=\"data row6 col1\" >744</td>\n",
       "            </tr>\n",
       "            <tr>\n",
       "                        <th id=\"T_1e638_level0_row7\" class=\"row_heading level0 row7\" >7</th>\n",
       "                        <td id=\"T_1e638_row7_col0\" class=\"data row7 col0\" >mr</td>\n",
       "                        <td id=\"T_1e638_row7_col1\" class=\"data row7 col1\" >739</td>\n",
       "            </tr>\n",
       "            <tr>\n",
       "                        <th id=\"T_1e638_level0_row8\" class=\"row_heading level0 row8\" >8</th>\n",
       "                        <td id=\"T_1e638_row8_col0\" class=\"data row8 col0\" >would</td>\n",
       "                        <td id=\"T_1e638_row8_col1\" class=\"data row8 col1\" >732</td>\n",
       "            </tr>\n",
       "            <tr>\n",
       "                        <th id=\"T_1e638_level0_row9\" class=\"row_heading level0 row9\" >9</th>\n",
       "                        <td id=\"T_1e638_row9_col0\" class=\"data row9 col0\" >say</td>\n",
       "                        <td id=\"T_1e638_row9_col1\" class=\"data row9 col1\" >705</td>\n",
       "            </tr>\n",
       "            <tr>\n",
       "                        <th id=\"T_1e638_level0_row10\" class=\"row_heading level0 row10\" >10</th>\n",
       "                        <td id=\"T_1e638_row10_col0\" class=\"data row10 col0\" >first</td>\n",
       "                        <td id=\"T_1e638_row10_col1\" class=\"data row10 col1\" >696</td>\n",
       "            </tr>\n",
       "            <tr>\n",
       "                        <th id=\"T_1e638_level0_row11\" class=\"row_heading level0 row11\" >11</th>\n",
       "                        <td id=\"T_1e638_row11_col0\" class=\"data row11 col0\" >old</td>\n",
       "                        <td id=\"T_1e638_row11_col1\" class=\"data row11 col1\" >690</td>\n",
       "            </tr>\n",
       "            <tr>\n",
       "                        <th id=\"T_1e638_level0_row12\" class=\"row_heading level0 row12\" >12</th>\n",
       "                        <td id=\"T_1e638_row12_col0\" class=\"data row12 col0\" >two</td>\n",
       "                        <td id=\"T_1e638_row12_col1\" class=\"data row12 col1\" >668</td>\n",
       "            </tr>\n",
       "            <tr>\n",
       "                        <th id=\"T_1e638_level0_row13\" class=\"row_heading level0 row13\" >13</th>\n",
       "                        <td id=\"T_1e638_row13_col0\" class=\"data row13 col0\" >woman</td>\n",
       "                        <td id=\"T_1e638_row13_col1\" class=\"data row13 col1\" >631</td>\n",
       "            </tr>\n",
       "            <tr>\n",
       "                        <th id=\"T_1e638_level0_row14\" class=\"row_heading level0 row14\" >14</th>\n",
       "                        <td id=\"T_1e638_row14_col0\" class=\"data row14 col0\" >police</td>\n",
       "                        <td id=\"T_1e638_row14_col1\" class=\"data row14 col1\" >626</td>\n",
       "            </tr>\n",
       "            <tr>\n",
       "                        <th id=\"T_1e638_level0_row15\" class=\"row_heading level0 row15\" >15</th>\n",
       "                        <td id=\"T_1e638_row15_col0\" class=\"data row15 col0\" >like</td>\n",
       "                        <td id=\"T_1e638_row15_col1\" class=\"data row15 col1\" >605</td>\n",
       "            </tr>\n",
       "            <tr>\n",
       "                        <th id=\"T_1e638_level0_row16\" class=\"row_heading level0 row16\" >16</th>\n",
       "                        <td id=\"T_1e638_row16_col0\" class=\"data row16 col0\" >state</td>\n",
       "                        <td id=\"T_1e638_row16_col1\" class=\"data row16 col1\" >605</td>\n",
       "            </tr>\n",
       "            <tr>\n",
       "                        <th id=\"T_1e638_level0_row17\" class=\"row_heading level0 row17\" >17</th>\n",
       "                        <td id=\"T_1e638_row17_col0\" class=\"data row17 col0\" >day</td>\n",
       "                        <td id=\"T_1e638_row17_col1\" class=\"data row17 col1\" >605</td>\n",
       "            </tr>\n",
       "            <tr>\n",
       "                        <th id=\"T_1e638_level0_row18\" class=\"row_heading level0 row18\" >18</th>\n",
       "                        <td id=\"T_1e638_row18_col0\" class=\"data row18 col0\" >around</td>\n",
       "                        <td id=\"T_1e638_row18_col1\" class=\"data row18 col1\" >571</td>\n",
       "            </tr>\n",
       "            <tr>\n",
       "                        <th id=\"T_1e638_level0_row19\" class=\"row_heading level0 row19\" >19</th>\n",
       "                        <td id=\"T_1e638_row19_col0\" class=\"data row19 col0\" >percent</td>\n",
       "                        <td id=\"T_1e638_row19_col1\" class=\"data row19 col1\" >557</td>\n",
       "            </tr>\n",
       "    </tbody></table>"
      ]
     },
     "metadata": {},
     "output_type": "display_data"
    }
   ],
   "source": [
    "df1_styler = top_df_4_reference.style.set_table_attributes(\"style='display:inline'\").set_caption('Reference table')\n",
    "df2_styler = top_df_4_translation.style.set_table_attributes(\"style='display:inline'\").set_caption('Translation table ')\n",
    "\n",
    "display_html(df1_styler._repr_html_()+'&nbsp'+'&nbsp'+'&nbsp'+'&nbsp'+'&nbsp'+'&nbsp'+'&nbsp'+df2_styler._repr_html_(), raw=True)"
   ]
  },
  {
   "cell_type": "code",
   "execution_count": 72,
   "id": "10da842f",
   "metadata": {},
   "outputs": [],
   "source": [
    "top_df_5_reference = get_top_n_grams(corpora[5]['reference'], top_k=20, n=1)\n",
    "top_df_5_translation = get_top_n_grams(corpora[5]['translation'], top_k=20, n=1)"
   ]
  },
  {
   "cell_type": "code",
   "execution_count": 73,
   "id": "84000fb0",
   "metadata": {},
   "outputs": [
    {
     "data": {
      "text/html": [
       "<style  type=\"text/css\" >\n",
       "</style><table id=\"T_dee5b_\" style='display:inline'><caption>Reference table</caption><thead>    <tr>        <th class=\"blank level0\" ></th>        <th class=\"col_heading level0 col0\" >Ngram</th>        <th class=\"col_heading level0 col1\" >Freq</th>    </tr></thead><tbody>\n",
       "                <tr>\n",
       "                        <th id=\"T_dee5b_level0_row0\" class=\"row_heading level0 row0\" >0</th>\n",
       "                        <td id=\"T_dee5b_row0_col0\" class=\"data row0 col0\" >year</td>\n",
       "                        <td id=\"T_dee5b_row0_col1\" class=\"data row0 col1\" >1695</td>\n",
       "            </tr>\n",
       "            <tr>\n",
       "                        <th id=\"T_dee5b_level0_row1\" class=\"row_heading level0 row1\" >1</th>\n",
       "                        <td id=\"T_dee5b_row1_col0\" class=\"data row1 col0\" >said</td>\n",
       "                        <td id=\"T_dee5b_row1_col1\" class=\"data row1 col1\" >1486</td>\n",
       "            </tr>\n",
       "            <tr>\n",
       "                        <th id=\"T_dee5b_level0_row2\" class=\"row_heading level0 row2\" >2</th>\n",
       "                        <td id=\"T_dee5b_row2_col0\" class=\"data row2 col0\" >russian</td>\n",
       "                        <td id=\"T_dee5b_row2_col1\" class=\"data row2 col1\" >1104</td>\n",
       "            </tr>\n",
       "            <tr>\n",
       "                        <th id=\"T_dee5b_level0_row3\" class=\"row_heading level0 row3\" >3</th>\n",
       "                        <td id=\"T_dee5b_row3_col0\" class=\"data row3 col0\" >new</td>\n",
       "                        <td id=\"T_dee5b_row3_col1\" class=\"data row3 col1\" >830</td>\n",
       "            </tr>\n",
       "            <tr>\n",
       "                        <th id=\"T_dee5b_level0_row4\" class=\"row_heading level0 row4\" >4</th>\n",
       "                        <td id=\"T_dee5b_row4_col0\" class=\"data row4 col0\" >people</td>\n",
       "                        <td id=\"T_dee5b_row4_col1\" class=\"data row4 col1\" >759</td>\n",
       "            </tr>\n",
       "            <tr>\n",
       "                        <th id=\"T_dee5b_level0_row5\" class=\"row_heading level0 row5\" >5</th>\n",
       "                        <td id=\"T_dee5b_row5_col0\" class=\"data row5 col0\" >one</td>\n",
       "                        <td id=\"T_dee5b_row5_col1\" class=\"data row5 col1\" >745</td>\n",
       "            </tr>\n",
       "            <tr>\n",
       "                        <th id=\"T_dee5b_level0_row6\" class=\"row_heading level0 row6\" >6</th>\n",
       "                        <td id=\"T_dee5b_row6_col0\" class=\"data row6 col0\" >time</td>\n",
       "                        <td id=\"T_dee5b_row6_col1\" class=\"data row6 col1\" >739</td>\n",
       "            </tr>\n",
       "            <tr>\n",
       "                        <th id=\"T_dee5b_level0_row7\" class=\"row_heading level0 row7\" >7</th>\n",
       "                        <td id=\"T_dee5b_row7_col0\" class=\"data row7 col0\" >first</td>\n",
       "                        <td id=\"T_dee5b_row7_col1\" class=\"data row7 col1\" >652</td>\n",
       "            </tr>\n",
       "            <tr>\n",
       "                        <th id=\"T_dee5b_level0_row8\" class=\"row_heading level0 row8\" >8</th>\n",
       "                        <td id=\"T_dee5b_row8_col0\" class=\"data row8 col0\" >according</td>\n",
       "                        <td id=\"T_dee5b_row8_col1\" class=\"data row8 col1\" >651</td>\n",
       "            </tr>\n",
       "            <tr>\n",
       "                        <th id=\"T_dee5b_level0_row9\" class=\"row_heading level0 row9\" >9</th>\n",
       "                        <td id=\"T_dee5b_row9_col0\" class=\"data row9 col0\" >russia</td>\n",
       "                        <td id=\"T_dee5b_row9_col1\" class=\"data row9 col1\" >647</td>\n",
       "            </tr>\n",
       "            <tr>\n",
       "                        <th id=\"T_dee5b_level0_row10\" class=\"row_heading level0 row10\" >10</th>\n",
       "                        <td id=\"T_dee5b_row10_col0\" class=\"data row10 col0\" >country</td>\n",
       "                        <td id=\"T_dee5b_row10_col1\" class=\"data row10 col1\" >631</td>\n",
       "            </tr>\n",
       "            <tr>\n",
       "                        <th id=\"T_dee5b_level0_row11\" class=\"row_heading level0 row11\" >11</th>\n",
       "                        <td id=\"T_dee5b_row11_col0\" class=\"data row11 col0\" >state</td>\n",
       "                        <td id=\"T_dee5b_row11_col1\" class=\"data row11 col1\" >606</td>\n",
       "            </tr>\n",
       "            <tr>\n",
       "                        <th id=\"T_dee5b_level0_row12\" class=\"row_heading level0 row12\" >12</th>\n",
       "                        <td id=\"T_dee5b_row12_col0\" class=\"data row12 col0\" >team</td>\n",
       "                        <td id=\"T_dee5b_row12_col1\" class=\"data row12 col1\" >600</td>\n",
       "            </tr>\n",
       "            <tr>\n",
       "                        <th id=\"T_dee5b_level0_row13\" class=\"row_heading level0 row13\" >13</th>\n",
       "                        <td id=\"T_dee5b_row13_col0\" class=\"data row13 col0\" >also</td>\n",
       "                        <td id=\"T_dee5b_row13_col1\" class=\"data row13 col1\" >573</td>\n",
       "            </tr>\n",
       "            <tr>\n",
       "                        <th id=\"T_dee5b_level0_row14\" class=\"row_heading level0 row14\" >14</th>\n",
       "                        <td id=\"T_dee5b_row14_col0\" class=\"data row14 col0\" >company</td>\n",
       "                        <td id=\"T_dee5b_row14_col1\" class=\"data row14 col1\" >566</td>\n",
       "            </tr>\n",
       "            <tr>\n",
       "                        <th id=\"T_dee5b_level0_row15\" class=\"row_heading level0 row15\" >15</th>\n",
       "                        <td id=\"T_dee5b_row15_col0\" class=\"data row15 col0\" >last</td>\n",
       "                        <td id=\"T_dee5b_row15_col1\" class=\"data row15 col1\" >531</td>\n",
       "            </tr>\n",
       "            <tr>\n",
       "                        <th id=\"T_dee5b_level0_row16\" class=\"row_heading level0 row16\" >16</th>\n",
       "                        <td id=\"T_dee5b_row16_col0\" class=\"data row16 col0\" >two</td>\n",
       "                        <td id=\"T_dee5b_row16_col1\" class=\"data row16 col1\" >505</td>\n",
       "            </tr>\n",
       "            <tr>\n",
       "                        <th id=\"T_dee5b_level0_row17\" class=\"row_heading level0 row17\" >17</th>\n",
       "                        <td id=\"T_dee5b_row17_col0\" class=\"data row17 col0\" >head</td>\n",
       "                        <td id=\"T_dee5b_row17_col1\" class=\"data row17 col1\" >480</td>\n",
       "            </tr>\n",
       "            <tr>\n",
       "                        <th id=\"T_dee5b_level0_row18\" class=\"row_heading level0 row18\" >18</th>\n",
       "                        <td id=\"T_dee5b_row18_col0\" class=\"data row18 col0\" >old</td>\n",
       "                        <td id=\"T_dee5b_row18_col1\" class=\"data row18 col1\" >453</td>\n",
       "            </tr>\n",
       "            <tr>\n",
       "                        <th id=\"T_dee5b_level0_row19\" class=\"row_heading level0 row19\" >19</th>\n",
       "                        <td id=\"T_dee5b_row19_col0\" class=\"data row19 col0\" >place</td>\n",
       "                        <td id=\"T_dee5b_row19_col1\" class=\"data row19 col1\" >451</td>\n",
       "            </tr>\n",
       "    </tbody></table>&nbsp&nbsp&nbsp&nbsp&nbsp&nbsp&nbsp<style  type=\"text/css\" >\n",
       "</style><table id=\"T_816cc_\" style='display:inline'><caption>Translation table </caption><thead>    <tr>        <th class=\"blank level0\" ></th>        <th class=\"col_heading level0 col0\" >Ngram</th>        <th class=\"col_heading level0 col1\" >Freq</th>    </tr></thead><tbody>\n",
       "                <tr>\n",
       "                        <th id=\"T_816cc_level0_row0\" class=\"row_heading level0 row0\" >0</th>\n",
       "                        <td id=\"T_816cc_row0_col0\" class=\"data row0 col0\" >year</td>\n",
       "                        <td id=\"T_816cc_row0_col1\" class=\"data row0 col1\" >1577</td>\n",
       "            </tr>\n",
       "            <tr>\n",
       "                        <th id=\"T_816cc_level0_row1\" class=\"row_heading level0 row1\" >1</th>\n",
       "                        <td id=\"T_816cc_row1_col0\" class=\"data row1 col0\" >said</td>\n",
       "                        <td id=\"T_816cc_row1_col1\" class=\"data row1 col1\" >1545</td>\n",
       "            </tr>\n",
       "            <tr>\n",
       "                        <th id=\"T_816cc_level0_row2\" class=\"row_heading level0 row2\" >2</th>\n",
       "                        <td id=\"T_816cc_row2_col0\" class=\"data row2 col0\" >russian</td>\n",
       "                        <td id=\"T_816cc_row2_col1\" class=\"data row2 col1\" >1131</td>\n",
       "            </tr>\n",
       "            <tr>\n",
       "                        <th id=\"T_816cc_level0_row3\" class=\"row_heading level0 row3\" >3</th>\n",
       "                        <td id=\"T_816cc_row3_col0\" class=\"data row3 col0\" >one</td>\n",
       "                        <td id=\"T_816cc_row3_col1\" class=\"data row3 col1\" >846</td>\n",
       "            </tr>\n",
       "            <tr>\n",
       "                        <th id=\"T_816cc_level0_row4\" class=\"row_heading level0 row4\" >4</th>\n",
       "                        <td id=\"T_816cc_row4_col0\" class=\"data row4 col0\" >new</td>\n",
       "                        <td id=\"T_816cc_row4_col1\" class=\"data row4 col1\" >831</td>\n",
       "            </tr>\n",
       "            <tr>\n",
       "                        <th id=\"T_816cc_level0_row5\" class=\"row_heading level0 row5\" >5</th>\n",
       "                        <td id=\"T_816cc_row5_col0\" class=\"data row5 col0\" >time</td>\n",
       "                        <td id=\"T_816cc_row5_col1\" class=\"data row5 col1\" >747</td>\n",
       "            </tr>\n",
       "            <tr>\n",
       "                        <th id=\"T_816cc_level0_row6\" class=\"row_heading level0 row6\" >6</th>\n",
       "                        <td id=\"T_816cc_row6_col0\" class=\"data row6 col0\" >state</td>\n",
       "                        <td id=\"T_816cc_row6_col1\" class=\"data row6 col1\" >732</td>\n",
       "            </tr>\n",
       "            <tr>\n",
       "                        <th id=\"T_816cc_level0_row7\" class=\"row_heading level0 row7\" >7</th>\n",
       "                        <td id=\"T_816cc_row7_col0\" class=\"data row7 col0\" >people</td>\n",
       "                        <td id=\"T_816cc_row7_col1\" class=\"data row7 col1\" >721</td>\n",
       "            </tr>\n",
       "            <tr>\n",
       "                        <th id=\"T_816cc_level0_row8\" class=\"row_heading level0 row8\" >8</th>\n",
       "                        <td id=\"T_816cc_row8_col0\" class=\"data row8 col0\" >russia</td>\n",
       "                        <td id=\"T_816cc_row8_col1\" class=\"data row8 col1\" >721</td>\n",
       "            </tr>\n",
       "            <tr>\n",
       "                        <th id=\"T_816cc_level0_row9\" class=\"row_heading level0 row9\" >9</th>\n",
       "                        <td id=\"T_816cc_row9_col0\" class=\"data row9 col0\" >also</td>\n",
       "                        <td id=\"T_816cc_row9_col1\" class=\"data row9 col1\" >695</td>\n",
       "            </tr>\n",
       "            <tr>\n",
       "                        <th id=\"T_816cc_level0_row10\" class=\"row_heading level0 row10\" >10</th>\n",
       "                        <td id=\"T_816cc_row10_col0\" class=\"data row10 col0\" >mr</td>\n",
       "                        <td id=\"T_816cc_row10_col1\" class=\"data row10 col1\" >676</td>\n",
       "            </tr>\n",
       "            <tr>\n",
       "                        <th id=\"T_816cc_level0_row11\" class=\"row_heading level0 row11\" >11</th>\n",
       "                        <td id=\"T_816cc_row11_col0\" class=\"data row11 col0\" >first</td>\n",
       "                        <td id=\"T_816cc_row11_col1\" class=\"data row11 col1\" >635</td>\n",
       "            </tr>\n",
       "            <tr>\n",
       "                        <th id=\"T_816cc_level0_row12\" class=\"row_heading level0 row12\" >12</th>\n",
       "                        <td id=\"T_816cc_row12_col0\" class=\"data row12 col0\" >team</td>\n",
       "                        <td id=\"T_816cc_row12_col1\" class=\"data row12 col1\" >631</td>\n",
       "            </tr>\n",
       "            <tr>\n",
       "                        <th id=\"T_816cc_level0_row13\" class=\"row_heading level0 row13\" >13</th>\n",
       "                        <td id=\"T_816cc_row13_col0\" class=\"data row13 col0\" >country</td>\n",
       "                        <td id=\"T_816cc_row13_col1\" class=\"data row13 col1\" >596</td>\n",
       "            </tr>\n",
       "            <tr>\n",
       "                        <th id=\"T_816cc_level0_row14\" class=\"row_heading level0 row14\" >14</th>\n",
       "                        <td id=\"T_816cc_row14_col0\" class=\"data row14 col0\" >according</td>\n",
       "                        <td id=\"T_816cc_row14_col1\" class=\"data row14 col1\" >540</td>\n",
       "            </tr>\n",
       "            <tr>\n",
       "                        <th id=\"T_816cc_level0_row15\" class=\"row_heading level0 row15\" >15</th>\n",
       "                        <td id=\"T_816cc_row15_col0\" class=\"data row15 col0\" >two</td>\n",
       "                        <td id=\"T_816cc_row15_col1\" class=\"data row15 col1\" >508</td>\n",
       "            </tr>\n",
       "            <tr>\n",
       "                        <th id=\"T_816cc_level0_row16\" class=\"row_heading level0 row16\" >16</th>\n",
       "                        <td id=\"T_816cc_row16_col0\" class=\"data row16 col0\" >company</td>\n",
       "                        <td id=\"T_816cc_row16_col1\" class=\"data row16 col1\" >506</td>\n",
       "            </tr>\n",
       "            <tr>\n",
       "                        <th id=\"T_816cc_level0_row17\" class=\"row_heading level0 row17\" >17</th>\n",
       "                        <td id=\"T_816cc_row17_col0\" class=\"data row17 col0\" >say</td>\n",
       "                        <td id=\"T_816cc_row17_col1\" class=\"data row17 col1\" >496</td>\n",
       "            </tr>\n",
       "            <tr>\n",
       "                        <th id=\"T_816cc_level0_row18\" class=\"row_heading level0 row18\" >18</th>\n",
       "                        <td id=\"T_816cc_row18_col0\" class=\"data row18 col0\" >last</td>\n",
       "                        <td id=\"T_816cc_row18_col1\" class=\"data row18 col1\" >468</td>\n",
       "            </tr>\n",
       "            <tr>\n",
       "                        <th id=\"T_816cc_level0_row19\" class=\"row_heading level0 row19\" >19</th>\n",
       "                        <td id=\"T_816cc_row19_col0\" class=\"data row19 col0\" >like</td>\n",
       "                        <td id=\"T_816cc_row19_col1\" class=\"data row19 col1\" >465</td>\n",
       "            </tr>\n",
       "    </tbody></table>"
      ]
     },
     "metadata": {},
     "output_type": "display_data"
    }
   ],
   "source": [
    "df1_styler = top_df_5_reference.style.set_table_attributes(\"style='display:inline'\").set_caption('Reference table')\n",
    "df2_styler = top_df_5_translation.style.set_table_attributes(\"style='display:inline'\").set_caption('Translation table ')\n",
    "\n",
    "display_html(df1_styler._repr_html_()+'&nbsp'+'&nbsp'+'&nbsp'+'&nbsp'+'&nbsp'+'&nbsp'+'&nbsp'+df2_styler._repr_html_(), raw=True)"
   ]
  },
  {
   "cell_type": "code",
   "execution_count": 74,
   "id": "ec77288c",
   "metadata": {},
   "outputs": [
    {
     "data": {
      "text/plain": [
       "<Figure size 432x288 with 0 Axes>"
      ]
     },
     "metadata": {},
     "output_type": "display_data"
    },
    {
     "data": {
      "image/png": "[encoded data removed]",
      "text/plain": [
       "<Figure size 1440x360 with 2 Axes>"
      ]
     },
     "metadata": {
      "needs_background": "light"
     },
     "output_type": "display_data"
    }
   ],
   "source": [
    "plot_frequencies(top_df_0_reference, top_df_0_translation)"
   ]
  },
  {
   "cell_type": "code",
   "execution_count": 75,
   "id": "d7cab9de",
   "metadata": {},
   "outputs": [
    {
     "data": {
      "text/plain": [
       "<Figure size 432x288 with 0 Axes>"
      ]
     },
     "metadata": {},
     "output_type": "display_data"
    },
    {
     "data": {
      "image/png": "[encoded data removed]",
      "text/plain": [
       "<Figure size 1440x360 with 2 Axes>"
      ]
     },
     "metadata": {
      "needs_background": "light"
     },
     "output_type": "display_data"
    }
   ],
   "source": [
    "plot_frequencies(top_df_1_reference, top_df_1_translation)"
   ]
  },
  {
   "cell_type": "code",
   "execution_count": 76,
   "id": "a64689e8",
   "metadata": {},
   "outputs": [
    {
     "data": {
      "text/plain": [
       "<Figure size 432x288 with 0 Axes>"
      ]
     },
     "metadata": {},
     "output_type": "display_data"
    },
    {
     "data": {
      "image/png": "[encoded data removed]",
      "text/plain": [
       "<Figure size 1440x360 with 2 Axes>"
      ]
     },
     "metadata": {
      "needs_background": "light"
     },
     "output_type": "display_data"
    }
   ],
   "source": [
    "plot_frequencies(top_df_2_reference, top_df_2_translation)"
   ]
  },
  {
   "cell_type": "code",
   "execution_count": 77,
   "id": "bc2b6f9e",
   "metadata": {},
   "outputs": [
    {
     "data": {
      "text/plain": [
       "<Figure size 432x288 with 0 Axes>"
      ]
     },
     "metadata": {},
     "output_type": "display_data"
    },
    {
     "data": {
      "image/png": "[encoded data removed]",
      "text/plain": [
       "<Figure size 1440x360 with 2 Axes>"
      ]
     },
     "metadata": {
      "needs_background": "light"
     },
     "output_type": "display_data"
    }
   ],
   "source": [
    "plot_frequencies(top_df_3_reference, top_df_3_translation)"
   ]
  },
  {
   "cell_type": "code",
   "execution_count": 78,
   "id": "77169d5e",
   "metadata": {},
   "outputs": [
    {
     "data": {
      "text/plain": [
       "<Figure size 432x288 with 0 Axes>"
      ]
     },
     "metadata": {},
     "output_type": "display_data"
    },
    {
     "data": {
      "image/png": "[encoded data removed]",
      "text/plain": [
       "<Figure size 1440x360 with 2 Axes>"
      ]
     },
     "metadata": {
      "needs_background": "light"
     },
     "output_type": "display_data"
    }
   ],
   "source": [
    "plot_frequencies(top_df_4_reference, top_df_4_translation)"
   ]
  },
  {
   "cell_type": "code",
   "execution_count": 79,
   "id": "0fa63561",
   "metadata": {},
   "outputs": [
    {
     "data": {
      "text/plain": [
       "<Figure size 432x288 with 0 Axes>"
      ]
     },
     "metadata": {},
     "output_type": "display_data"
    },
    {
     "data": {
      "image/png": "[encoded data removed]",
      "text/plain": [
       "<Figure size 1440x360 with 2 Axes>"
      ]
     },
     "metadata": {
      "needs_background": "light"
     },
     "output_type": "display_data"
    }
   ],
   "source": [
    "plot_frequencies(top_df_5_reference, top_df_5_translation)"
   ]
  },
  {
   "cell_type": "code",
   "execution_count": 80,
   "id": "23f2a1db",
   "metadata": {},
   "outputs": [
    {
     "data": {
      "text/plain": [
       "<Figure size 432x288 with 0 Axes>"
      ]
     },
     "metadata": {},
     "output_type": "display_data"
    },
    {
     "data": {
      "image/png": "[encoded data removed]",
      "text/plain": [
       "<Figure size 1440x360 with 2 Axes>"
      ]
     },
     "metadata": {
      "needs_background": "light"
     },
     "output_type": "display_data"
    }
   ],
   "source": [
    "top_df_0_reference_2 = get_top_n_grams(corpora[0]['reference'], top_k=20, n=2)\n",
    "top_df_0_translation_2 = get_top_n_grams(corpora[0]['translation'], top_k=20, n=2)\n",
    "\n",
    "plot_frequencies(top_df_0_reference_2, top_df_0_translation_2)"
   ]
  },
  {
   "cell_type": "code",
   "execution_count": 81,
   "id": "aa62d649",
   "metadata": {},
   "outputs": [
    {
     "data": {
      "text/plain": [
       "<Figure size 432x288 with 0 Axes>"
      ]
     },
     "metadata": {},
     "output_type": "display_data"
    },
    {
     "data": {
      "image/png": "[encoded data removed]",
      "text/plain": [
       "<Figure size 1440x360 with 2 Axes>"
      ]
     },
     "metadata": {
      "needs_background": "light"
     },
     "output_type": "display_data"
    }
   ],
   "source": [
    "top_df_1_reference_2 = get_top_n_grams(corpora[1]['reference'], top_k=20, n=2)\n",
    "top_df_1_translation_2 = get_top_n_grams(corpora[1]['translation'], top_k=20, n=2)\n",
    "\n",
    "plot_frequencies(top_df_1_reference_2, top_df_1_translation_2)"
   ]
  },
  {
   "cell_type": "code",
   "execution_count": 82,
   "id": "7ba37653",
   "metadata": {},
   "outputs": [
    {
     "data": {
      "text/plain": [
       "<Figure size 432x288 with 0 Axes>"
      ]
     },
     "metadata": {},
     "output_type": "display_data"
    },
    {
     "data": {
      "image/png": "[encoded data removed]",
      "text/plain": [
       "<Figure size 1440x360 with 2 Axes>"
      ]
     },
     "metadata": {
      "needs_background": "light"
     },
     "output_type": "display_data"
    }
   ],
   "source": [
    "top_df_2_reference_2 = get_top_n_grams(corpora[2]['reference'], top_k=20, n=2)\n",
    "top_df_2_translation_2 = get_top_n_grams(corpora[2]['translation'], top_k=20, n=2)\n",
    "\n",
    "plot_frequencies(top_df_2_reference_2, top_df_2_translation_2)"
   ]
  },
  {
   "cell_type": "code",
   "execution_count": 83,
   "id": "5faffc6f",
   "metadata": {},
   "outputs": [
    {
     "data": {
      "text/plain": [
       "<Figure size 432x288 with 0 Axes>"
      ]
     },
     "metadata": {},
     "output_type": "display_data"
    },
    {
     "data": {
      "image/png": "[encoded data removed]",
      "text/plain": [
       "<Figure size 1440x360 with 2 Axes>"
      ]
     },
     "metadata": {
      "needs_background": "light"
     },
     "output_type": "display_data"
    }
   ],
   "source": [
    "top_df_3_reference_2 = get_top_n_grams(corpora[3]['reference'], top_k=20, n=2)\n",
    "top_df_3_translation_2 = get_top_n_grams(corpora[3]['translation'], top_k=20, n=2)\n",
    "\n",
    "plot_frequencies(top_df_3_reference_2, top_df_3_translation_2)"
   ]
  },
  {
   "cell_type": "code",
   "execution_count": 84,
   "id": "af2a222f",
   "metadata": {},
   "outputs": [
    {
     "data": {
      "text/plain": [
       "<Figure size 432x288 with 0 Axes>"
      ]
     },
     "metadata": {},
     "output_type": "display_data"
    },
    {
     "data": {
      "image/png": "[encoded data removed]",
      "text/plain": [
       "<Figure size 1440x360 with 2 Axes>"
      ]
     },
     "metadata": {
      "needs_background": "light"
     },
     "output_type": "display_data"
    }
   ],
   "source": [
    "top_df_4_reference_2 = get_top_n_grams(corpora[4]['reference'], top_k=20, n=2)\n",
    "top_df_4_translation_2 = get_top_n_grams(corpora[4]['translation'], top_k=20, n=2)\n",
    "\n",
    "plot_frequencies(top_df_4_reference_2, top_df_4_translation_2)"
   ]
  },
  {
   "cell_type": "code",
   "execution_count": 85,
   "id": "14c65b43",
   "metadata": {},
   "outputs": [
    {
     "data": {
      "text/plain": [
       "<Figure size 432x288 with 0 Axes>"
      ]
     },
     "metadata": {},
     "output_type": "display_data"
    },
    {
     "data": {
      "image/png": "[encoded data removed]",
      "text/plain": [
       "<Figure size 1440x360 with 2 Axes>"
      ]
     },
     "metadata": {
      "needs_background": "light"
     },
     "output_type": "display_data"
    }
   ],
   "source": [
    "top_df_5_reference_2 = get_top_n_grams(corpora[5]['reference'], top_k=20, n=2)\n",
    "top_df_5_translation_2 = get_top_n_grams(corpora[5]['translation'], top_k=20, n=2)\n",
    "\n",
    "plot_frequencies(top_df_5_reference_2, top_df_5_translation_2)"
   ]
  },
  {
   "cell_type": "markdown",
   "id": "9e7cfa31",
   "metadata": {},
   "source": [
    "### Evolution Methods\n"
   ]
  },
  {
   "cell_type": "markdown",
   "id": "db7a7013",
   "metadata": {},
   "source": [
    "#### BLEU Scores - Bi-Lingual Evaluation Understudy"
   ]
  },
  {
   "cell_type": "code",
   "execution_count": 86,
   "id": "295b0f23",
   "metadata": {
    "scrolled": false
   },
   "outputs": [
    {
     "data": {
      "application/vnd.jupyter.widget-view+json": {
       "model_id": "63d39f891f7644efb5f373cce11fb43c",
       "version_major": 2,
       "version_minor": 0
      },
      "text/plain": [
       "  0%|          | 0/6 [00:00<?, ?it/s]"
      ]
     },
     "metadata": {},
     "output_type": "display_data"
    },
    {
     "data": {
      "application/vnd.jupyter.widget-view+json": {
       "model_id": "03fa2d6c0a6b4a778cf3e6890a3c7781",
       "version_major": 2,
       "version_minor": 0
      },
      "text/plain": [
       "  0%|          | 0/6748 [00:00<?, ?it/s]"
      ]
     },
     "metadata": {},
     "output_type": "display_data"
    },
    {
     "data": {
      "application/vnd.jupyter.widget-view+json": {
       "model_id": "71771c0ae8cc41d79e12669c78bbd672",
       "version_major": 2,
       "version_minor": 0
      },
      "text/plain": [
       "  0%|          | 0/26418 [00:00<?, ?it/s]"
      ]
     },
     "metadata": {},
     "output_type": "display_data"
    },
    {
     "data": {
      "application/vnd.jupyter.widget-view+json": {
       "model_id": "136c22bd134d4ff09f4ec8d7680e436c",
       "version_major": 2,
       "version_minor": 0
      },
      "text/plain": [
       "  0%|          | 0/11585 [00:00<?, ?it/s]"
      ]
     },
     "metadata": {},
     "output_type": "display_data"
    },
    {
     "data": {
      "application/vnd.jupyter.widget-view+json": {
       "model_id": "665c79476091411ab16797e503b6a4f2",
       "version_major": 2,
       "version_minor": 0
      },
      "text/plain": [
       "  0%|          | 0/10221 [00:00<?, ?it/s]"
      ]
     },
     "metadata": {},
     "output_type": "display_data"
    },
    {
     "data": {
      "application/vnd.jupyter.widget-view+json": {
       "model_id": "22545ce27c764c099e70a3db8c86ca92",
       "version_major": 2,
       "version_minor": 0
      },
      "text/plain": [
       "  0%|          | 0/21704 [00:00<?, ?it/s]"
      ]
     },
     "metadata": {},
     "output_type": "display_data"
    },
    {
     "data": {
      "application/vnd.jupyter.widget-view+json": {
       "model_id": "a9c92e4cc4de4445b577123f91ace73b",
       "version_major": 2,
       "version_minor": 0
      },
      "text/plain": [
       "  0%|          | 0/17977 [00:00<?, ?it/s]"
      ]
     },
     "metadata": {},
     "output_type": "display_data"
    }
   ],
   "source": [
    "#Calculate BLEU Score for the entire Corpora \n",
    "for i in tqdm(range(len(corpus))):\n",
    "    #Temp Series to store the BLEU-4 scores (initiated as 0 and type float64)\n",
    "    bleus=np.zeros(corpora[i].shape[0],'float64')\n",
    "    for j in tqdm(range(corpora[i].shape[0])):\n",
    "        #The human translation\n",
    "        reference=corpora[i].loc[j].reference.lower().split()\n",
    "        #The automatic translation bein evaluated\n",
    "        translation=corpora[i].loc[j].translation.lower().split() \n",
    "        \n",
    "        if not reference:\n",
    "             continue\n",
    "        if not translation:\n",
    "             continue\n",
    "                \n",
    "        #Calculate the BLEU-4 (cumulative 4-gram BLEU score)\n",
    "        bleus[j]=sentence_bleu(translation,reference, weights=(0.25, 0.25, 0.25, 0.25))\n",
    "        corpora[i]['BLEU']=bleus"
   ]
  },
  {
   "cell_type": "code",
   "execution_count": 87,
   "id": "572955b1",
   "metadata": {},
   "outputs": [
    {
     "data": {
      "text/html": [
       "<div>\n",
       "<style scoped>\n",
       "    .dataframe tbody tr th:only-of-type {\n",
       "        vertical-align: middle;\n",
       "    }\n",
       "\n",
       "    .dataframe tbody tr th {\n",
       "        vertical-align: top;\n",
       "    }\n",
       "\n",
       "    .dataframe thead th {\n",
       "        text-align: right;\n",
       "    }\n",
       "</style>\n",
       "<table border=\"1\" class=\"dataframe\">\n",
       "  <thead>\n",
       "    <tr style=\"text-align: right;\">\n",
       "      <th></th>\n",
       "      <th>source</th>\n",
       "      <th>reference</th>\n",
       "      <th>translation</th>\n",
       "      <th>z-score</th>\n",
       "      <th>avg-score</th>\n",
       "      <th>annotators</th>\n",
       "      <th>BLEU</th>\n",
       "    </tr>\n",
       "  </thead>\n",
       "  <tbody>\n",
       "    <tr>\n",
       "      <th>0</th>\n",
       "      <td>他性格活泼，这对英国赛马来说是好事，但是除此之外，他还是一位不可思议的骑师。</td>\n",
       "      <td>character good british horse addition incredib...</td>\n",
       "      <td>lively character good british racing incredibl...</td>\n",
       "      <td>0.625559</td>\n",
       "      <td>92.75</td>\n",
       "      <td>4</td>\n",
       "      <td>0.0</td>\n",
       "    </tr>\n",
       "    <tr>\n",
       "      <th>1</th>\n",
       "      <td>近日刚搬至旧金山的一位28岁厨师本周被发现死于当地一家商场的楼梯间。</td>\n",
       "      <td>chef moved san francisco found dead stair loca...</td>\n",
       "      <td>year old chef recently moved san francisco fou...</td>\n",
       "      <td>0.550952</td>\n",
       "      <td>92.00</td>\n",
       "      <td>4</td>\n",
       "      <td>0.0</td>\n",
       "    </tr>\n",
       "    <tr>\n",
       "      <th>2</th>\n",
       "      <td>去年，有官员表示，胡克先生的团队所得出的结论是针对伊斯兰国炼油厂的空袭并未大幅削减恐怖组织的...</td>\n",
       "      <td>last year official said mr hooker team conclud...</td>\n",
       "      <td>last year official said mr hooker team conclud...</td>\n",
       "      <td>0.540814</td>\n",
       "      <td>89.00</td>\n",
       "      <td>5</td>\n",
       "      <td>0.0</td>\n",
       "    </tr>\n",
       "    <tr>\n",
       "      <th>3</th>\n",
       "      <td>尤其值得玩味的是政府对于饥饿民众们的回应，比如总统市民赫伯特·胡佛“别人的事我可管不了”的态度。</td>\n",
       "      <td>particularly interesting note government respo...</td>\n",
       "      <td>especially savory account government response ...</td>\n",
       "      <td>-0.793944</td>\n",
       "      <td>49.50</td>\n",
       "      <td>4</td>\n",
       "      <td>0.0</td>\n",
       "    </tr>\n",
       "    <tr>\n",
       "      <th>4</th>\n",
       "      <td>不过，从20世纪90年代至今，人类共进行了18次火星探测，而月球探测只进行了14次。</td>\n",
       "      <td>however present human being carried mar probe ...</td>\n",
       "      <td>however ever since total human exploration car...</td>\n",
       "      <td>0.046532</td>\n",
       "      <td>77.50</td>\n",
       "      <td>4</td>\n",
       "      <td>0.0</td>\n",
       "    </tr>\n",
       "  </tbody>\n",
       "</table>\n",
       "</div>"
      ],
      "text/plain": [
       "                                              source  \\\n",
       "0             他性格活泼，这对英国赛马来说是好事，但是除此之外，他还是一位不可思议的骑师。   \n",
       "1                 近日刚搬至旧金山的一位28岁厨师本周被发现死于当地一家商场的楼梯间。   \n",
       "2  去年，有官员表示，胡克先生的团队所得出的结论是针对伊斯兰国炼油厂的空袭并未大幅削减恐怖组织的...   \n",
       "3   尤其值得玩味的是政府对于饥饿民众们的回应，比如总统市民赫伯特·胡佛“别人的事我可管不了”的态度。   \n",
       "4         不过，从20世纪90年代至今，人类共进行了18次火星探测，而月球探测只进行了14次。   \n",
       "\n",
       "                                           reference  \\\n",
       "0  character good british horse addition incredib...   \n",
       "1  chef moved san francisco found dead stair loca...   \n",
       "2  last year official said mr hooker team conclud...   \n",
       "3  particularly interesting note government respo...   \n",
       "4  however present human being carried mar probe ...   \n",
       "\n",
       "                                         translation   z-score  avg-score  \\\n",
       "0  lively character good british racing incredibl...  0.625559      92.75   \n",
       "1  year old chef recently moved san francisco fou...  0.550952      92.00   \n",
       "2  last year official said mr hooker team conclud...  0.540814      89.00   \n",
       "3  especially savory account government response ... -0.793944      49.50   \n",
       "4  however ever since total human exploration car...  0.046532      77.50   \n",
       "\n",
       "   annotators  BLEU  \n",
       "0           4   0.0  \n",
       "1           4   0.0  \n",
       "2           5   0.0  \n",
       "3           4   0.0  \n",
       "4           4   0.0  "
      ]
     },
     "execution_count": 87,
     "metadata": {},
     "output_type": "execute_result"
    }
   ],
   "source": [
    "#Examine BLEU-4 Score for one language pair\n",
    "corpora[1].head(5)"
   ]
  },
  {
   "cell_type": "code",
   "execution_count": 88,
   "id": "10ddefeb",
   "metadata": {},
   "outputs": [
    {
     "data": {
      "text/html": [
       "<div>\n",
       "<style scoped>\n",
       "    .dataframe tbody tr th:only-of-type {\n",
       "        vertical-align: middle;\n",
       "    }\n",
       "\n",
       "    .dataframe tbody tr th {\n",
       "        vertical-align: top;\n",
       "    }\n",
       "\n",
       "    .dataframe thead th {\n",
       "        text-align: right;\n",
       "    }\n",
       "</style>\n",
       "<table border=\"1\" class=\"dataframe\">\n",
       "  <thead>\n",
       "    <tr style=\"text-align: right;\">\n",
       "      <th></th>\n",
       "      <th>BLEU (Pearson)</th>\n",
       "      <th>BLEU (Kendall Tau-T)</th>\n",
       "      <th>BLEU (Kendall Tau-P)</th>\n",
       "    </tr>\n",
       "    <tr>\n",
       "      <th>Corpus</th>\n",
       "      <th></th>\n",
       "      <th></th>\n",
       "      <th></th>\n",
       "    </tr>\n",
       "  </thead>\n",
       "  <tbody>\n",
       "    <tr>\n",
       "      <th>en-fi</th>\n",
       "      <td>-0.00019993460086985582</td>\n",
       "      <td>-0.010476235604099505</td>\n",
       "      <td>0.28565658813005235</td>\n",
       "    </tr>\n",
       "    <tr>\n",
       "      <th>zh-en</th>\n",
       "      <td>-0.006744183694038605</td>\n",
       "      <td>0.00899648940056324</td>\n",
       "      <td>0.0706853078507699</td>\n",
       "    </tr>\n",
       "    <tr>\n",
       "      <th>cs-en</th>\n",
       "      <td>-0.013286058711302853</td>\n",
       "      <td>-0.03257687216333275</td>\n",
       "      <td>1.4403239002610465e-05</td>\n",
       "    </tr>\n",
       "    <tr>\n",
       "      <th>en-zh</th>\n",
       "      <td>-0.005862317054644117</td>\n",
       "      <td>0.04898185951910319</td>\n",
       "      <td>4.5031245734006386e-10</td>\n",
       "    </tr>\n",
       "    <tr>\n",
       "      <th>de-en</th>\n",
       "      <td>0.007824270931235564</td>\n",
       "      <td>-0.005946211525284525</td>\n",
       "      <td>0.2774360547036304</td>\n",
       "    </tr>\n",
       "    <tr>\n",
       "      <th>ru-en</th>\n",
       "      <td>0.0031452312853111407</td>\n",
       "      <td>-0.0037329959255179416</td>\n",
       "      <td>0.5360869163567754</td>\n",
       "    </tr>\n",
       "    <tr>\n",
       "      <th>Average</th>\n",
       "      <td>-0.00252</td>\n",
       "      <td>0.000874</td>\n",
       "      <td>0.19498</td>\n",
       "    </tr>\n",
       "  </tbody>\n",
       "</table>\n",
       "</div>"
      ],
      "text/plain": [
       "                  BLEU (Pearson)    BLEU (Kendall Tau-T)  \\\n",
       "Corpus                                                     \n",
       "en-fi    -0.00019993460086985582   -0.010476235604099505   \n",
       "zh-en      -0.006744183694038605     0.00899648940056324   \n",
       "cs-en      -0.013286058711302853    -0.03257687216333275   \n",
       "en-zh      -0.005862317054644117     0.04898185951910319   \n",
       "de-en       0.007824270931235564   -0.005946211525284525   \n",
       "ru-en      0.0031452312853111407  -0.0037329959255179416   \n",
       "Average                 -0.00252                0.000874   \n",
       "\n",
       "           BLEU (Kendall Tau-P)  \n",
       "Corpus                           \n",
       "en-fi       0.28565658813005235  \n",
       "zh-en        0.0706853078507699  \n",
       "cs-en    1.4403239002610465e-05  \n",
       "en-zh    4.5031245734006386e-10  \n",
       "de-en        0.2774360547036304  \n",
       "ru-en        0.5360869163567754  \n",
       "Average                 0.19498  "
      ]
     },
     "execution_count": 88,
     "metadata": {},
     "output_type": "execute_result"
    }
   ],
   "source": [
    "#Empty list to keep correlations of BLEU and Z-Score\n",
    "correl=[]\n",
    "KendallT=[]\n",
    "KendallP=[]\n",
    "\n",
    "#Clalculate the correlation of columns BLEU and Z-Score on all corpora\n",
    "for i in range(len(corpus)):\n",
    "    correl.append(corpora[i].BLEU.corr(corpora[i]['z-score']))\n",
    "    T,P=stats.kendalltau(corpora[i].BLEU, corpora[i]['z-score'])\n",
    "    KendallT.append(T)\n",
    "    KendallP.append(P)\n",
    "    \n",
    "#Create a DataFrame with the correlation calculated for each language pair\n",
    "corrbleu=pd.DataFrame(np.array([corpus,correl,KendallT,KendallP])).T\n",
    "\n",
    "#Rename the columns\n",
    "corrbleu.columns = ['Corpus', 'BLEU (Pearson)','BLEU (Kendall Tau-T)','BLEU (Kendall Tau-P)']\n",
    "\n",
    "#calculate the mean of the correlations in the entire corpora\n",
    "avgPearson=corrbleu['BLEU (Pearson)'].astype(float).mean()\n",
    "avgTau=corrbleu['BLEU (Kendall Tau-T)'].astype(float).mean()\n",
    "avgP=corrbleu['BLEU (Kendall Tau-P)'].astype(float).mean()\n",
    "corrbleu=corrbleu.append({'Corpus':'Average','BLEU (Pearson)':avgPearson,\\\n",
    "                         'BLEU (Kendall Tau-T)':avgTau,'BLEU (Kendall Tau-P)':avgP}, ignore_index=True)\n",
    "corrbleu.set_index('Corpus', inplace=True)\n",
    "corrbleu"
   ]
  },
  {
   "cell_type": "code",
   "execution_count": 89,
   "id": "edf7971c",
   "metadata": {},
   "outputs": [
    {
     "name": "stdout",
     "output_type": "stream",
     "text": [
      "CPU times: user 28.6 s, sys: 929 ms, total: 29.5 s\n",
      "Wall time: 30.5 s\n"
     ]
    }
   ],
   "source": [
    "%%time\n",
    "#create a backup-point for corpora\n",
    "for i in range(len(corpus)):\n",
    "    corpora[i].to_excel('bckcorpora/'+corpus[i]+'.xlsx')"
   ]
  },
  {
   "cell_type": "markdown",
   "id": "c8678ceb",
   "metadata": {},
   "source": [
    "#### ROUGE-N"
   ]
  },
  {
   "cell_type": "code",
   "execution_count": 90,
   "id": "ebad6561",
   "metadata": {},
   "outputs": [],
   "source": [
    "#To eliminate rows with empty references\n",
    "#Copora 1\n",
    "corpora[1] = corpora[1][corpora[1].reference != '']\n",
    "#Copora 2\n",
    "corpora[2] = corpora[2][corpora[2].reference != '']\n",
    "#Copora 3\n",
    "corpora[3] = corpora[3][corpora[3].reference != '']\n",
    "#Copora 4\n",
    "corpora[4] = corpora[4][corpora[4].reference != '']\n",
    "#Copora 5\n",
    "corpora[5] = corpora[5][corpora[5].reference != '']"
   ]
  },
  {
   "cell_type": "code",
   "execution_count": 91,
   "id": "38fb1139",
   "metadata": {},
   "outputs": [],
   "source": [
    "#To eliminate rows with empty translation\n",
    "#Copora 1\n",
    "corpora[1] = corpora[1][corpora[1].translation != '']\n",
    "#Copora 2\n",
    "corpora[2] = corpora[2][corpora[2].translation != '']\n",
    "#Copora 3\n",
    "corpora[3] = corpora[3][corpora[3].translation != '']\n",
    "#Copora 4\n",
    "corpora[4] = corpora[4][corpora[4].translation != '']\n",
    "#Copora 5\n",
    "corpora[5] = corpora[5][corpora[5].translation != '']"
   ]
  },
  {
   "cell_type": "code",
   "execution_count": 92,
   "id": "3f29029c",
   "metadata": {},
   "outputs": [
    {
     "data": {
      "application/vnd.jupyter.widget-view+json": {
       "model_id": "55e1044a3a8d4d5cbd8b10557cd9d317",
       "version_major": 2,
       "version_minor": 0
      },
      "text/plain": [
       "  0%|          | 0/6 [00:00<?, ?it/s]"
      ]
     },
     "metadata": {},
     "output_type": "display_data"
    },
    {
     "name": "stdout",
     "output_type": "stream",
     "text": [
      "CPU times: user 28 s, sys: 385 ms, total: 28.4 s\n",
      "Wall time: 29.7 s\n"
     ]
    }
   ],
   "source": [
    "%%time\n",
    "#Empty list to store Rouge-N scores\n",
    "rgn=[]\n",
    "#Instantiate Rouge\n",
    "rouge = Rouge()\n",
    "#Get the Rouge-N scores for each language pair\n",
    "for i in tqdm(range(len(corpus))):\n",
    "    rgn.append(pd.DataFrame(rouge.get_scores(corpora[i].translation, corpora[i].reference)))\n"
   ]
  },
  {
   "cell_type": "code",
   "execution_count": 93,
   "id": "4c2da323",
   "metadata": {},
   "outputs": [
    {
     "data": {
      "text/html": [
       "<div>\n",
       "<style scoped>\n",
       "    .dataframe tbody tr th:only-of-type {\n",
       "        vertical-align: middle;\n",
       "    }\n",
       "\n",
       "    .dataframe tbody tr th {\n",
       "        vertical-align: top;\n",
       "    }\n",
       "\n",
       "    .dataframe thead th {\n",
       "        text-align: right;\n",
       "    }\n",
       "</style>\n",
       "<table border=\"1\" class=\"dataframe\">\n",
       "  <thead>\n",
       "    <tr style=\"text-align: right;\">\n",
       "      <th></th>\n",
       "      <th>rouge-1</th>\n",
       "      <th>rouge-2</th>\n",
       "      <th>rouge-l</th>\n",
       "    </tr>\n",
       "  </thead>\n",
       "  <tbody>\n",
       "    <tr>\n",
       "      <th>0</th>\n",
       "      <td>{'f': 0.624999995, 'p': 0.625, 'r': 0.625}</td>\n",
       "      <td>{'f': 0.4285714235714286, 'p': 0.4285714285714...</td>\n",
       "      <td>{'f': 0.624999995, 'p': 0.625, 'r': 0.625}</td>\n",
       "    </tr>\n",
       "    <tr>\n",
       "      <th>1</th>\n",
       "      <td>{'f': 0.5999999950000001, 'p': 0.6, 'r': 0.6}</td>\n",
       "      <td>{'f': 0.24999999500000009, 'p': 0.25, 'r': 0.25}</td>\n",
       "      <td>{'f': 0.5999999950000001, 'p': 0.6, 'r': 0.6}</td>\n",
       "    </tr>\n",
       "    <tr>\n",
       "      <th>2</th>\n",
       "      <td>{'f': 0.6086956474102081, 'p': 0.5, 'r': 0.777...</td>\n",
       "      <td>{'f': 0.28571428099773244, 'p': 0.230769230769...</td>\n",
       "      <td>{'f': 0.6086956474102081, 'p': 0.5, 'r': 0.777...</td>\n",
       "    </tr>\n",
       "    <tr>\n",
       "      <th>3</th>\n",
       "      <td>{'f': 0.5999999950000001, 'p': 0.6, 'r': 0.6}</td>\n",
       "      <td>{'f': 0.4999999950000001, 'p': 0.5, 'r': 0.5}</td>\n",
       "      <td>{'f': 0.5999999950000001, 'p': 0.6, 'r': 0.6}</td>\n",
       "    </tr>\n",
       "    <tr>\n",
       "      <th>4</th>\n",
       "      <td>{'f': 0.3333333283333334, 'p': 0.3333333333333...</td>\n",
       "      <td>{'f': 0.0, 'p': 0.0, 'r': 0.0}</td>\n",
       "      <td>{'f': 0.3333333283333334, 'p': 0.3333333333333...</td>\n",
       "    </tr>\n",
       "  </tbody>\n",
       "</table>\n",
       "</div>"
      ],
      "text/plain": [
       "                                             rouge-1  \\\n",
       "0         {'f': 0.624999995, 'p': 0.625, 'r': 0.625}   \n",
       "1      {'f': 0.5999999950000001, 'p': 0.6, 'r': 0.6}   \n",
       "2  {'f': 0.6086956474102081, 'p': 0.5, 'r': 0.777...   \n",
       "3      {'f': 0.5999999950000001, 'p': 0.6, 'r': 0.6}   \n",
       "4  {'f': 0.3333333283333334, 'p': 0.3333333333333...   \n",
       "\n",
       "                                             rouge-2  \\\n",
       "0  {'f': 0.4285714235714286, 'p': 0.4285714285714...   \n",
       "1   {'f': 0.24999999500000009, 'p': 0.25, 'r': 0.25}   \n",
       "2  {'f': 0.28571428099773244, 'p': 0.230769230769...   \n",
       "3      {'f': 0.4999999950000001, 'p': 0.5, 'r': 0.5}   \n",
       "4                     {'f': 0.0, 'p': 0.0, 'r': 0.0}   \n",
       "\n",
       "                                             rouge-l  \n",
       "0         {'f': 0.624999995, 'p': 0.625, 'r': 0.625}  \n",
       "1      {'f': 0.5999999950000001, 'p': 0.6, 'r': 0.6}  \n",
       "2  {'f': 0.6086956474102081, 'p': 0.5, 'r': 0.777...  \n",
       "3      {'f': 0.5999999950000001, 'p': 0.6, 'r': 0.6}  \n",
       "4  {'f': 0.3333333283333334, 'p': 0.3333333333333...  "
      ]
     },
     "execution_count": 93,
     "metadata": {},
     "output_type": "execute_result"
    }
   ],
   "source": [
    "#validate output\n",
    "rgn[2].head(5)"
   ]
  },
  {
   "cell_type": "code",
   "execution_count": 94,
   "id": "7307df67",
   "metadata": {},
   "outputs": [
    {
     "data": {
      "application/vnd.jupyter.widget-view+json": {
       "model_id": "a78c76d10e2f4850b000ecb552f128f1",
       "version_major": 2,
       "version_minor": 0
      },
      "text/plain": [
       "  0%|          | 0/6 [00:00<?, ?it/s]"
      ]
     },
     "metadata": {},
     "output_type": "display_data"
    }
   ],
   "source": [
    "#PEARSON CORRELATION\n",
    "#Empty lists to store the dataframes with Rouge-1, Rouge-2, Rouge-L scores split into columns\n",
    "rg1=[]\n",
    "rg2=[]\n",
    "rgl=[]\n",
    "\n",
    "#For each column of rgn store the 'exlosion' of its dictionay in a new dataframe\n",
    "for i in tqdm(range(len(corpus))):\n",
    "    #'exploding' dictionaries in a temp dataframe to preserve the other colmns\n",
    "    temp=rgn[i]\n",
    "    rg1.append(pd.json_normalize(temp['rouge-1']))\n",
    "    rg1[i].columns=[\"ROUGE-1 F1-Score\",\"ROUGE-1 Precision\",\"ROUGE-1 Recall\"]\n",
    "    temp=rgn[i]\n",
    "    rg2.append(pd.json_normalize(temp['rouge-2']))\n",
    "    rg2[i].columns=[\"ROUGE-2 F1-Score\",\"ROUGE-2 Precision\",\"ROUGE-2 Recall\"]\n",
    "    temp=rgn[i]\n",
    "    rgl.append(pd.json_normalize(temp['rouge-l']))\n",
    "    rgl[i].columns=[\"ROUGE-L F1-Score\",\"ROUGE-L Precision\",\"ROUGE-L Recall\"]"
   ]
  },
  {
   "cell_type": "code",
   "execution_count": 95,
   "id": "892212f2",
   "metadata": {},
   "outputs": [
    {
     "data": {
      "text/html": [
       "<div>\n",
       "<style scoped>\n",
       "    .dataframe tbody tr th:only-of-type {\n",
       "        vertical-align: middle;\n",
       "    }\n",
       "\n",
       "    .dataframe tbody tr th {\n",
       "        vertical-align: top;\n",
       "    }\n",
       "\n",
       "    .dataframe thead th {\n",
       "        text-align: right;\n",
       "    }\n",
       "</style>\n",
       "<table border=\"1\" class=\"dataframe\">\n",
       "  <thead>\n",
       "    <tr style=\"text-align: right;\">\n",
       "      <th></th>\n",
       "      <th>ROUGE-1 F1-Score</th>\n",
       "      <th>ROUGE-1 Precision</th>\n",
       "      <th>ROUGE-1 Recall</th>\n",
       "    </tr>\n",
       "  </thead>\n",
       "  <tbody>\n",
       "    <tr>\n",
       "      <th>0</th>\n",
       "      <td>0.521739</td>\n",
       "      <td>0.500000</td>\n",
       "      <td>0.545455</td>\n",
       "    </tr>\n",
       "    <tr>\n",
       "      <th>1</th>\n",
       "      <td>0.444444</td>\n",
       "      <td>0.444444</td>\n",
       "      <td>0.444444</td>\n",
       "    </tr>\n",
       "    <tr>\n",
       "      <th>2</th>\n",
       "      <td>0.421053</td>\n",
       "      <td>0.400000</td>\n",
       "      <td>0.444444</td>\n",
       "    </tr>\n",
       "    <tr>\n",
       "      <th>3</th>\n",
       "      <td>0.571429</td>\n",
       "      <td>0.461538</td>\n",
       "      <td>0.750000</td>\n",
       "    </tr>\n",
       "    <tr>\n",
       "      <th>4</th>\n",
       "      <td>0.250000</td>\n",
       "      <td>0.250000</td>\n",
       "      <td>0.250000</td>\n",
       "    </tr>\n",
       "  </tbody>\n",
       "</table>\n",
       "</div>"
      ],
      "text/plain": [
       "   ROUGE-1 F1-Score  ROUGE-1 Precision  ROUGE-1 Recall\n",
       "0          0.521739           0.500000        0.545455\n",
       "1          0.444444           0.444444        0.444444\n",
       "2          0.421053           0.400000        0.444444\n",
       "3          0.571429           0.461538        0.750000\n",
       "4          0.250000           0.250000        0.250000"
      ]
     },
     "execution_count": 95,
     "metadata": {},
     "output_type": "execute_result"
    }
   ],
   "source": [
    "rg1[0].head(5)"
   ]
  },
  {
   "cell_type": "code",
   "execution_count": 96,
   "id": "6c5bc757",
   "metadata": {},
   "outputs": [
    {
     "data": {
      "application/vnd.jupyter.widget-view+json": {
       "model_id": "62d2d65de59d4e9fa4ac399918a63703",
       "version_major": 2,
       "version_minor": 0
      },
      "text/plain": [
       "  0%|          | 0/6 [00:00<?, ?it/s]"
      ]
     },
     "metadata": {},
     "output_type": "display_data"
    },
    {
     "data": {
      "text/html": [
       "<div>\n",
       "<style scoped>\n",
       "    .dataframe tbody tr th:only-of-type {\n",
       "        vertical-align: middle;\n",
       "    }\n",
       "\n",
       "    .dataframe tbody tr th {\n",
       "        vertical-align: top;\n",
       "    }\n",
       "\n",
       "    .dataframe thead th {\n",
       "        text-align: right;\n",
       "    }\n",
       "</style>\n",
       "<table border=\"1\" class=\"dataframe\">\n",
       "  <thead>\n",
       "    <tr style=\"text-align: right;\">\n",
       "      <th></th>\n",
       "      <th>source</th>\n",
       "      <th>reference</th>\n",
       "      <th>translation</th>\n",
       "      <th>z-score</th>\n",
       "      <th>avg-score</th>\n",
       "      <th>annotators</th>\n",
       "      <th>BLEU</th>\n",
       "      <th>ROUGE-1 F1-Score</th>\n",
       "      <th>ROUGE-1 Precision</th>\n",
       "      <th>ROUGE-1 Recall</th>\n",
       "      <th>ROUGE-2 F1-Score</th>\n",
       "      <th>ROUGE-2 Precision</th>\n",
       "      <th>ROUGE-2 Recall</th>\n",
       "      <th>ROUGE-L F1-Score</th>\n",
       "      <th>ROUGE-L Precision</th>\n",
       "      <th>ROUGE-L Recall</th>\n",
       "    </tr>\n",
       "  </thead>\n",
       "  <tbody>\n",
       "    <tr>\n",
       "      <th>0</th>\n",
       "      <td>\"In the GISS model's simulation, Venus' slow s...</td>\n",
       "      <td>GSIS的科学家AnthonyDelGenio在新闻稿中解释说 在GISS模型的模拟模型中 ...</td>\n",
       "      <td>戈达德太空研究所科学家安东尼·德尔·杰尼奥在新闻发布会上解释说 在戈达德太空研究所的模型模拟...</td>\n",
       "      <td>-1.171867</td>\n",
       "      <td>50.0</td>\n",
       "      <td>1</td>\n",
       "      <td>0.0</td>\n",
       "      <td>0.0</td>\n",
       "      <td>0.0</td>\n",
       "      <td>0.0</td>\n",
       "      <td>0.0</td>\n",
       "      <td>0.0</td>\n",
       "      <td>0.0</td>\n",
       "      <td>0.0</td>\n",
       "      <td>0.0</td>\n",
       "      <td>0.0</td>\n",
       "    </tr>\n",
       "  </tbody>\n",
       "</table>\n",
       "</div>"
      ],
      "text/plain": [
       "                                              source  \\\n",
       "0  \"In the GISS model's simulation, Venus' slow s...   \n",
       "\n",
       "                                           reference  \\\n",
       "0  GSIS的科学家AnthonyDelGenio在新闻稿中解释说 在GISS模型的模拟模型中 ...   \n",
       "\n",
       "                                         translation   z-score  avg-score  \\\n",
       "0  戈达德太空研究所科学家安东尼·德尔·杰尼奥在新闻发布会上解释说 在戈达德太空研究所的模型模拟... -1.171867       50.0   \n",
       "\n",
       "   annotators  BLEU  ROUGE-1 F1-Score  ROUGE-1 Precision  ROUGE-1 Recall  \\\n",
       "0           1   0.0               0.0                0.0             0.0   \n",
       "\n",
       "   ROUGE-2 F1-Score  ROUGE-2 Precision  ROUGE-2 Recall  ROUGE-L F1-Score  \\\n",
       "0               0.0                0.0             0.0               0.0   \n",
       "\n",
       "   ROUGE-L Precision  ROUGE-L Recall  \n",
       "0                0.0             0.0  "
      ]
     },
     "execution_count": 96,
     "metadata": {},
     "output_type": "execute_result"
    }
   ],
   "source": [
    "for i in tqdm(range(len(corpus))):\n",
    "    corpora[i]=pd.concat([corpora[i],rg1[i],rg2[i],rgl[i]], axis=1, join='inner')\n",
    "#Corpora example\n",
    "corpora[3].head(1)"
   ]
  },
  {
   "cell_type": "code",
   "execution_count": 97,
   "id": "ff4187ca",
   "metadata": {},
   "outputs": [
    {
     "data": {
      "text/html": [
       "<div>\n",
       "<style scoped>\n",
       "    .dataframe tbody tr th:only-of-type {\n",
       "        vertical-align: middle;\n",
       "    }\n",
       "\n",
       "    .dataframe tbody tr th {\n",
       "        vertical-align: top;\n",
       "    }\n",
       "\n",
       "    .dataframe thead th {\n",
       "        text-align: right;\n",
       "    }\n",
       "</style>\n",
       "<table border=\"1\" class=\"dataframe\">\n",
       "  <thead>\n",
       "    <tr style=\"text-align: right;\">\n",
       "      <th></th>\n",
       "      <th>ROUGE-1 F1-Score</th>\n",
       "      <th>ROUGE-1 Precision</th>\n",
       "      <th>ROUGE-1 Recall</th>\n",
       "      <th>ROUGE-2 F1-Score</th>\n",
       "      <th>ROUGE-2 Precision</th>\n",
       "      <th>ROUGE-2 Recall</th>\n",
       "      <th>ROUGE-L F1-Score</th>\n",
       "      <th>ROUGE-L Precision</th>\n",
       "      <th>ROUGE-L Recall</th>\n",
       "    </tr>\n",
       "    <tr>\n",
       "      <th>Corpus</th>\n",
       "      <th></th>\n",
       "      <th></th>\n",
       "      <th></th>\n",
       "      <th></th>\n",
       "      <th></th>\n",
       "      <th></th>\n",
       "      <th></th>\n",
       "      <th></th>\n",
       "      <th></th>\n",
       "    </tr>\n",
       "  </thead>\n",
       "  <tbody>\n",
       "    <tr>\n",
       "      <th>en-fi</th>\n",
       "      <td>0.54</td>\n",
       "      <td>0.54</td>\n",
       "      <td>0.51</td>\n",
       "      <td>0.43</td>\n",
       "      <td>0.44</td>\n",
       "      <td>0.42</td>\n",
       "      <td>0.52</td>\n",
       "      <td>0.53</td>\n",
       "      <td>0.5</td>\n",
       "    </tr>\n",
       "    <tr>\n",
       "      <th>zh-en</th>\n",
       "      <td>0.16</td>\n",
       "      <td>0.16</td>\n",
       "      <td>0.14</td>\n",
       "      <td>0.15</td>\n",
       "      <td>0.15</td>\n",
       "      <td>0.14</td>\n",
       "      <td>0.16</td>\n",
       "      <td>0.17</td>\n",
       "      <td>0.14</td>\n",
       "    </tr>\n",
       "    <tr>\n",
       "      <th>cs-en</th>\n",
       "      <td>0.02</td>\n",
       "      <td>0.02</td>\n",
       "      <td>0.02</td>\n",
       "      <td>0.02</td>\n",
       "      <td>0.02</td>\n",
       "      <td>0.02</td>\n",
       "      <td>0.03</td>\n",
       "      <td>0.02</td>\n",
       "      <td>0.03</td>\n",
       "    </tr>\n",
       "    <tr>\n",
       "      <th>en-zh</th>\n",
       "      <td>0.16</td>\n",
       "      <td>0.15</td>\n",
       "      <td>0.15</td>\n",
       "      <td>0.09</td>\n",
       "      <td>0.09</td>\n",
       "      <td>0.09</td>\n",
       "      <td>0.16</td>\n",
       "      <td>0.15</td>\n",
       "      <td>0.16</td>\n",
       "    </tr>\n",
       "    <tr>\n",
       "      <th>de-en</th>\n",
       "      <td>0.03</td>\n",
       "      <td>0.02</td>\n",
       "      <td>0.03</td>\n",
       "      <td>0.03</td>\n",
       "      <td>0.03</td>\n",
       "      <td>0.03</td>\n",
       "      <td>0.03</td>\n",
       "      <td>0.03</td>\n",
       "      <td>0.04</td>\n",
       "    </tr>\n",
       "    <tr>\n",
       "      <th>ru-en</th>\n",
       "      <td>0.03</td>\n",
       "      <td>0.03</td>\n",
       "      <td>0.03</td>\n",
       "      <td>0.03</td>\n",
       "      <td>0.03</td>\n",
       "      <td>0.03</td>\n",
       "      <td>0.03</td>\n",
       "      <td>0.03</td>\n",
       "      <td>0.03</td>\n",
       "    </tr>\n",
       "    <tr>\n",
       "      <th>Average</th>\n",
       "      <td>0.16</td>\n",
       "      <td>0.15</td>\n",
       "      <td>0.15</td>\n",
       "      <td>0.12</td>\n",
       "      <td>0.13</td>\n",
       "      <td>0.12</td>\n",
       "      <td>0.16</td>\n",
       "      <td>0.16</td>\n",
       "      <td>0.15</td>\n",
       "    </tr>\n",
       "  </tbody>\n",
       "</table>\n",
       "</div>"
      ],
      "text/plain": [
       "        ROUGE-1 F1-Score ROUGE-1 Precision ROUGE-1 Recall ROUGE-2 F1-Score  \\\n",
       "Corpus                                                                       \n",
       "en-fi               0.54              0.54           0.51             0.43   \n",
       "zh-en               0.16              0.16           0.14             0.15   \n",
       "cs-en               0.02              0.02           0.02             0.02   \n",
       "en-zh               0.16              0.15           0.15             0.09   \n",
       "de-en               0.03              0.02           0.03             0.03   \n",
       "ru-en               0.03              0.03           0.03             0.03   \n",
       "Average             0.16              0.15           0.15             0.12   \n",
       "\n",
       "        ROUGE-2 Precision ROUGE-2 Recall ROUGE-L F1-Score ROUGE-L Precision  \\\n",
       "Corpus                                                                        \n",
       "en-fi                0.44           0.42             0.52              0.53   \n",
       "zh-en                0.15           0.14             0.16              0.17   \n",
       "cs-en                0.02           0.02             0.03              0.02   \n",
       "en-zh                0.09           0.09             0.16              0.15   \n",
       "de-en                0.03           0.03             0.03              0.03   \n",
       "ru-en                0.03           0.03             0.03              0.03   \n",
       "Average              0.13           0.12             0.16              0.16   \n",
       "\n",
       "        ROUGE-L Recall  \n",
       "Corpus                  \n",
       "en-fi              0.5  \n",
       "zh-en             0.14  \n",
       "cs-en             0.03  \n",
       "en-zh             0.16  \n",
       "de-en             0.04  \n",
       "ru-en             0.03  \n",
       "Average           0.15  "
      ]
     },
     "execution_count": 97,
     "metadata": {},
     "output_type": "execute_result"
    }
   ],
   "source": [
    "#PEARSON Correlation of Rouge-N Stats and Z-Score\n",
    "#Empty list to keep correlations of Rouge-N and Z-Score\n",
    "correl1=[]\n",
    "correl2=[]\n",
    "correl3=[]\n",
    "correl4=[]\n",
    "correl5=[]\n",
    "correl6=[]\n",
    "correl7=[]\n",
    "correl8=[]\n",
    "correl9=[]\n",
    "#Clalculate the correlation of columns ROUGE... and Z-Score on all corpora\n",
    "for i in range(len(corpus)):\n",
    "    correl1.append(corpora[i]['ROUGE-1 F1-Score'].corr(corpora[i]['z-score']))\n",
    "    correl1[i]=round(correl1[i],2)\n",
    "    correl2.append(corpora[i]['ROUGE-1 Precision'].corr(corpora[i]['z-score']))\n",
    "    correl2[i]=round(correl2[i],2)\n",
    "    correl3.append(corpora[i]['ROUGE-1 Recall'].corr(corpora[i]['z-score']))\n",
    "    correl3[i]=round(correl3[i],2)\n",
    "    correl4.append(corpora[i]['ROUGE-2 F1-Score'].corr(corpora[i]['z-score']))\n",
    "    correl4[i]=round(correl4[i],2)\n",
    "    correl5.append(corpora[i]['ROUGE-2 Precision'].corr(corpora[i]['z-score']))\n",
    "    correl5[i]=round(correl5[i],2)\n",
    "    correl6.append(corpora[i]['ROUGE-2 Recall'].corr(corpora[i]['z-score']))\n",
    "    correl6[i]=round(correl6[i],2)\n",
    "    correl7.append(corpora[i]['ROUGE-L F1-Score'].corr(corpora[i]['z-score']))\n",
    "    correl7[i]=round(correl7[i],2)\n",
    "    correl8.append(corpora[i]['ROUGE-L Precision'].corr(corpora[i]['z-score']))\n",
    "    correl8[i]=round(correl8[i],2)\n",
    "    correl9.append(corpora[i]['ROUGE-L Recall'].corr(corpora[i]['z-score']))\n",
    "    correl9[i]=round(correl9[i],2)\n",
    "#Create a DataFrame with the correlation calculated for each language pair\n",
    "corrouge=pd.DataFrame(np.array([corpus,correl1,correl2,correl3,correl4,correl5,correl6,correl7,correl8,correl9])).T\n",
    "#Rename the columns\n",
    "corrouge.columns = ['Corpus', 'ROUGE-1 F1-Score', 'ROUGE-1 Precision', 'ROUGE-1 Recall', 'ROUGE-2 F1-Score',\\\n",
    "                    'ROUGE-2 Precision', 'ROUGE-2 Recall', 'ROUGE-L F1-Score', 'ROUGE-L Precision', 'ROUGE-L Recall',]\n",
    "#calculate the mean of the correlations in the entire corpora\n",
    "avg1=corrouge['ROUGE-1 F1-Score'].astype(float).mean()\n",
    "avg2=corrouge['ROUGE-1 Precision'].astype(float).mean()\n",
    "avg3=corrouge['ROUGE-1 Recall'].astype(float).mean()\n",
    "avg4=corrouge['ROUGE-2 F1-Score'].astype(float).mean()\n",
    "avg5=corrouge['ROUGE-2 Precision'].astype(float).mean()\n",
    "avg6=corrouge['ROUGE-2 Recall'].astype(float).mean()\n",
    "avg7=corrouge['ROUGE-L F1-Score'].astype(float).mean()\n",
    "avg8=corrouge['ROUGE-L Precision'].astype(float).mean()\n",
    "avg9=corrouge['ROUGE-L Recall'].astype(float).mean()\n",
    "corrouge=corrouge.append({'Corpus':'Average','ROUGE-1 F1-Score':round(avg1,2),'ROUGE-1 Precision':round(avg2,2),\\\n",
    "                          'ROUGE-1 Recall':round(avg3,2),'ROUGE-2 F1-Score':round(avg4,2),'ROUGE-2 Precision':round(avg5,2),\\\n",
    "                          'ROUGE-2 Recall':round(avg6,2),'ROUGE-L F1-Score':round(avg7,2),'ROUGE-L Precision':round(avg8,2),\\\n",
    "                          'ROUGE-L Recall':round(avg9,2),}, ignore_index=True)\n",
    "corrouge.set_index('Corpus', inplace=True)\n",
    "corrouge"
   ]
  },
  {
   "cell_type": "code",
   "execution_count": 98,
   "id": "9afeb774",
   "metadata": {},
   "outputs": [
    {
     "data": {
      "text/html": [
       "<div>\n",
       "<style scoped>\n",
       "    .dataframe tbody tr th:only-of-type {\n",
       "        vertical-align: middle;\n",
       "    }\n",
       "\n",
       "    .dataframe tbody tr th {\n",
       "        vertical-align: top;\n",
       "    }\n",
       "\n",
       "    .dataframe thead th {\n",
       "        text-align: right;\n",
       "    }\n",
       "</style>\n",
       "<table border=\"1\" class=\"dataframe\">\n",
       "  <thead>\n",
       "    <tr style=\"text-align: right;\">\n",
       "      <th></th>\n",
       "      <th>ROUGE-1 F1-Score</th>\n",
       "      <th>ROUGE-1 Precision</th>\n",
       "      <th>ROUGE-1 Recall</th>\n",
       "      <th>ROUGE-2 F1-Score</th>\n",
       "      <th>ROUGE-2 Precision</th>\n",
       "      <th>ROUGE-2 Recall</th>\n",
       "      <th>ROUGE-L F1-Score</th>\n",
       "      <th>ROUGE-L Precision</th>\n",
       "      <th>ROUGE-L Recall</th>\n",
       "    </tr>\n",
       "    <tr>\n",
       "      <th>Corpus</th>\n",
       "      <th></th>\n",
       "      <th></th>\n",
       "      <th></th>\n",
       "      <th></th>\n",
       "      <th></th>\n",
       "      <th></th>\n",
       "      <th></th>\n",
       "      <th></th>\n",
       "      <th></th>\n",
       "    </tr>\n",
       "  </thead>\n",
       "  <tbody>\n",
       "    <tr>\n",
       "      <th>en-fi</th>\n",
       "      <td>0.35</td>\n",
       "      <td>0.36</td>\n",
       "      <td>0.34</td>\n",
       "      <td>0.3</td>\n",
       "      <td>0.3</td>\n",
       "      <td>0.3</td>\n",
       "      <td>0.34</td>\n",
       "      <td>0.0</td>\n",
       "      <td>0.34</td>\n",
       "    </tr>\n",
       "    <tr>\n",
       "      <th>zh-en</th>\n",
       "      <td>0.11</td>\n",
       "      <td>0.11</td>\n",
       "      <td>0.1</td>\n",
       "      <td>0.1</td>\n",
       "      <td>0.1</td>\n",
       "      <td>0.1</td>\n",
       "      <td>0.11</td>\n",
       "      <td>0.0</td>\n",
       "      <td>0.11</td>\n",
       "    </tr>\n",
       "    <tr>\n",
       "      <th>cs-en</th>\n",
       "      <td>0.02</td>\n",
       "      <td>0.02</td>\n",
       "      <td>0.02</td>\n",
       "      <td>0.01</td>\n",
       "      <td>0.01</td>\n",
       "      <td>0.01</td>\n",
       "      <td>0.02</td>\n",
       "      <td>0.0</td>\n",
       "      <td>0.02</td>\n",
       "    </tr>\n",
       "    <tr>\n",
       "      <th>en-zh</th>\n",
       "      <td>0.12</td>\n",
       "      <td>0.12</td>\n",
       "      <td>0.12</td>\n",
       "      <td>0.07</td>\n",
       "      <td>0.07</td>\n",
       "      <td>0.07</td>\n",
       "      <td>0.12</td>\n",
       "      <td>0.0</td>\n",
       "      <td>0.12</td>\n",
       "    </tr>\n",
       "    <tr>\n",
       "      <th>de-en</th>\n",
       "      <td>0.02</td>\n",
       "      <td>0.02</td>\n",
       "      <td>0.02</td>\n",
       "      <td>0.02</td>\n",
       "      <td>0.02</td>\n",
       "      <td>0.02</td>\n",
       "      <td>0.03</td>\n",
       "      <td>0.0</td>\n",
       "      <td>0.03</td>\n",
       "    </tr>\n",
       "    <tr>\n",
       "      <th>ru-en</th>\n",
       "      <td>0.03</td>\n",
       "      <td>0.03</td>\n",
       "      <td>0.03</td>\n",
       "      <td>0.02</td>\n",
       "      <td>0.02</td>\n",
       "      <td>0.02</td>\n",
       "      <td>0.03</td>\n",
       "      <td>0.0</td>\n",
       "      <td>0.03</td>\n",
       "    </tr>\n",
       "    <tr>\n",
       "      <th>Average</th>\n",
       "      <td>0.11</td>\n",
       "      <td>0.11</td>\n",
       "      <td>0.11</td>\n",
       "      <td>0.09</td>\n",
       "      <td>0.09</td>\n",
       "      <td>0.09</td>\n",
       "      <td>0.11</td>\n",
       "      <td>0.0</td>\n",
       "      <td>0.11</td>\n",
       "    </tr>\n",
       "  </tbody>\n",
       "</table>\n",
       "</div>"
      ],
      "text/plain": [
       "        ROUGE-1 F1-Score ROUGE-1 Precision ROUGE-1 Recall ROUGE-2 F1-Score  \\\n",
       "Corpus                                                                       \n",
       "en-fi               0.35              0.36           0.34              0.3   \n",
       "zh-en               0.11              0.11            0.1              0.1   \n",
       "cs-en               0.02              0.02           0.02             0.01   \n",
       "en-zh               0.12              0.12           0.12             0.07   \n",
       "de-en               0.02              0.02           0.02             0.02   \n",
       "ru-en               0.03              0.03           0.03             0.02   \n",
       "Average             0.11              0.11           0.11             0.09   \n",
       "\n",
       "        ROUGE-2 Precision ROUGE-2 Recall ROUGE-L F1-Score ROUGE-L Precision  \\\n",
       "Corpus                                                                        \n",
       "en-fi                 0.3            0.3             0.34               0.0   \n",
       "zh-en                 0.1            0.1             0.11               0.0   \n",
       "cs-en                0.01           0.01             0.02               0.0   \n",
       "en-zh                0.07           0.07             0.12               0.0   \n",
       "de-en                0.02           0.02             0.03               0.0   \n",
       "ru-en                0.02           0.02             0.03               0.0   \n",
       "Average              0.09           0.09             0.11               0.0   \n",
       "\n",
       "        ROUGE-L Recall  \n",
       "Corpus                  \n",
       "en-fi             0.34  \n",
       "zh-en             0.11  \n",
       "cs-en             0.02  \n",
       "en-zh             0.12  \n",
       "de-en             0.03  \n",
       "ru-en             0.03  \n",
       "Average           0.11  "
      ]
     },
     "execution_count": 98,
     "metadata": {},
     "output_type": "execute_result"
    }
   ],
   "source": [
    "#Kedall Tau T Value of Rouge-N Stats and Z-Score\n",
    "#Empty list to keep correlations of Rouge-N and Z-Score\n",
    "correl1a=[]\n",
    "correl1b=[]\n",
    "correl2a=[]\n",
    "correl2b=[]\n",
    "correl3a=[]\n",
    "correl3b=[]\n",
    "correl4a=[]\n",
    "correl4b=[]\n",
    "correl5a=[]\n",
    "correl5b=[]\n",
    "correl6a=[]\n",
    "correl6b=[]\n",
    "correl7a=[]\n",
    "correl7b=[]\n",
    "correl8a=[]\n",
    "correl8b=[]\n",
    "correl9a=[]\n",
    "correl9b=[]\n",
    "\n",
    "#Clalculate the correlation of columns ROUGE... and Z-Score on all corpora\n",
    "for i in range(len(corpus)):\n",
    "    T,P=stats.kendalltau(corpora[i]['ROUGE-1 F1-Score'], corpora[i]['z-score'])\n",
    "    correl1a.append(round(T,2))\n",
    "    correl1b.append(round(P,2))\n",
    "    T,P=stats.kendalltau(corpora[i]['ROUGE-1 Precision'], corpora[i]['z-score'])\n",
    "    correl2a.append(round(T,2))\n",
    "    correl2b.append(round(P,2))\n",
    "    T,P=stats.kendalltau(corpora[i]['ROUGE-1 Recall'], corpora[i]['z-score'])\n",
    "    correl3a.append(round(T,2))\n",
    "    correl3b.append(round(P,2))\n",
    "    T,P=stats.kendalltau(corpora[i]['ROUGE-2 F1-Score'], corpora[i]['z-score'])\n",
    "    correl4a.append(round(T,2))\n",
    "    correl4b.append(round(P,2))\n",
    "    T,P=stats.kendalltau(corpora[i]['ROUGE-2 F1-Score'], corpora[i]['z-score'])\n",
    "    correl5a.append(round(T,2))\n",
    "    correl5b.append(round(P,2))\n",
    "    T,P=stats.kendalltau(corpora[i]['ROUGE-2 F1-Score'], corpora[i]['z-score'])\n",
    "    correl6a.append(round(T,2))\n",
    "    correl6b.append(round(P,2))\n",
    "    T,P=stats.kendalltau(corpora[i]['ROUGE-L F1-Score'], corpora[i]['z-score'])\n",
    "    correl7a.append(round(T,2))\n",
    "    correl7b.append(round(P,2))\n",
    "    T,P=stats.kendalltau(corpora[i]['ROUGE-L F1-Score'], corpora[i]['z-score'])\n",
    "    correl8a.append(round(T,2))\n",
    "    correl8b.append(round(P,2))\n",
    "    T,P=stats.kendalltau(corpora[i]['ROUGE-L F1-Score'], corpora[i]['z-score'])\n",
    "    correl9a.append(round(T,2))\n",
    "    correl9b.append(round(P,2))\n",
    "\n",
    "#Create DataFrames with the Kandall T and P values calculated for each language pair\n",
    "corrougeKT=pd.DataFrame(np.array([corpus,correl1a,correl2a,correl3a,correl4a,\\\n",
    "                                  correl5a,correl6a,correl7a,correl8b,\\\n",
    "                                  correl9a])).T\n",
    "corrougeKP=pd.DataFrame(np.array([corpus,correl1b,correl2b,correl3b,correl4b,\\\n",
    "                                  correl5b,correl6b,correl7b,correl8b,\\\n",
    "                                  correl9b])).T\n",
    "\n",
    "#Rename the columns\n",
    "corrougeKT.columns = ['Corpus', 'ROUGE-1 F1-Score', 'ROUGE-1 Precision', 'ROUGE-1 Recall', 'ROUGE-2 F1-Score',\\\n",
    "                    'ROUGE-2 Precision', 'ROUGE-2 Recall', 'ROUGE-L F1-Score', 'ROUGE-L Precision', 'ROUGE-L Recall',]\n",
    "corrougeKP.columns = ['Corpus', 'ROUGE-1 F1-Score', 'ROUGE-1 Precision', 'ROUGE-1 Recall', 'ROUGE-2 F1-Score',\\\n",
    "                    'ROUGE-2 Precision', 'ROUGE-2 Recall', 'ROUGE-L F1-Score', 'ROUGE-L Precision', 'ROUGE-L Recall',]\n",
    "\n",
    "#calculate the mean of the correlations in the entire corpora\n",
    "avg1a=corrougeKT['ROUGE-1 F1-Score'].astype(float).mean()\n",
    "avg2a=corrougeKT['ROUGE-1 Precision'].astype(float).mean()\n",
    "avg3a=corrougeKT['ROUGE-1 Recall'].astype(float).mean()\n",
    "avg4a=corrougeKT['ROUGE-2 F1-Score'].astype(float).mean()\n",
    "avg5a=corrougeKT['ROUGE-2 Precision'].astype(float).mean()\n",
    "avg6a=corrougeKT['ROUGE-2 Recall'].astype(float).mean()\n",
    "avg7a=corrougeKT['ROUGE-L F1-Score'].astype(float).mean()\n",
    "avg8a=corrougeKT['ROUGE-L Precision'].astype(float).mean()\n",
    "avg9a=corrougeKT['ROUGE-L Recall'].astype(float).mean()\n",
    "corrougeKT=corrougeKT.append({'Corpus':'Average','ROUGE-1 F1-Score':round(avg1a,2),'ROUGE-1 Precision':round(avg2a,2),\\\n",
    "                          'ROUGE-1 Recall':round(avg3a,2),'ROUGE-2 F1-Score':round(avg4a,2),\\\n",
    "                          'ROUGE-2 Precision':round(avg5a,2),'ROUGE-2 Recall':round(avg6a,2),\\\n",
    "                          'ROUGE-L F1-Score':round(avg7a,2),'ROUGE-L Precision':round(avg8a,2),\\\n",
    "                          'ROUGE-L Recall':round(avg9a,2)}, ignore_index=True)\n",
    "corrougeKT.set_index('Corpus', inplace=True)\n",
    "corrougeKT"
   ]
  },
  {
   "cell_type": "code",
   "execution_count": 99,
   "id": "40c1bc47",
   "metadata": {},
   "outputs": [
    {
     "data": {
      "text/html": [
       "<div>\n",
       "<style scoped>\n",
       "    .dataframe tbody tr th:only-of-type {\n",
       "        vertical-align: middle;\n",
       "    }\n",
       "\n",
       "    .dataframe tbody tr th {\n",
       "        vertical-align: top;\n",
       "    }\n",
       "\n",
       "    .dataframe thead th {\n",
       "        text-align: right;\n",
       "    }\n",
       "</style>\n",
       "<table border=\"1\" class=\"dataframe\">\n",
       "  <thead>\n",
       "    <tr style=\"text-align: right;\">\n",
       "      <th></th>\n",
       "      <th>ROUGE-1 F1-Score</th>\n",
       "      <th>ROUGE-1 Precision</th>\n",
       "      <th>ROUGE-1 Recall</th>\n",
       "      <th>ROUGE-2 F1-Score</th>\n",
       "      <th>ROUGE-2 Precision</th>\n",
       "      <th>ROUGE-2 Recall</th>\n",
       "      <th>ROUGE-L F1-Score</th>\n",
       "      <th>ROUGE-L Precision</th>\n",
       "      <th>ROUGE-L Recall</th>\n",
       "    </tr>\n",
       "    <tr>\n",
       "      <th>Corpus</th>\n",
       "      <th></th>\n",
       "      <th></th>\n",
       "      <th></th>\n",
       "      <th></th>\n",
       "      <th></th>\n",
       "      <th></th>\n",
       "      <th></th>\n",
       "      <th></th>\n",
       "      <th></th>\n",
       "    </tr>\n",
       "  </thead>\n",
       "  <tbody>\n",
       "    <tr>\n",
       "      <th>en-fi</th>\n",
       "      <td>0.0</td>\n",
       "      <td>0.0</td>\n",
       "      <td>0.0</td>\n",
       "      <td>0.0</td>\n",
       "      <td>0.0</td>\n",
       "      <td>0.0</td>\n",
       "      <td>0.0</td>\n",
       "      <td>0.0</td>\n",
       "      <td>0.0</td>\n",
       "    </tr>\n",
       "    <tr>\n",
       "      <th>zh-en</th>\n",
       "      <td>0.0</td>\n",
       "      <td>0.0</td>\n",
       "      <td>0.0</td>\n",
       "      <td>0.0</td>\n",
       "      <td>0.0</td>\n",
       "      <td>0.0</td>\n",
       "      <td>0.0</td>\n",
       "      <td>0.0</td>\n",
       "      <td>0.0</td>\n",
       "    </tr>\n",
       "    <tr>\n",
       "      <th>cs-en</th>\n",
       "      <td>0.01</td>\n",
       "      <td>0.02</td>\n",
       "      <td>0.01</td>\n",
       "      <td>0.06</td>\n",
       "      <td>0.06</td>\n",
       "      <td>0.06</td>\n",
       "      <td>0.0</td>\n",
       "      <td>0.0</td>\n",
       "      <td>0.0</td>\n",
       "    </tr>\n",
       "    <tr>\n",
       "      <th>en-zh</th>\n",
       "      <td>0.0</td>\n",
       "      <td>0.0</td>\n",
       "      <td>0.0</td>\n",
       "      <td>0.0</td>\n",
       "      <td>0.0</td>\n",
       "      <td>0.0</td>\n",
       "      <td>0.0</td>\n",
       "      <td>0.0</td>\n",
       "      <td>0.0</td>\n",
       "    </tr>\n",
       "    <tr>\n",
       "      <th>de-en</th>\n",
       "      <td>0.0</td>\n",
       "      <td>0.0</td>\n",
       "      <td>0.0</td>\n",
       "      <td>0.0</td>\n",
       "      <td>0.0</td>\n",
       "      <td>0.0</td>\n",
       "      <td>0.0</td>\n",
       "      <td>0.0</td>\n",
       "      <td>0.0</td>\n",
       "    </tr>\n",
       "    <tr>\n",
       "      <th>ru-en</th>\n",
       "      <td>0.0</td>\n",
       "      <td>0.0</td>\n",
       "      <td>0.0</td>\n",
       "      <td>0.0</td>\n",
       "      <td>0.0</td>\n",
       "      <td>0.0</td>\n",
       "      <td>0.0</td>\n",
       "      <td>0.0</td>\n",
       "      <td>0.0</td>\n",
       "    </tr>\n",
       "    <tr>\n",
       "      <th>Average</th>\n",
       "      <td>0.0</td>\n",
       "      <td>0.0</td>\n",
       "      <td>0.0</td>\n",
       "      <td>0.01</td>\n",
       "      <td>0.01</td>\n",
       "      <td>0.01</td>\n",
       "      <td>0.0</td>\n",
       "      <td>0.0</td>\n",
       "      <td>0.0</td>\n",
       "    </tr>\n",
       "  </tbody>\n",
       "</table>\n",
       "</div>"
      ],
      "text/plain": [
       "        ROUGE-1 F1-Score ROUGE-1 Precision ROUGE-1 Recall ROUGE-2 F1-Score  \\\n",
       "Corpus                                                                       \n",
       "en-fi                0.0               0.0            0.0              0.0   \n",
       "zh-en                0.0               0.0            0.0              0.0   \n",
       "cs-en               0.01              0.02           0.01             0.06   \n",
       "en-zh                0.0               0.0            0.0              0.0   \n",
       "de-en                0.0               0.0            0.0              0.0   \n",
       "ru-en                0.0               0.0            0.0              0.0   \n",
       "Average              0.0               0.0            0.0             0.01   \n",
       "\n",
       "        ROUGE-2 Precision ROUGE-2 Recall ROUGE-L F1-Score ROUGE-L Precision  \\\n",
       "Corpus                                                                        \n",
       "en-fi                 0.0            0.0              0.0               0.0   \n",
       "zh-en                 0.0            0.0              0.0               0.0   \n",
       "cs-en                0.06           0.06              0.0               0.0   \n",
       "en-zh                 0.0            0.0              0.0               0.0   \n",
       "de-en                 0.0            0.0              0.0               0.0   \n",
       "ru-en                 0.0            0.0              0.0               0.0   \n",
       "Average              0.01           0.01              0.0               0.0   \n",
       "\n",
       "        ROUGE-L Recall  \n",
       "Corpus                  \n",
       "en-fi              0.0  \n",
       "zh-en              0.0  \n",
       "cs-en              0.0  \n",
       "en-zh              0.0  \n",
       "de-en              0.0  \n",
       "ru-en              0.0  \n",
       "Average            0.0  "
      ]
     },
     "execution_count": 99,
     "metadata": {},
     "output_type": "execute_result"
    }
   ],
   "source": [
    "#calculate the mean of the correlations in the entire corpora\n",
    "avg1b=corrougeKP['ROUGE-1 F1-Score'].astype(float).mean()\n",
    "avg2b=corrougeKP['ROUGE-1 Precision'].astype(float).mean()\n",
    "avg3b=corrougeKP['ROUGE-1 Recall'].astype(float).mean()\n",
    "avg4b=corrougeKP['ROUGE-2 F1-Score'].astype(float).mean()\n",
    "avg5b=corrougeKP['ROUGE-2 Precision'].astype(float).mean()\n",
    "avg6b=corrougeKP['ROUGE-2 Recall'].astype(float).mean()\n",
    "avg7b=corrougeKP['ROUGE-L F1-Score'].astype(float).mean()\n",
    "avg8b=corrougeKP['ROUGE-L Precision'].astype(float).mean()\n",
    "avg9b=corrougeKP['ROUGE-L Recall'].astype(float).mean()\n",
    "corrougeKP=corrougeKP.append({'Corpus':'Average','ROUGE-1 F1-Score':round(avg1b,2),'ROUGE-1 Precision':round(avg2b,2),\\\n",
    "                          'ROUGE-1 Recall':round(avg3b,2),'ROUGE-2 F1-Score':round(avg4b,2),\\\n",
    "                          'ROUGE-2 Precision':round(avg5b,2),'ROUGE-2 Recall':round(avg6b,2),\\\n",
    "                          'ROUGE-L F1-Score':round(avg7b,2),'ROUGE-L Precision':round(avg8b,2),\\\n",
    "                          'ROUGE-L Recall':round(avg9b,2)}, ignore_index=True)\n",
    "corrougeKP.set_index('Corpus', inplace=True)\n",
    "corrougeKP"
   ]
  },
  {
   "cell_type": "markdown",
   "id": "43840e93",
   "metadata": {},
   "source": [
    "#### WMD - World Movers Distance"
   ]
  },
  {
   "cell_type": "code",
   "execution_count": 100,
   "id": "9eabe53b",
   "metadata": {},
   "outputs": [
    {
     "name": "stdout",
     "output_type": "stream",
     "text": [
      "CPU times: user 29 s, sys: 3.67 s, total: 32.7 s\n",
      "Wall time: 34.1 s\n"
     ]
    }
   ],
   "source": [
    "%%time\n",
    "if not(os.path.isfile('GoogleNews-vectors-negative300.bin')):\n",
    "    if not(os.path.isfile('GoogleNews-vectors-negative300.bin.gz')):\n",
    "        urllib.request.urlretrieve(\"https://s3.amazonaws.com/dl4j-distribution/GoogleNews-vectors-negative300.bin.gz\",\\\n",
    "                                   \"GoogleNews-vectors-negative300.bin.gz\")\n",
    "    with gzip.open('GoogleNews-vectors-negative300.bin.gz', 'rb') as f_in:\n",
    "        with open('GoogleNews-vectors-negative300.bin', 'wb') as f_out:\n",
    "            shutil.copyfileobj(f_in, f_out)\n",
    "model = KeyedVectors.load_word2vec_format(\"GoogleNews-vectors-negative300.bin\", binary=True)"
   ]
  },
  {
   "cell_type": "code",
   "execution_count": 101,
   "id": "71a5d042",
   "metadata": {},
   "outputs": [],
   "source": [
    "#To reset_index of each corpora\n",
    "#Corpora 0\n",
    "corpora[0].reset_index(inplace=True)\n",
    "#Corpora 1\n",
    "corpora[1].reset_index(inplace=True)\n",
    "#Corpora 2\n",
    "corpora[2].reset_index(inplace=True)\n",
    "#Corpora 3\n",
    "corpora[3].reset_index(inplace=True)\n",
    "#Corpora 4\n",
    "corpora[4].reset_index(inplace=True)\n",
    "#Corpora 5\n",
    "corpora[5].reset_index(inplace=True)"
   ]
  },
  {
   "cell_type": "code",
   "execution_count": 102,
   "id": "d3a75c70",
   "metadata": {
    "scrolled": false
   },
   "outputs": [
    {
     "data": {
      "application/vnd.jupyter.widget-view+json": {
       "model_id": "ed34f9c5e2e54edfbd8a5fceed402c29",
       "version_major": 2,
       "version_minor": 0
      },
      "text/plain": [
       "  0%|          | 0/6 [00:00<?, ?it/s]"
      ]
     },
     "metadata": {},
     "output_type": "display_data"
    },
    {
     "data": {
      "application/vnd.jupyter.widget-view+json": {
       "model_id": "1401a93d854c4946b24ae0a28efb9d1c",
       "version_major": 2,
       "version_minor": 0
      },
      "text/plain": [
       "  0%|          | 0/6748 [00:02<?, ?it/s]"
      ]
     },
     "metadata": {},
     "output_type": "display_data"
    },
    {
     "data": {
      "application/vnd.jupyter.widget-view+json": {
       "model_id": "9d4f2b95f19b43a3a10bf1dcd1dc8ca5",
       "version_major": 2,
       "version_minor": 0
      },
      "text/plain": [
       "  0%|          | 0/26406 [00:00<?, ?it/s]"
      ]
     },
     "metadata": {},
     "output_type": "display_data"
    },
    {
     "data": {
      "application/vnd.jupyter.widget-view+json": {
       "model_id": "6554e48c91ac4eda986fee1800dad0cd",
       "version_major": 2,
       "version_minor": 0
      },
      "text/plain": [
       "  0%|          | 0/11543 [00:00<?, ?it/s]"
      ]
     },
     "metadata": {},
     "output_type": "display_data"
    },
    {
     "data": {
      "application/vnd.jupyter.widget-view+json": {
       "model_id": "2a036b3f1e88481fb33b6d598d884025",
       "version_major": 2,
       "version_minor": 0
      },
      "text/plain": [
       "  0%|          | 0/10219 [00:00<?, ?it/s]"
      ]
     },
     "metadata": {},
     "output_type": "display_data"
    },
    {
     "data": {
      "application/vnd.jupyter.widget-view+json": {
       "model_id": "25fff06d403f460984622ce7f8631878",
       "version_major": 2,
       "version_minor": 0
      },
      "text/plain": [
       "  0%|          | 0/21658 [00:00<?, ?it/s]"
      ]
     },
     "metadata": {},
     "output_type": "display_data"
    },
    {
     "data": {
      "application/vnd.jupyter.widget-view+json": {
       "model_id": "98d64e9401904252a51db50cddf2e7bc",
       "version_major": 2,
       "version_minor": 0
      },
      "text/plain": [
       "  0%|          | 0/17953 [00:00<?, ?it/s]"
      ]
     },
     "metadata": {},
     "output_type": "display_data"
    }
   ],
   "source": [
    "#create a copy of the corpora and calculate the distance\n",
    "corp=corpora\n",
    "\n",
    "for i in tqdm(range(len(corpus))):\n",
    "    results=np.zeros(corpora[i].shape[0],'float64')\n",
    "    #corp[i]['reference'].apply(lambda x : [word for word in x.lower().split() if word not in all_stopwords])\n",
    "    #corp[i]['translation'].apply(lambda x : [word for word in x.lower().split() if word not in all_stopwords])\n",
    "    for j in tqdm(range(corp[i].shape[0])):\n",
    "        results[i]=model.wmdistance(corp[i].loc[j].reference,corp[i].loc[j].translation)\n",
    "    corpora[i]['WMDistance']=results"
   ]
  },
  {
   "cell_type": "code",
   "execution_count": 103,
   "id": "d8ebd780",
   "metadata": {},
   "outputs": [
    {
     "data": {
      "text/html": [
       "<div>\n",
       "<style scoped>\n",
       "    .dataframe tbody tr th:only-of-type {\n",
       "        vertical-align: middle;\n",
       "    }\n",
       "\n",
       "    .dataframe tbody tr th {\n",
       "        vertical-align: top;\n",
       "    }\n",
       "\n",
       "    .dataframe thead th {\n",
       "        text-align: right;\n",
       "    }\n",
       "</style>\n",
       "<table border=\"1\" class=\"dataframe\">\n",
       "  <thead>\n",
       "    <tr style=\"text-align: right;\">\n",
       "      <th></th>\n",
       "      <th>index</th>\n",
       "      <th>source</th>\n",
       "      <th>reference</th>\n",
       "      <th>translation</th>\n",
       "      <th>z-score</th>\n",
       "      <th>avg-score</th>\n",
       "      <th>annotators</th>\n",
       "      <th>BLEU</th>\n",
       "      <th>ROUGE-1 F1-Score</th>\n",
       "      <th>ROUGE-1 Precision</th>\n",
       "      <th>ROUGE-1 Recall</th>\n",
       "      <th>ROUGE-2 F1-Score</th>\n",
       "      <th>ROUGE-2 Precision</th>\n",
       "      <th>ROUGE-2 Recall</th>\n",
       "      <th>ROUGE-L F1-Score</th>\n",
       "      <th>ROUGE-L Precision</th>\n",
       "      <th>ROUGE-L Recall</th>\n",
       "      <th>WMDistance</th>\n",
       "    </tr>\n",
       "  </thead>\n",
       "  <tbody>\n",
       "    <tr>\n",
       "      <th>0</th>\n",
       "      <td>0</td>\n",
       "      <td>You can turn yourself into a pineapple, a dog ...</td>\n",
       "      <td>VOIT MUUTTAA ITSESI ANANASTA KOIRASTA TAI ROY ...</td>\n",
       "      <td>VOIT MUUTTAA ITSESI ANANAKSEKSI KOIRAKSI TAI H...</td>\n",
       "      <td>-0.286195</td>\n",
       "      <td>34.20</td>\n",
       "      <td>5</td>\n",
       "      <td>0.000000e+00</td>\n",
       "      <td>0.521739</td>\n",
       "      <td>0.500000</td>\n",
       "      <td>0.545455</td>\n",
       "      <td>0.285714</td>\n",
       "      <td>0.272727</td>\n",
       "      <td>0.300000</td>\n",
       "      <td>0.521739</td>\n",
       "      <td>0.500000</td>\n",
       "      <td>0.545455</td>\n",
       "      <td>0.175511</td>\n",
       "    </tr>\n",
       "    <tr>\n",
       "      <th>1</th>\n",
       "      <td>1</td>\n",
       "      <td>Also shot were three men: two 29-year-olds and...</td>\n",
       "      <td>MYÖS AMMUTTIIN KOLME MIESTÄ KAKSI VUOTIAITA JA...</td>\n",
       "      <td>MYÖS KOLMEA MIESTÄ AMMUTTIIN KAHTA VUOTIASTA J...</td>\n",
       "      <td>0.547076</td>\n",
       "      <td>58.40</td>\n",
       "      <td>5</td>\n",
       "      <td>0.000000e+00</td>\n",
       "      <td>0.444444</td>\n",
       "      <td>0.444444</td>\n",
       "      <td>0.444444</td>\n",
       "      <td>0.000000</td>\n",
       "      <td>0.000000</td>\n",
       "      <td>0.000000</td>\n",
       "      <td>0.352941</td>\n",
       "      <td>0.375000</td>\n",
       "      <td>0.333333</td>\n",
       "      <td>0.000000</td>\n",
       "    </tr>\n",
       "    <tr>\n",
       "      <th>2</th>\n",
       "      <td>2</td>\n",
       "      <td>The information is stored at the cash register...</td>\n",
       "      <td>TIEDOT TALLENNETAAN KASSAKONEISIIN JOKA TAPAUK...</td>\n",
       "      <td>TIEDOT KUITENKIN TALLENTUVAT KASSOILLA JOKA TA...</td>\n",
       "      <td>1.122476</td>\n",
       "      <td>74.60</td>\n",
       "      <td>5</td>\n",
       "      <td>0.000000e+00</td>\n",
       "      <td>0.421053</td>\n",
       "      <td>0.400000</td>\n",
       "      <td>0.444444</td>\n",
       "      <td>0.117647</td>\n",
       "      <td>0.111111</td>\n",
       "      <td>0.125000</td>\n",
       "      <td>0.421053</td>\n",
       "      <td>0.400000</td>\n",
       "      <td>0.444444</td>\n",
       "      <td>0.000000</td>\n",
       "    </tr>\n",
       "    <tr>\n",
       "      <th>3</th>\n",
       "      <td>3</td>\n",
       "      <td>Xinhua says that there were traces of hydrochl...</td>\n",
       "      <td>XINHUA KERTOO ETTÄ XINYIN NÄYTTEESTÄ OLI SUNNU...</td>\n",
       "      <td>XINHUA KERTOO ETTÄ XINYIN SUNNUNTAINA ANTAMAST...</td>\n",
       "      <td>0.383095</td>\n",
       "      <td>53.60</td>\n",
       "      <td>5</td>\n",
       "      <td>0.000000e+00</td>\n",
       "      <td>0.571429</td>\n",
       "      <td>0.461538</td>\n",
       "      <td>0.750000</td>\n",
       "      <td>0.315789</td>\n",
       "      <td>0.250000</td>\n",
       "      <td>0.428571</td>\n",
       "      <td>0.476190</td>\n",
       "      <td>0.384615</td>\n",
       "      <td>0.625000</td>\n",
       "      <td>0.000000</td>\n",
       "    </tr>\n",
       "    <tr>\n",
       "      <th>4</th>\n",
       "      <td>4</td>\n",
       "      <td>MacDonald, who was brought on board CBC's comm...</td>\n",
       "      <td>VOITAISIIN KUULLA CBD N KOMMENTTITIIMIN TOIMIT...</td>\n",
       "      <td>MACDONALDIN JOKA TULI CBC N SELOSTAJATIIMIIN T...</td>\n",
       "      <td>-0.493065</td>\n",
       "      <td>32.25</td>\n",
       "      <td>4</td>\n",
       "      <td>9.109160e-232</td>\n",
       "      <td>0.250000</td>\n",
       "      <td>0.250000</td>\n",
       "      <td>0.250000</td>\n",
       "      <td>0.066667</td>\n",
       "      <td>0.066667</td>\n",
       "      <td>0.066667</td>\n",
       "      <td>0.187500</td>\n",
       "      <td>0.187500</td>\n",
       "      <td>0.187500</td>\n",
       "      <td>0.000000</td>\n",
       "    </tr>\n",
       "  </tbody>\n",
       "</table>\n",
       "</div>"
      ],
      "text/plain": [
       "   index                                             source  \\\n",
       "0      0  You can turn yourself into a pineapple, a dog ...   \n",
       "1      1  Also shot were three men: two 29-year-olds and...   \n",
       "2      2  The information is stored at the cash register...   \n",
       "3      3  Xinhua says that there were traces of hydrochl...   \n",
       "4      4  MacDonald, who was brought on board CBC's comm...   \n",
       "\n",
       "                                           reference  \\\n",
       "0  VOIT MUUTTAA ITSESI ANANASTA KOIRASTA TAI ROY ...   \n",
       "1  MYÖS AMMUTTIIN KOLME MIESTÄ KAKSI VUOTIAITA JA...   \n",
       "2  TIEDOT TALLENNETAAN KASSAKONEISIIN JOKA TAPAUK...   \n",
       "3  XINHUA KERTOO ETTÄ XINYIN NÄYTTEESTÄ OLI SUNNU...   \n",
       "4  VOITAISIIN KUULLA CBD N KOMMENTTITIIMIN TOIMIT...   \n",
       "\n",
       "                                         translation   z-score  avg-score  \\\n",
       "0  VOIT MUUTTAA ITSESI ANANAKSEKSI KOIRAKSI TAI H... -0.286195      34.20   \n",
       "1  MYÖS KOLMEA MIESTÄ AMMUTTIIN KAHTA VUOTIASTA J...  0.547076      58.40   \n",
       "2  TIEDOT KUITENKIN TALLENTUVAT KASSOILLA JOKA TA...  1.122476      74.60   \n",
       "3  XINHUA KERTOO ETTÄ XINYIN SUNNUNTAINA ANTAMAST...  0.383095      53.60   \n",
       "4  MACDONALDIN JOKA TULI CBC N SELOSTAJATIIMIIN T... -0.493065      32.25   \n",
       "\n",
       "   annotators           BLEU  ROUGE-1 F1-Score  ROUGE-1 Precision  \\\n",
       "0           5   0.000000e+00          0.521739           0.500000   \n",
       "1           5   0.000000e+00          0.444444           0.444444   \n",
       "2           5   0.000000e+00          0.421053           0.400000   \n",
       "3           5   0.000000e+00          0.571429           0.461538   \n",
       "4           4  9.109160e-232          0.250000           0.250000   \n",
       "\n",
       "   ROUGE-1 Recall  ROUGE-2 F1-Score  ROUGE-2 Precision  ROUGE-2 Recall  \\\n",
       "0        0.545455          0.285714           0.272727        0.300000   \n",
       "1        0.444444          0.000000           0.000000        0.000000   \n",
       "2        0.444444          0.117647           0.111111        0.125000   \n",
       "3        0.750000          0.315789           0.250000        0.428571   \n",
       "4        0.250000          0.066667           0.066667        0.066667   \n",
       "\n",
       "   ROUGE-L F1-Score  ROUGE-L Precision  ROUGE-L Recall  WMDistance  \n",
       "0          0.521739           0.500000        0.545455    0.175511  \n",
       "1          0.352941           0.375000        0.333333    0.000000  \n",
       "2          0.421053           0.400000        0.444444    0.000000  \n",
       "3          0.476190           0.384615        0.625000    0.000000  \n",
       "4          0.187500           0.187500        0.187500    0.000000  "
      ]
     },
     "execution_count": 103,
     "metadata": {},
     "output_type": "execute_result"
    }
   ],
   "source": [
    "#Corpora example\n",
    "corpora[0].head(5)"
   ]
  },
  {
   "cell_type": "code",
   "execution_count": 104,
   "id": "1884842b",
   "metadata": {},
   "outputs": [
    {
     "data": {
      "text/html": [
       "<div>\n",
       "<style scoped>\n",
       "    .dataframe tbody tr th:only-of-type {\n",
       "        vertical-align: middle;\n",
       "    }\n",
       "\n",
       "    .dataframe tbody tr th {\n",
       "        vertical-align: top;\n",
       "    }\n",
       "\n",
       "    .dataframe thead th {\n",
       "        text-align: right;\n",
       "    }\n",
       "</style>\n",
       "<table border=\"1\" class=\"dataframe\">\n",
       "  <thead>\n",
       "    <tr style=\"text-align: right;\">\n",
       "      <th></th>\n",
       "      <th>WMDistance (Pearson)</th>\n",
       "      <th>WMDistance (Kendall Tau-T)</th>\n",
       "      <th>WMDistance (Kendall Tau-P)</th>\n",
       "    </tr>\n",
       "    <tr>\n",
       "      <th>Corpus</th>\n",
       "      <th></th>\n",
       "      <th></th>\n",
       "      <th></th>\n",
       "    </tr>\n",
       "  </thead>\n",
       "  <tbody>\n",
       "    <tr>\n",
       "      <th>en-fi</th>\n",
       "      <td>-0.0</td>\n",
       "      <td>-0.0</td>\n",
       "      <td>0.85</td>\n",
       "    </tr>\n",
       "    <tr>\n",
       "      <th>zh-en</th>\n",
       "      <td>0.0</td>\n",
       "      <td>0.0</td>\n",
       "      <td>0.44</td>\n",
       "    </tr>\n",
       "    <tr>\n",
       "      <th>cs-en</th>\n",
       "      <td>0.01</td>\n",
       "      <td>0.01</td>\n",
       "      <td>0.25</td>\n",
       "    </tr>\n",
       "    <tr>\n",
       "      <th>en-zh</th>\n",
       "      <td>-0.03</td>\n",
       "      <td>-0.01</td>\n",
       "      <td>0.09</td>\n",
       "    </tr>\n",
       "    <tr>\n",
       "      <th>de-en</th>\n",
       "      <td>0.0</td>\n",
       "      <td>0.0</td>\n",
       "      <td>0.89</td>\n",
       "    </tr>\n",
       "    <tr>\n",
       "      <th>ru-en</th>\n",
       "      <td>0.01</td>\n",
       "      <td>0.01</td>\n",
       "      <td>0.12</td>\n",
       "    </tr>\n",
       "    <tr>\n",
       "      <th>Average</th>\n",
       "      <td>-0.0</td>\n",
       "      <td>0.0</td>\n",
       "      <td>0.44</td>\n",
       "    </tr>\n",
       "  </tbody>\n",
       "</table>\n",
       "</div>"
      ],
      "text/plain": [
       "        WMDistance (Pearson) WMDistance (Kendall Tau-T)  \\\n",
       "Corpus                                                    \n",
       "en-fi                   -0.0                       -0.0   \n",
       "zh-en                    0.0                        0.0   \n",
       "cs-en                   0.01                       0.01   \n",
       "en-zh                  -0.03                      -0.01   \n",
       "de-en                    0.0                        0.0   \n",
       "ru-en                   0.01                       0.01   \n",
       "Average                 -0.0                        0.0   \n",
       "\n",
       "        WMDistance (Kendall Tau-P)  \n",
       "Corpus                              \n",
       "en-fi                         0.85  \n",
       "zh-en                         0.44  \n",
       "cs-en                         0.25  \n",
       "en-zh                         0.09  \n",
       "de-en                         0.89  \n",
       "ru-en                         0.12  \n",
       "Average                       0.44  "
      ]
     },
     "execution_count": 104,
     "metadata": {},
     "output_type": "execute_result"
    }
   ],
   "source": [
    "#Empty list to keep correlations of WMDistance and Z-Score\n",
    "correl=[]\n",
    "KendallT=[]\n",
    "KendallP=[]\n",
    "#Clalculate the correlation of columns WMDistance and Z-Score on all corpora\n",
    "for i in range(len(corpus)):\n",
    "    correl.append(round(corpora[i]['WMDistance'].corr(corpora[i]['z-score']),2))\n",
    "    T,P=stats.kendalltau(corpora[i]['WMDistance'], corpora[i]['z-score'])\n",
    "    KendallT.append(round(T,2))\n",
    "    KendallP.append(round(P,2))\n",
    "#Create a DataFrame with the correlation calculated for each language pair\n",
    "corrWMDistance=pd.DataFrame(np.array([corpus,correl,KendallT,KendallP])).T\n",
    "#Rename the columns\n",
    "corrWMDistance.columns = ['Corpus', 'WMDistance (Pearson)','WMDistance (Kendall Tau-T)','WMDistance (Kendall Tau-P)']\n",
    "#calculate the mean of the correlations in the entire corpora\n",
    "avgPearson=corrWMDistance['WMDistance (Pearson)'].astype(float).mean()\n",
    "avgTau=corrWMDistance['WMDistance (Kendall Tau-T)'].astype(float).mean()\n",
    "avgP=corrWMDistance['WMDistance (Kendall Tau-P)'].astype(float).mean()\n",
    "corrWMDistance=corrWMDistance.append({'Corpus':'Average','WMDistance (Pearson)':round(avgPearson,2),\\\n",
    "                         'WMDistance (Kendall Tau-T)':round(avgTau,2),'WMDistance (Kendall Tau-P)':round(avgP,2)},\\\n",
    "                         ignore_index=True)\n",
    "corrWMDistance.set_index('Corpus', inplace=True)\n",
    "corrWMDistance"
   ]
  },
  {
   "cell_type": "code",
   "execution_count": 115,
   "id": "4809a868",
   "metadata": {},
   "outputs": [
    {
     "name": "stdout",
     "output_type": "stream",
     "text": [
      "/Users/catarinamoreira/Documents/GitHub/TextMining\n"
     ]
    }
   ],
   "source": [
    "cd Documents/Github/TextMining"
   ]
  },
  {
   "cell_type": "code",
   "execution_count": 116,
   "id": "cb393d73",
   "metadata": {},
   "outputs": [
    {
     "name": "stdout",
     "output_type": "stream",
     "text": [
      "CPU times: user 50.1 s, sys: 2.12 s, total: 52.3 s\n",
      "Wall time: 54.4 s\n"
     ]
    }
   ],
   "source": [
    "%%time\n",
    "#create a backup-point for corpora\n",
    "for i in range(len(corpus)):\n",
    "    corpora[i].to_excel('bckcorpora/'+corpus[i]+'.xlsx')"
   ]
  },
  {
   "cell_type": "markdown",
   "id": "db909103",
   "metadata": {},
   "source": [
    "#### BERT-Score"
   ]
  },
  {
   "cell_type": "code",
   "execution_count": 117,
   "id": "5857ef73",
   "metadata": {},
   "outputs": [],
   "source": [
    "from bert_score import score"
   ]
  },
  {
   "cell_type": "code",
   "execution_count": 118,
   "id": "0b3fc0e0",
   "metadata": {},
   "outputs": [],
   "source": [
    "#preparation\n",
    "#transformers\n",
    "transformers.tokenization_utils.logger.setLevel(logging.ERROR)\n",
    "transformers.configuration_utils.logger.setLevel(logging.ERROR)\n",
    "transformers.modeling_utils.logger.setLevel(logging.ERROR)"
   ]
  },
  {
   "cell_type": "code",
   "execution_count": null,
   "id": "529efc68",
   "metadata": {},
   "outputs": [
    {
     "data": {
      "application/vnd.jupyter.widget-view+json": {
       "model_id": "b2414a1d6571464d9186d9a763f66dc5",
       "version_major": 2,
       "version_minor": 0
      },
      "text/plain": [
       "  0%|          | 0/6 [00:00<?, ?it/s]"
      ]
     },
     "metadata": {},
     "output_type": "display_data"
    },
    {
     "name": "stdout",
     "output_type": "stream",
     "text": [
      "calculating scores...\n",
      "computing bert embedding.\n"
     ]
    },
    {
     "data": {
      "application/vnd.jupyter.widget-view+json": {
       "model_id": "4f2cbc99ada64754841ea515aca5c30d",
       "version_major": 2,
       "version_minor": 0
      },
      "text/plain": [
       "  0%|          | 0/148 [00:00<?, ?it/s]"
      ]
     },
     "metadata": {},
     "output_type": "display_data"
    },
    {
     "name": "stdout",
     "output_type": "stream",
     "text": [
      "computing greedy matching.\n"
     ]
    },
    {
     "data": {
      "application/vnd.jupyter.widget-view+json": {
       "model_id": "244c822522054509bf77528fc6f701f6",
       "version_major": 2,
       "version_minor": 0
      },
      "text/plain": [
       "  0%|          | 0/106 [00:00<?, ?it/s]"
      ]
     },
     "metadata": {},
     "output_type": "display_data"
    },
    {
     "name": "stdout",
     "output_type": "stream",
     "text": [
      "done in 845.82 seconds, 7.98 sentences/sec\n",
      "calculating scores...\n",
      "computing bert embedding.\n"
     ]
    },
    {
     "data": {
      "application/vnd.jupyter.widget-view+json": {
       "model_id": "f27995b81ff94dbb9349ea72af7232a5",
       "version_major": 2,
       "version_minor": 0
      },
      "text/plain": [
       "  0%|          | 0/425 [00:00<?, ?it/s]"
      ]
     },
     "metadata": {},
     "output_type": "display_data"
    }
   ],
   "source": [
    "#%%time\n",
    "BSP=[]\n",
    "BSR=[]\n",
    "BSF1=[]\n",
    "for i in tqdm(range(len(corpus))):\n",
    "    Ptemp, Rtemp, F1temp = score(list(corpora[i].translation), list(corpora[i].reference),\\\n",
    "                                 lang=corpus[i][-2:], verbose=True)\n",
    "    BSP.append(Ptemp)\n",
    "    BSR.append(Rtemp)\n",
    "    BSF1.append(F1temp)"
   ]
  },
  {
   "cell_type": "code",
   "execution_count": null,
   "id": "0d166d35",
   "metadata": {},
   "outputs": [],
   "source": [
    "a = corpora\n",
    "for i in range(len(corpora)):\n",
    "    corpora[i]=pd.concat([corpora[i],pd.DataFrame(BSP[i].numpy()),pd.DataFrame(BSR[i].numpy()),\\\n",
    "                          pd.DataFrame(BSF1[i].numpy())], axis=1, join='inner')\n",
    "    corpora[i].columns=['index',\"source\",\"reference\",\"translation\",\"z-score\",\"avg-score\",\"annotators\",\"BLEU\",\\\n",
    "                        \"ROUGE-1 F1-Score\",\"ROUGE-1 Precision\",\"ROUGE-1 Recall\",\"ROUGE-2 F1-Score\",\"ROUGE-2 Precision\",\\\n",
    "                        \"ROUGE-2 Recall\",\"ROUGE-L F1-Score\",\"ROUGE-L Precision\",\"ROUGE-L Recall\",\\\n",
    "                        \"WMDistance\",\"BERT-Score Precision\",\"BERT-Score Recall\",\"BERT-Score F1-Score\"]"
   ]
  },
  {
   "cell_type": "code",
   "execution_count": null,
   "id": "5b6236b4",
   "metadata": {},
   "outputs": [],
   "source": [
    "#create a backup-point for corpora\n",
    "for i in range(len(corpus)):\n",
    "    corpora[i].to_excel('bckcorpora/'+corpus[i]+'.xlsx')"
   ]
  },
  {
   "cell_type": "code",
   "execution_count": null,
   "id": "e0983f10",
   "metadata": {},
   "outputs": [],
   "source": [
    "#PEARSON Correlation of BERT-Score Stats and Z-Score\n",
    "#Empty list to keep correlations of BERT-Score and Z-Score\n",
    "correl1=[]\n",
    "correl2=[]\n",
    "correl3=[]\n",
    "#Calculate the correlation of columns BERT-Score... and Z-Score on all corpora\n",
    "for i in range(len(corpus)):\n",
    "    correl1.append(corpora[i]['BERT-Score F1-Score'].corr(corpora[i]['z-score']))\n",
    "    correl1[i]=round(correl1[i],2)\n",
    "    correl2.append(corpora[i]['BERT-Score Precision'].corr(corpora[i]['z-score']))\n",
    "    correl2[i]=round(correl2[i],2)\n",
    "    correl3.append(corpora[i]['BERT-Score Recall'].corr(corpora[i]['z-score']))\n",
    "    correl3[i]=round(correl3[i],2)\n",
    "#Create a DataFrame with the correlation calculated for each language pair\n",
    "corBERTScore=pd.DataFrame(np.array([corpus,correl1,correl2,correl3])).T\n",
    "#Rename the columns\n",
    "corBERTScore.columns = ['Corpus', 'BERT-Score F1-Score', 'BERT-Score Precision', 'BERT-Score Recall']\n",
    "#calculate the mean of the correlations in the entire corpora\n",
    "avg1=corBERTScore['BERT-Score F1-Score'].astype(float).mean()\n",
    "avg2=corBERTScore['BERT-Score Precision'].astype(float).mean()\n",
    "avg3=corBERTScore['BERT-Score Recall'].astype(float).mean()\n",
    "corBERTScore=corBERTScore.append({'Corpus':'Average','BERT-Score F1-Score':round(avg1,2),\\\n",
    "                                    'BERT-Score Precision':round(avg2,2),'BERT-Score Recall':round(avg3,2)}, ignore_index=True)\n",
    "corBERTScore.set_index('Corpus', inplace=True)\n",
    "corBERTScore"
   ]
  },
  {
   "cell_type": "code",
   "execution_count": null,
   "id": "5a10301a",
   "metadata": {},
   "outputs": [],
   "source": [
    "#Kedall Tau T Value of Rouge-N Stats and Z-Score\n",
    "#Empty list to keep correlations of Rouge-N and Z-Score\n",
    "correl1a=[]\n",
    "correl1b=[]\n",
    "correl2a=[]\n",
    "correl2b=[]\n",
    "correl3a=[]\n",
    "correl3b=[]\n",
    "\n",
    "#Clalculate the correlation of columns ROUGE... and Z-Score on all corpora\n",
    "for i in range(len(corpus)):\n",
    "    T,P=stats.kendalltau(corpora[i]['BERT-Score F1-Score'], corpora[i]['z-score'])\n",
    "    correl1a.append(round(T,2))\n",
    "    correl1b.append(round(P,2))\n",
    "    print(P)\n",
    "    T,P=stats.kendalltau(corpora[i]['BERT-Score Precision'], corpora[i]['z-score'])\n",
    "    correl2a.append(round(T,2))\n",
    "    correl2b.append(round(P,2))\n",
    "    T,P=stats.kendalltau(corpora[i]['BERT-Score Recall'], corpora[i]['z-score'])\n",
    "    correl3a.append(round(T,2))\n",
    "    correl3b.append(round(P,2))\n",
    "\n",
    "#Create DataFrames with the Kandall T and P values calculated for each language pair\n",
    "corBERTScoreKT=pd.DataFrame(np.array([corpus,correl1a,correl2a,correl3a])).T\n",
    "corBERTScoreKP=pd.DataFrame(np.array([corpus,correl1b,correl2b,correl3b])).T\n",
    "\n",
    "#Rename the columns\n",
    "corBERTScoreKT.columns = ['Corpus', 'BERT-Score F1-Score', 'BERT-Score Precision', 'BERT-Score Recall']\n",
    "corBERTScoreKP.columns = ['Corpus', 'BERT-Score F1-Score', 'BERT-Score Precision', 'BERT-Score Recall']\n",
    "\n",
    "#calculate the mean of the correlations in the entire corpora\n",
    "avg1a=corBERTScoreKT['BERT-Score F1-Score'].astype(float).mean()\n",
    "avg2a=corBERTScoreKT['BERT-Score Precision'].astype(float).mean()\n",
    "avg3a=corBERTScoreKT['BERT-Score Recall'].astype(float).mean()\n",
    "\n",
    "corBERTScoreKT=corBERTScoreKT.append({'Corpus':'Average','BERT-Score F1-Score':round(avg1a,2),\\\n",
    "                                      'BERT-Score Precision':round(avg2a,2),\\\n",
    "                                      'BERT-Score Recall':round(avg3a,2)}, ignore_index=True)\n",
    "corBERTScoreKT.set_index('Corpus', inplace=True)\n",
    "corBERTScoreKT"
   ]
  },
  {
   "cell_type": "code",
   "execution_count": null,
   "id": "1a0973b9",
   "metadata": {},
   "outputs": [],
   "source": [
    "#calculate the mean of the correlations in the entire corpora\n",
    "avg1b=corBERTScoreKP['BERT-Score F1-Score'].astype(float).mean()\n",
    "avg2b=corBERTScoreKP['BERT-Score Precision'].astype(float).mean()\n",
    "avg3b=corBERTScoreKP['BERT-Score Recall'].astype(float).mean()\n",
    "corBERTScoreKP=corBERTScoreKP.append({'Corpus':'Average','BERT-Score F1-Score':round(avg1b,2),\\\n",
    "                                      'BERT-Score Precision':round(avg2b,2),\\\n",
    "                                      'BERT-Score Recall':round(avg3b,2)}, ignore_index=True)\n",
    "corBERTScoreKP.set_index('Corpus', inplace=True)\n",
    "corBERTScoreKP"
   ]
  },
  {
   "cell_type": "markdown",
   "id": "5769eb41",
   "metadata": {},
   "source": [
    "#### BLEURT"
   ]
  },
  {
   "cell_type": "markdown",
   "id": "f2e2afc4",
   "metadata": {},
   "source": [
    "Refer to https://github.com/google-research/bleurt for bleurt installation"
   ]
  },
  {
   "cell_type": "markdown",
   "id": "62bd78f9",
   "metadata": {},
   "source": [
    "<p>After installed locate scorer.py on the packages folder and typecast your tf.constants on the predict method:</p>\n",
    "<p>def predict(self, input_dict):<br>&nbsp;&nbsp;&nbsp;predictions = self._bleurt_model_ops(input_ids=tf.constant(input_dict[\"input_ids\"]<b>,dtype='int64'</b>),<br>&nbsp;&nbsp;&nbsp;&nbsp;&nbsp;&nbsp;&nbsp;&nbsp;&nbsp;input_mask=tf.constant(input_dict[\"input_mask\"]<b>,dtype='int64'</b>),<br>&nbsp;&nbsp;&nbsp;&nbsp;&nbsp;&nbsp;&nbsp;&nbsp;&nbsp;segment_ids=tf.constant(input_dict[\"segment_ids\"]<b>,dtype='int64'</b>))[\"predictions\"].numpy()<br>&nbsp;&nbsp;&nbsp;return predictions</p>\n"
   ]
  },
  {
   "cell_type": "code",
   "execution_count": null,
   "id": "48b9026f",
   "metadata": {},
   "outputs": [],
   "source": [
    "from bleurt import score"
   ]
  },
  {
   "cell_type": "code",
   "execution_count": null,
   "id": "6737c78b",
   "metadata": {},
   "outputs": [],
   "source": [
    "ls"
   ]
  },
  {
   "cell_type": "code",
   "execution_count": null,
   "id": "7eb15104",
   "metadata": {},
   "outputs": [],
   "source": [
    "corpora=[]\n",
    "\n",
    "#corpora.append(pd.read_excel('cs-en.xlsx'))\n",
    "#corpora.append(pd.read_excel('de-en.xlsx'))\n",
    "#corpora.append(pd.read_excel('en-fi.xlsx'))\n",
    "#corpora.append(pd.read_excel('en-zh.xlsx'))\n",
    "#corpora.append(pd.read_excel('ru-en.xlsx'))\n",
    "#corpora.append(pd.read_excel('zh-en.xlsx'))\n",
    "\n",
    "\n",
    "        \n",
    "print('\\033[1m',len(corpora),'\\033[0mcorpora imported.')"
   ]
  },
  {
   "cell_type": "code",
   "execution_count": null,
   "id": "8998f635",
   "metadata": {},
   "outputs": [],
   "source": [
    "len(corpora)"
   ]
  },
  {
   "cell_type": "code",
   "execution_count": null,
   "id": "3ed075aa",
   "metadata": {},
   "outputs": [],
   "source": [
    "#create a backup-point for corpora\n",
    "#for i in range(len(corpus)):\n",
    "#    corpora[i].read_excel('bckcorpora/'+corpus[i]+'.xlsx')"
   ]
  },
  {
   "cell_type": "code",
   "execution_count": null,
   "id": "197d3ef4",
   "metadata": {},
   "outputs": [],
   "source": [
    "corpora[1]"
   ]
  },
  {
   "cell_type": "code",
   "execution_count": null,
   "id": "f9fced34",
   "metadata": {},
   "outputs": [],
   "source": [
    "#Dowload base \n",
    "if not(os.path.isfile('bleurt-base-128/vocab.txt')):\n",
    "    if not(os.path.isfile('https://storage.googleapis.com/bleurt-oss/bleurt-base-128.zip')):\n",
    "        urllib.request.urlretrieve(\"https://storage.googleapis.com/bleurt-oss/bleurt-base-128.zip\",\\\n",
    "                                   \"bleurt-base-128.zip\")\n",
    "    with ZipFile('bleurt-base-128.zip', 'r') as zipObj:\n",
    "        zipObj.extractall()"
   ]
  },
  {
   "cell_type": "code",
   "execution_count": null,
   "id": "3d3e0c77",
   "metadata": {},
   "outputs": [],
   "source": [
    "\n",
    "checkpoint = \"bleurt-base-128\"\n",
    "bleurtscores=[]\n",
    "for i in tqdm(range(len(corpus))):\n",
    "    ref=corpora[i].reference.to_list()\n",
    "    can=corpora[i].translation.to_list()\n",
    "    scorer = score.BleurtScorer(checkpoint)\n",
    "    scores=scorer.score(references=ref, candidates=can)\n",
    "    bleurtscores.append(scores)\n",
    "bleurtscores[0]"
   ]
  },
  {
   "cell_type": "markdown",
   "id": "15b9f799",
   "metadata": {},
   "source": [
    "#### COMET"
   ]
  },
  {
   "cell_type": "code",
   "execution_count": null,
   "id": "c71fb32b",
   "metadata": {},
   "outputs": [],
   "source": [
    "model = download_model(\"wmt-large-da-estimator-1719\", \"comet/\")\n",
    "model1 = download_model(\"wmt-base-da-estimator-1719\", \"comet1/\")\n",
    "model2 = download_model(\"wmt-large-hter-estimator\", \"comet2/\")\n",
    "model3 = download_model(\"wmt-base-hter-estimator\", \"comet3/\")\n",
    "model4 = download_model(\"emnlp-base-da-ranker\", \"comet4/\")\n",
    "model5 = download_model(\"wmt-large-qe-estimator-1719\", \"comet5/\")"
   ]
  },
  {
   "cell_type": "code",
   "execution_count": null,
   "id": "c2276602",
   "metadata": {},
   "outputs": [],
   "source": [
    "cometscores0=[]\n",
    "for i in (range(len(corpus))):\n",
    "    data = {\"src\": corpora[i].source, \"mt\": corpora[i].translation, \"ref\": corpora[i].reference}\n",
    "    data = [dict(zip(data, t)) for t in zip(*data.values())]\n",
    "    model.predict(data, cuda=True, show_progress=True)\n",
    "    \n",
    "    _, sgm_scores = model.predict(data, cuda=True, show_progress=False)\n",
    "    corpus_score = sum(sgm_scores)/len(sgm_scores)\n",
    "    \n",
    "    cometscores0.append(corpus_score)\n"
   ]
  },
  {
   "cell_type": "code",
   "execution_count": null,
   "id": "b9ce66b7",
   "metadata": {},
   "outputs": [],
   "source": [
    "cometscores[0]"
   ]
  },
  {
   "cell_type": "code",
   "execution_count": null,
   "id": "745ff759",
   "metadata": {},
   "outputs": [],
   "source": [
    "for i in range(len(corpus)):\n",
    "    corpora[i]=pd.concat([corpora[i],pd.DataFrame(cometscores0[i].numpy())], axis=1, join='inner')"
   ]
  },
  {
   "cell_type": "code",
   "execution_count": null,
   "id": "7f712076",
   "metadata": {},
   "outputs": [],
   "source": []
  },
  {
   "cell_type": "code",
   "execution_count": null,
   "id": "86f3e788",
   "metadata": {},
   "outputs": [],
   "source": [
    "cometscores1=[]\n",
    "for i in (range(len(corpus))):\n",
    "    data = {\"src\": corpora[i].source, \"mt\": corpora[i].translation, \"ref\": corpora[i].reference}\n",
    "    data = [dict(zip(data, t)) for t in zip(*data.values())]\n",
    "    model1.predict(data, cuda=True, show_progress=True)\n",
    "    \n",
    "    _, sgm_scores = model1.predict(data, cuda=True, show_progress=False)\n",
    "    corpus_score = sum(sgm_scores)/len(sgm_scores)\n",
    "    \n",
    "    cometscores1.append(corpus_score)"
   ]
  },
  {
   "cell_type": "code",
   "execution_count": null,
   "id": "3b214531",
   "metadata": {},
   "outputs": [],
   "source": [
    "for i in range(len(corpus)):\n",
    "    corpora[i]=pd.concat([corpora[i],pd.DataFrame(cometscores1[i].numpy())], axis=1, join='inner')\n"
   ]
  },
  {
   "cell_type": "code",
   "execution_count": null,
   "id": "bd153826",
   "metadata": {},
   "outputs": [],
   "source": []
  },
  {
   "cell_type": "code",
   "execution_count": null,
   "id": "9d0de5ba",
   "metadata": {},
   "outputs": [],
   "source": [
    "cometscores2=[]\n",
    "for i in (range(len(corpus))):\n",
    "    data = {\"src\": corpora[i].source, \"mt\": corpora[i].translation, \"ref\": corpora[i].reference}\n",
    "    data = [dict(zip(data, t)) for t in zip(*data.values())]\n",
    "    model2.predict(data, cuda=True, show_progress=True)\n",
    "    \n",
    "    _, sgm_scores = model2.predict(data, cuda=True, show_progress=False)\n",
    "    corpus_score = sum(sgm_scores)/len(sgm_scores)\n",
    "    \n",
    "    cometscores2.append(corpus_score)"
   ]
  },
  {
   "cell_type": "code",
   "execution_count": null,
   "id": "a5f7a80c",
   "metadata": {},
   "outputs": [],
   "source": [
    "for i in range(len(corpus)):\n",
    "    corpora[i]=pd.concat([corpora[i],pd.DataFrame(cometscores2[i].numpy())], axis=1, join='inner')\n"
   ]
  },
  {
   "cell_type": "code",
   "execution_count": null,
   "id": "edd45d3c",
   "metadata": {},
   "outputs": [],
   "source": []
  },
  {
   "cell_type": "code",
   "execution_count": null,
   "id": "fe4d1f19",
   "metadata": {},
   "outputs": [],
   "source": [
    "cometscores3=[]\n",
    "for i in (range(len(corpus))):\n",
    "    data = {\"src\": corpora[i].source, \"mt\": corpora[i].translation, \"ref\": corpora[i].reference}\n",
    "    data = [dict(zip(data, t)) for t in zip(*data.values())]\n",
    "    model3.predict(data, cuda=True, show_progress=True)\n",
    "    \n",
    "    _, sgm_scores = model3.predict(data, cuda=True, show_progress=False)\n",
    "    corpus_score = sum(sgm_scores)/len(sgm_scores)\n",
    "    \n",
    "    cometscores3.append(corpus_score)"
   ]
  },
  {
   "cell_type": "code",
   "execution_count": null,
   "id": "b65eb5b7",
   "metadata": {},
   "outputs": [],
   "source": [
    "for i in range(len(corpus)):\n",
    "    corpora[i]=pd.concat([corpora[i],pd.DataFrame(cometscores3[i].numpy())], axis=1, join='inner')\n"
   ]
  },
  {
   "cell_type": "code",
   "execution_count": null,
   "id": "d4f043a8",
   "metadata": {},
   "outputs": [],
   "source": []
  },
  {
   "cell_type": "code",
   "execution_count": null,
   "id": "c222588d",
   "metadata": {},
   "outputs": [],
   "source": [
    "cometscores4=[]\n",
    "for i in (range(len(corpus))):\n",
    "    data = {\"src\": corpora[i].source, \"mt\": corpora[i].translation, \"ref\": corpora[i].reference}\n",
    "    data = [dict(zip(data, t)) for t in zip(*data.values())]\n",
    "    model4.predict(data, cuda=True, show_progress=True)\n",
    "    \n",
    "    _, sgm_scores = model4.predict(data, cuda=True, show_progress=False)\n",
    "    corpus_score = sum(sgm_scores)/len(sgm_scores)\n",
    "    \n",
    "    cometscores4.append(corpus_score)"
   ]
  },
  {
   "cell_type": "code",
   "execution_count": null,
   "id": "176c24c1",
   "metadata": {},
   "outputs": [],
   "source": [
    "for i in range(len(corpus)):\n",
    "    corpora[i]=pd.concat([corpora[i],pd.DataFrame(cometscores4[i].numpy())], axis=1, join='inner')\n"
   ]
  },
  {
   "cell_type": "code",
   "execution_count": null,
   "id": "951817a4",
   "metadata": {},
   "outputs": [],
   "source": []
  },
  {
   "cell_type": "code",
   "execution_count": null,
   "id": "396df91e",
   "metadata": {},
   "outputs": [],
   "source": [
    "cometscores5=[]\n",
    "for i in (range(len(corpus))):\n",
    "    data = {\"src\": corpora[i].source, \"mt\": corpora[i].translation, \"ref\": corpora[i].reference}\n",
    "    data = [dict(zip(data, t)) for t in zip(*data.values())]\n",
    "    model5.predict(data, cuda=True, show_progress=True)\n",
    "    \n",
    "    _, sgm_scores = model5.predict(data, cuda=True, show_progress=False)\n",
    "    corpus_score = sum(sgm_scores)/len(sgm_scores)\n",
    "    \n",
    "    cometscores5.append(corpus_score)"
   ]
  },
  {
   "cell_type": "code",
   "execution_count": null,
   "id": "60a2d618",
   "metadata": {},
   "outputs": [],
   "source": [
    "for i in range(len(corpus)):\n",
    "    corpora[i]=pd.concat([corpora[i],pd.DataFrame(cometscores5[i].numpy())], axis=1, join='inner')\n"
   ]
  },
  {
   "cell_type": "code",
   "execution_count": null,
   "id": "00f3401f",
   "metadata": {},
   "outputs": [],
   "source": []
  },
  {
   "cell_type": "code",
   "execution_count": null,
   "id": "0059d9e2",
   "metadata": {},
   "outputs": [],
   "source": [
    "#Empty list to keep correlations of WMDistance and Z-Score\n",
    "correl=[]\n",
    "KendallT=[]\n",
    "KendallP=[]\n",
    "#Clalculate the correlation of columns WMDistance and Z-Score on all corpora\n",
    "for i in range(len(corpus)):\n",
    "    correl.append(round(corpora[i]['WMDistance'].corr(corpora[i]['z-score']),2))\n",
    "    T,P=stats.kendalltau(corpora[i]['WMDistance'], corpora[i]['z-score'])\n",
    "    KendallT.append(round(T,2))\n",
    "    KendallP.append(round(P,2))\n",
    "#Create a DataFrame with the correlation calculated for each language pair\n",
    "corrWMDistance=pd.DataFrame(np.array([corpus,correl,KendallT,KendallP])).T\n",
    "#Rename the columns\n",
    "corrWMDistance.columns = ['Corpus', 'WMDistance (Pearson)','WMDistance (Kendall Tau-T)','WMDistance (Kendall Tau-P)']\n",
    "#calculate the mean of the correlations in the entire corpora\n",
    "avgPearson=corrWMDistance['WMDistance (Pearson)'].astype(float).mean()\n",
    "avgTau=corrWMDistance['WMDistance (Kendall Tau-T)'].astype(float).mean()\n",
    "avgP=corrWMDistance['WMDistance (Kendall Tau-P)'].astype(float).mean()\n",
    "corrWMDistance=corrWMDistance.append({'Corpus':'Average','WMDistance (Pearson)':round(avgPearson,2),\\\n",
    "                         'WMDistance (Kendall Tau-T)':round(avgTau,2),'WMDistance (Kendall Tau-P)':round(avgP,2)},\\\n",
    "                         ignore_index=True)\n",
    "corrWMDistance.set_index('Corpus', inplace=True)\n",
    "corrWMDistance"
   ]
  },
  {
   "cell_type": "code",
   "execution_count": null,
   "id": "2b419039",
   "metadata": {},
   "outputs": [],
   "source": [
    "#Empty list to keep correlations of WMDistance and Z-Score\n",
    "correl=[]\n",
    "KendallT=[]\n",
    "KendallP=[]\n",
    "#Clalculate the correlation of columns WMDistance and Z-Score on all corpora\n",
    "for i in range(len(corpus)):\n",
    "    correl.append(round(corpora[i]['WMDistance'].corr(corpora[i]['z-score']),2))\n",
    "    T,P=stats.kendalltau(corpora[i]['WMDistance'], corpora[i]['z-score'])\n",
    "    KendallT.append(round(T,2))\n",
    "    KendallP.append(round(P,2))\n",
    "#Create a DataFrame with the correlation calculated for each language pair\n",
    "corrWMDistance=pd.DataFrame(np.array([corpus,correl,KendallT,KendallP])).T\n",
    "#Rename the columns\n",
    "corrWMDistance.columns = ['Corpus', 'WMDistance (Pearson)','WMDistance (Kendall Tau-T)','WMDistance (Kendall Tau-P)']\n",
    "#calculate the mean of the correlations in the entire corpora\n",
    "avgPearson=corrWMDistance['WMDistance (Pearson)'].astype(float).mean()\n",
    "avgTau=corrWMDistance['WMDistance (Kendall Tau-T)'].astype(float).mean()\n",
    "avgP=corrWMDistance['WMDistance (Kendall Tau-P)'].astype(float).mean()\n",
    "corrWMDistance=corrWMDistance.append({'Corpus':'Average','WMDistance (Pearson)':round(avgPearson,2),\\\n",
    "                         'WMDistance (Kendall Tau-T)':round(avgTau,2),'WMDistance (Kendall Tau-P)':round(avgP,2)},\\\n",
    "                         ignore_index=True)\n",
    "corrWMDistance.set_index('Corpus', inplace=True)\n",
    "corrWMDistance"
   ]
  },
  {
   "cell_type": "code",
   "execution_count": null,
   "id": "c4e3ece0",
   "metadata": {},
   "outputs": [],
   "source": [
    "#Empty list to keep correlations of WMDistance and Z-Score\n",
    "correl=[]\n",
    "KendallT=[]\n",
    "KendallP=[]\n",
    "#Clalculate the correlation of columns WMDistance and Z-Score on all corpora\n",
    "for i in range(len(corpus)):\n",
    "    correl.append(round(corpora[i]['WMDistance'].corr(corpora[i]['z-score']),2))\n",
    "    T,P=stats.kendalltau(corpora[i]['WMDistance'], corpora[i]['z-score'])\n",
    "    KendallT.append(round(T,2))\n",
    "    KendallP.append(round(P,2))\n",
    "#Create a DataFrame with the correlation calculated for each language pair\n",
    "corrWMDistance=pd.DataFrame(np.array([corpus,correl,KendallT,KendallP])).T\n",
    "#Rename the columns\n",
    "corrWMDistance.columns = ['Corpus', 'WMDistance (Pearson)','WMDistance (Kendall Tau-T)','WMDistance (Kendall Tau-P)']\n",
    "#calculate the mean of the correlations in the entire corpora\n",
    "avgPearson=corrWMDistance['WMDistance (Pearson)'].astype(float).mean()\n",
    "avgTau=corrWMDistance['WMDistance (Kendall Tau-T)'].astype(float).mean()\n",
    "avgP=corrWMDistance['WMDistance (Kendall Tau-P)'].astype(float).mean()\n",
    "corrWMDistance=corrWMDistance.append({'Corpus':'Average','WMDistance (Pearson)':round(avgPearson,2),\\\n",
    "                         'WMDistance (Kendall Tau-T)':round(avgTau,2),'WMDistance (Kendall Tau-P)':round(avgP,2)},\\\n",
    "                         ignore_index=True)\n",
    "corrWMDistance.set_index('Corpus', inplace=True)\n",
    "corrWMDistance"
   ]
  },
  {
   "cell_type": "code",
   "execution_count": null,
   "id": "f341aac9",
   "metadata": {},
   "outputs": [],
   "source": [
    "#Empty list to keep correlations of WMDistance and Z-Score\n",
    "correl=[]\n",
    "KendallT=[]\n",
    "KendallP=[]\n",
    "#Clalculate the correlation of columns WMDistance and Z-Score on all corpora\n",
    "for i in range(len(corpus)):\n",
    "    correl.append(round(corpora[i]['WMDistance'].corr(corpora[i]['z-score']),2))\n",
    "    T,P=stats.kendalltau(corpora[i]['WMDistance'], corpora[i]['z-score'])\n",
    "    KendallT.append(round(T,2))\n",
    "    KendallP.append(round(P,2))\n",
    "#Create a DataFrame with the correlation calculated for each language pair\n",
    "corrWMDistance=pd.DataFrame(np.array([corpus,correl,KendallT,KendallP])).T\n",
    "#Rename the columns\n",
    "corrWMDistance.columns = ['Corpus', 'WMDistance (Pearson)','WMDistance (Kendall Tau-T)','WMDistance (Kendall Tau-P)']\n",
    "#calculate the mean of the correlations in the entire corpora\n",
    "avgPearson=corrWMDistance['WMDistance (Pearson)'].astype(float).mean()\n",
    "avgTau=corrWMDistance['WMDistance (Kendall Tau-T)'].astype(float).mean()\n",
    "avgP=corrWMDistance['WMDistance (Kendall Tau-P)'].astype(float).mean()\n",
    "corrWMDistance=corrWMDistance.append({'Corpus':'Average','WMDistance (Pearson)':round(avgPearson,2),\\\n",
    "                         'WMDistance (Kendall Tau-T)':round(avgTau,2),'WMDistance (Kendall Tau-P)':round(avgP,2)},\\\n",
    "                         ignore_index=True)\n",
    "corrWMDistance.set_index('Corpus', inplace=True)\n",
    "corrWMDistance"
   ]
  },
  {
   "cell_type": "code",
   "execution_count": null,
   "id": "a31fd3f9",
   "metadata": {},
   "outputs": [],
   "source": [
    "#Empty list to keep correlations of WMDistance and Z-Score\n",
    "correl=[]\n",
    "KendallT=[]\n",
    "KendallP=[]\n",
    "#Clalculate the correlation of columns WMDistance and Z-Score on all corpora\n",
    "for i in range(len(corpus)):\n",
    "    correl.append(round(corpora[i]['WMDistance'].corr(corpora[i]['z-score']),2))\n",
    "    T,P=stats.kendalltau(corpora[i]['WMDistance'], corpora[i]['z-score'])\n",
    "    KendallT.append(round(T,2))\n",
    "    KendallP.append(round(P,2))\n",
    "#Create a DataFrame with the correlation calculated for each language pair\n",
    "corrWMDistance=pd.DataFrame(np.array([corpus,correl,KendallT,KendallP])).T\n",
    "#Rename the columns\n",
    "corrWMDistance.columns = ['Corpus', 'WMDistance (Pearson)','WMDistance (Kendall Tau-T)','WMDistance (Kendall Tau-P)']\n",
    "#calculate the mean of the correlations in the entire corpora\n",
    "avgPearson=corrWMDistance['WMDistance (Pearson)'].astype(float).mean()\n",
    "avgTau=corrWMDistance['WMDistance (Kendall Tau-T)'].astype(float).mean()\n",
    "avgP=corrWMDistance['WMDistance (Kendall Tau-P)'].astype(float).mean()\n",
    "corrWMDistance=corrWMDistance.append({'Corpus':'Average','WMDistance (Pearson)':round(avgPearson,2),\\\n",
    "                         'WMDistance (Kendall Tau-T)':round(avgTau,2),'WMDistance (Kendall Tau-P)':round(avgP,2)},\\\n",
    "                         ignore_index=True)\n",
    "corrWMDistance.set_index('Corpus', inplace=True)\n",
    "corrWMDistance"
   ]
  },
  {
   "cell_type": "markdown",
   "id": "f11ca1da",
   "metadata": {},
   "source": [
    "#### METEOR"
   ]
  },
  {
   "cell_type": "code",
   "execution_count": null,
   "id": "aed8c53e",
   "metadata": {},
   "outputs": [],
   "source": [
    "from meteor import meteor_score"
   ]
  },
  {
   "cell_type": "code",
   "execution_count": null,
   "id": "155ace57",
   "metadata": {},
   "outputs": [],
   "source": [
    "round(meteor_score(['this is a cat'], 'non matching hypothesis'),4) "
   ]
  },
  {
   "cell_type": "code",
   "execution_count": null,
   "id": "2f0f2652",
   "metadata": {},
   "outputs": [],
   "source": [
    "import tensorflow as tf\n",
    "import pickle\n",
    "import numpy as np\n",
    "from numpy.random import multinomial, shuffle\n",
    "import sys\n",
    "sys.path.append('..')\n",
    "from pprint import pprint\n",
    "from pycocoevalcap.bleu.bleu import Bleu\n",
    "from pycocoevalcap.rouge.rouge import Rouge\n",
    "from pycocoevalcap.cider.cider import Cider\n",
    "from pycocoevalcap.meteor.meteor import Meteor"
   ]
  },
  {
   "cell_type": "code",
   "execution_count": null,
   "id": "9c17ff3b",
   "metadata": {},
   "outputs": [],
   "source": [
    "def score(ref, hypo):\n",
    "    \"\"\"\n",
    "    ref, dictionary of reference sentences (id, sentence)\n",
    "    hypo, dictionary of hypothesis sentences (id, sentence)\n",
    "    score, dictionary of scores\n",
    "    \"\"\"\n",
    "    scorers = [\n",
    "        (Meteor(),\"METEOR\"),\n",
    "        (Cider(), \"CIDEr\")\n",
    "    ]\n",
    "    final_scores = {}\n",
    "    for scorer, method in scorers:\n",
    "        score, scores = scorer.compute_score(ref[0], hypo[0])\n",
    "        if type(score) == list:\n",
    "            for m, s in zip(method, score):\n",
    "                final_scores[m] = s\n",
    "        else:\n",
    "            final_scores[method] = score\n",
    "    return final_scores"
   ]
  },
  {
   "cell_type": "code",
   "execution_count": null,
   "id": "325602ed",
   "metadata": {},
   "outputs": [],
   "source": [
    "score(corpora[0].reference,corpora[0].translation)\n",
    "score(corpora[1].reference,corpora[1].translation)\n",
    "score(corpora[2].reference,corpora[2].translation)\n",
    "score(corpora[3].reference,corpora[3].translation)\n",
    "score(corpora[4].reference,corpora[4].translation)\n",
    "score(corpora[5].reference,corpora[5].translation)"
   ]
  }
 ],
 "metadata": {
  "kernelspec": {
   "display_name": "Python 3",
   "language": "python",
   "name": "python3"
  },
  "language_info": {
   "codemirror_mode": {
    "name": "ipython",
    "version": 3
   },
   "file_extension": ".py",
   "mimetype": "text/x-python",
   "name": "python",
   "nbconvert_exporter": "python",
   "pygments_lexer": "ipython3",
   "version": "3.8.10"
  }
 },
 "nbformat": 4,
 "nbformat_minor": 5
}
