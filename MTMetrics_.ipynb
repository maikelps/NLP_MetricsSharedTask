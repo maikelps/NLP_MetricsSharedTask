{
 "cells": [
  {
   "cell_type": "markdown",
   "metadata": {},
   "source": [
    "<div align=\"center\">\n",
    "    <h1>MDSAA TEXT MINING 2020-2021</h1>\n",
    "    <h2>MACHINE TRANSLATION METRICS</h2>\n",
    "    <p style=\"text-align:center\">David Sotto-Mayor Machado (m20201023@novaims.unl.pt), Maikel Sousa (m20200735@novaims.unl.pt), Catarina Moreira (m20201034@novaims.unl.pt)</p>\n",
    "</div>"
   ]
  },
  {
   "cell_type": "markdown",
   "metadata": {},
   "source": [
    "<h2>Import Libraries</h2>"
   ]
  },
  {
   "cell_type": "code",
   "execution_count": 1,
   "metadata": {},
   "outputs": [],
   "source": [
    "import os, sys, re, time, gzip, zlib, logging, transformers, urllib.request, shutil\n",
    "import pandas as pd\n",
    "import numpy as np\n",
    "from collections import Counter\n",
    "from rouge import Rouge\n",
    "from tqdm.notebook import tqdm\n",
    "from nltk.translate.bleu_score import sentence_bleu\n",
    "from nltk.corpus import stopwords\n",
    "from nltk import download\n",
    "from stopwordsiso import stopwords as swordsiso\n",
    "from gensim.models import Word2Vec\n",
    "from gensim.models import KeyedVectors\n",
    "import matplotlib.pyplot as plt\n",
    "from matplotlib import rcParams\n",
    "from bert_score import score\n",
    "import scipy.stats as stats"
   ]
  },
  {
   "cell_type": "code",
   "execution_count": 2,
   "metadata": {},
   "outputs": [],
   "source": [
    "#ignore warnings\n",
    "import warnings\n",
    "warnings.filterwarnings(\"ignore\")"
   ]
  },
  {
   "cell_type": "markdown",
   "metadata": {},
   "source": [
    "<h2>Import Corpora</h2>"
   ]
  },
  {
   "cell_type": "code",
   "execution_count": 3,
   "metadata": {},
   "outputs": [
    {
     "name": "stdout",
     "output_type": "stream",
     "text": [
      "6 corpora imported\n"
     ]
    }
   ],
   "source": [
    "#Import all the corpus csv files\n",
    "folder='corpus'\n",
    "corpus = os.listdir(folder)\n",
    "filename = 'scores.csv'\n",
    "corpora=[]\n",
    "for sub in corpus:\n",
    "    corpora.append(pd.read_csv('{}/{}/{}'.format(folder, sub, filename)))\n",
    "print(len(corpora),'corpora imported')"
   ]
  },
  {
   "cell_type": "code",
   "execution_count": 4,
   "metadata": {},
   "outputs": [],
   "source": [
    "#drop rows with missing translations or references\n",
    "for i in range(len(corpus)):\n",
    "    corpora[i].drop(corpora[i][corpora[i][\"reference\"] == \".\"].index, inplace=True)\n",
    "    corpora[i].drop(corpora[i][corpora[i][\"translation\"] == \".\"].index, inplace=True)\n",
    "    corpora[i].reset_index(drop=True, inplace=True)"
   ]
  },
  {
   "cell_type": "code",
   "execution_count": 5,
   "metadata": {},
   "outputs": [
    {
     "data": {
      "text/plain": [
       "['cs-en', 'de-en', 'en-fi', 'en-zh', 'ru-en', 'zh-en']"
      ]
     },
     "execution_count": 5,
     "metadata": {},
     "output_type": "execute_result"
    }
   ],
   "source": [
    "#list the different translation language pairs\n",
    "corpus"
   ]
  },
  {
   "cell_type": "code",
   "execution_count": 6,
   "metadata": {},
   "outputs": [
    {
     "data": {
      "text/html": [
       "<div>\n",
       "<style scoped>\n",
       "    .dataframe tbody tr th:only-of-type {\n",
       "        vertical-align: middle;\n",
       "    }\n",
       "\n",
       "    .dataframe tbody tr th {\n",
       "        vertical-align: top;\n",
       "    }\n",
       "\n",
       "    .dataframe thead th {\n",
       "        text-align: right;\n",
       "    }\n",
       "</style>\n",
       "<table border=\"1\" class=\"dataframe\">\n",
       "  <thead>\n",
       "    <tr style=\"text-align: right;\">\n",
       "      <th></th>\n",
       "      <th>source</th>\n",
       "      <th>reference</th>\n",
       "      <th>translation</th>\n",
       "      <th>z-score</th>\n",
       "      <th>avg-score</th>\n",
       "      <th>annotators</th>\n",
       "    </tr>\n",
       "  </thead>\n",
       "  <tbody>\n",
       "    <tr>\n",
       "      <th>0</th>\n",
       "      <td>Uchopíte pak zbraň mezi své předloktí a rameno...</td>\n",
       "      <td>You will then grab the weapon between your for...</td>\n",
       "      <td>You then grasp the gun between your forearm an...</td>\n",
       "      <td>-0.675383</td>\n",
       "      <td>60.000000</td>\n",
       "      <td>3</td>\n",
       "    </tr>\n",
       "    <tr>\n",
       "      <th>1</th>\n",
       "      <td>Ale je-li New York změna, pak je to také znovu...</td>\n",
       "      <td>But if New York is changed, then it's also a r...</td>\n",
       "      <td>But if New York is change, it is also reinvent...</td>\n",
       "      <td>-0.829403</td>\n",
       "      <td>44.000000</td>\n",
       "      <td>2</td>\n",
       "    </tr>\n",
       "    <tr>\n",
       "      <th>2</th>\n",
       "      <td>Dlouho a intenzivně jsem během léta přemýšlel,...</td>\n",
       "      <td>I have been thinking over and over again over ...</td>\n",
       "      <td>I have thought long and hard over the course o...</td>\n",
       "      <td>0.803185</td>\n",
       "      <td>96.500000</td>\n",
       "      <td>2</td>\n",
       "    </tr>\n",
       "    <tr>\n",
       "      <th>3</th>\n",
       "      <td>Najdou si jiný způsob, jak někde podvádět.</td>\n",
       "      <td>They find another way to cheat somewhere.</td>\n",
       "      <td>They will find another way how to defraud others.</td>\n",
       "      <td>0.563149</td>\n",
       "      <td>90.500000</td>\n",
       "      <td>2</td>\n",
       "    </tr>\n",
       "    <tr>\n",
       "      <th>4</th>\n",
       "      <td>Zpráva o výměně v čele prezidentovy administra...</td>\n",
       "      <td>The report on the replacement of the president...</td>\n",
       "      <td>The news of the replacement at the top of the ...</td>\n",
       "      <td>0.021549</td>\n",
       "      <td>74.666667</td>\n",
       "      <td>3</td>\n",
       "    </tr>\n",
       "  </tbody>\n",
       "</table>\n",
       "</div>"
      ],
      "text/plain": [
       "                                              source  \\\n",
       "0  Uchopíte pak zbraň mezi své předloktí a rameno...   \n",
       "1  Ale je-li New York změna, pak je to také znovu...   \n",
       "2  Dlouho a intenzivně jsem během léta přemýšlel,...   \n",
       "3         Najdou si jiný způsob, jak někde podvádět.   \n",
       "4  Zpráva o výměně v čele prezidentovy administra...   \n",
       "\n",
       "                                           reference  \\\n",
       "0  You will then grab the weapon between your for...   \n",
       "1  But if New York is changed, then it's also a r...   \n",
       "2  I have been thinking over and over again over ...   \n",
       "3          They find another way to cheat somewhere.   \n",
       "4  The report on the replacement of the president...   \n",
       "\n",
       "                                         translation   z-score  avg-score  \\\n",
       "0  You then grasp the gun between your forearm an... -0.675383  60.000000   \n",
       "1  But if New York is change, it is also reinvent... -0.829403  44.000000   \n",
       "2  I have thought long and hard over the course o...  0.803185  96.500000   \n",
       "3  They will find another way how to defraud others.  0.563149  90.500000   \n",
       "4  The news of the replacement at the top of the ...  0.021549  74.666667   \n",
       "\n",
       "   annotators  \n",
       "0           3  \n",
       "1           2  \n",
       "2           2  \n",
       "3           2  \n",
       "4           3  "
      ]
     },
     "execution_count": 6,
     "metadata": {},
     "output_type": "execute_result"
    }
   ],
   "source": [
    "#Verify one of the corpus\n",
    "corpora[0].head(5)"
   ]
  },
  {
   "cell_type": "markdown",
   "metadata": {},
   "source": [
    "<h2>BLEU - Bi-Lingual Evaluation Understudy</h2>"
   ]
  },
  {
   "cell_type": "code",
   "execution_count": 7,
   "metadata": {},
   "outputs": [
    {
     "data": {
      "application/vnd.jupyter.widget-view+json": {
       "model_id": "2c5fbfe178ad466f9ab6f6dbd2f5de77",
       "version_major": 2,
       "version_minor": 0
      },
      "text/plain": [
       "  0%|          | 0/6 [00:00<?, ?it/s]"
      ]
     },
     "metadata": {},
     "output_type": "display_data"
    },
    {
     "data": {
      "application/vnd.jupyter.widget-view+json": {
       "model_id": "a9b9a66d09a843a8a9c97882720af189",
       "version_major": 2,
       "version_minor": 0
      },
      "text/plain": [
       "  0%|          | 0/11585 [00:00<?, ?it/s]"
      ]
     },
     "metadata": {},
     "output_type": "display_data"
    },
    {
     "data": {
      "application/vnd.jupyter.widget-view+json": {
       "model_id": "9b440ceced65401db6a9eb96287fb0c6",
       "version_major": 2,
       "version_minor": 0
      },
      "text/plain": [
       "  0%|          | 0/21704 [00:00<?, ?it/s]"
      ]
     },
     "metadata": {},
     "output_type": "display_data"
    },
    {
     "data": {
      "application/vnd.jupyter.widget-view+json": {
       "model_id": "319dcb4301a94f208eccb604a82070b2",
       "version_major": 2,
       "version_minor": 0
      },
      "text/plain": [
       "  0%|          | 0/6748 [00:00<?, ?it/s]"
      ]
     },
     "metadata": {},
     "output_type": "display_data"
    },
    {
     "data": {
      "application/vnd.jupyter.widget-view+json": {
       "model_id": "3dfb1ba34ea74d958988178a2c129b42",
       "version_major": 2,
       "version_minor": 0
      },
      "text/plain": [
       "  0%|          | 0/10221 [00:00<?, ?it/s]"
      ]
     },
     "metadata": {},
     "output_type": "display_data"
    },
    {
     "data": {
      "application/vnd.jupyter.widget-view+json": {
       "model_id": "1e0e9e0e4ee44ebe9cefcb15c30e0e51",
       "version_major": 2,
       "version_minor": 0
      },
      "text/plain": [
       "  0%|          | 0/17977 [00:00<?, ?it/s]"
      ]
     },
     "metadata": {},
     "output_type": "display_data"
    },
    {
     "data": {
      "application/vnd.jupyter.widget-view+json": {
       "model_id": "f711722fe1224b06be37634aa9a1f15d",
       "version_major": 2,
       "version_minor": 0
      },
      "text/plain": [
       "  0%|          | 0/26418 [00:00<?, ?it/s]"
      ]
     },
     "metadata": {},
     "output_type": "display_data"
    },
    {
     "data": {
      "text/html": [
       "<div>\n",
       "<style scoped>\n",
       "    .dataframe tbody tr th:only-of-type {\n",
       "        vertical-align: middle;\n",
       "    }\n",
       "\n",
       "    .dataframe tbody tr th {\n",
       "        vertical-align: top;\n",
       "    }\n",
       "\n",
       "    .dataframe thead th {\n",
       "        text-align: right;\n",
       "    }\n",
       "</style>\n",
       "<table border=\"1\" class=\"dataframe\">\n",
       "  <thead>\n",
       "    <tr style=\"text-align: right;\">\n",
       "      <th></th>\n",
       "      <th>source</th>\n",
       "      <th>reference</th>\n",
       "      <th>translation</th>\n",
       "      <th>z-score</th>\n",
       "      <th>avg-score</th>\n",
       "      <th>annotators</th>\n",
       "      <th>BLEU</th>\n",
       "    </tr>\n",
       "  </thead>\n",
       "  <tbody>\n",
       "    <tr>\n",
       "      <th>0</th>\n",
       "      <td>Ihr Zeitlupentempo maßen sie, als sie vor Spit...</td>\n",
       "      <td>Her timeless pace measures them when they equi...</td>\n",
       "      <td>Their slow speed was measured by researchers o...</td>\n",
       "      <td>-0.345024</td>\n",
       "      <td>76.0</td>\n",
       "      <td>1</td>\n",
       "      <td>9.257325e-232</td>\n",
       "    </tr>\n",
       "    <tr>\n",
       "      <th>1</th>\n",
       "      <td>Er sagte, dass die Bereiche ruhige Treffpunkte...</td>\n",
       "      <td>He said the areas offer quiet meeting points b...</td>\n",
       "      <td>He said the spaces provided calm meeting point...</td>\n",
       "      <td>0.903800</td>\n",
       "      <td>97.5</td>\n",
       "      <td>2</td>\n",
       "      <td>0.000000e+00</td>\n",
       "    </tr>\n",
       "    <tr>\n",
       "      <th>2</th>\n",
       "      <td>Für die Geschäftsleute an der B 27 ist es nur ...</td>\n",
       "      <td>For businessmen at the B 27, it's only a small...</td>\n",
       "      <td>This is only a small consolation for businesse...</td>\n",
       "      <td>0.700503</td>\n",
       "      <td>94.0</td>\n",
       "      <td>1</td>\n",
       "      <td>1.000369e-231</td>\n",
       "    </tr>\n",
       "    <tr>\n",
       "      <th>3</th>\n",
       "      <td>Diese Fähigkeit sei möglicherweise angeboren o...</td>\n",
       "      <td>This ability may be born or developed with gen...</td>\n",
       "      <td>This ability may be innate, or may develop as ...</td>\n",
       "      <td>-1.256572</td>\n",
       "      <td>51.5</td>\n",
       "      <td>2</td>\n",
       "      <td>0.000000e+00</td>\n",
       "    </tr>\n",
       "    <tr>\n",
       "      <th>4</th>\n",
       "      <td>Weil sie Wassertemperaturen um die sechs Grad ...</td>\n",
       "      <td>Because they prefer water temperatures around ...</td>\n",
       "      <td>They generally only come to the surface in win...</td>\n",
       "      <td>0.293909</td>\n",
       "      <td>87.0</td>\n",
       "      <td>2</td>\n",
       "      <td>0.000000e+00</td>\n",
       "    </tr>\n",
       "  </tbody>\n",
       "</table>\n",
       "</div>"
      ],
      "text/plain": [
       "                                              source  \\\n",
       "0  Ihr Zeitlupentempo maßen sie, als sie vor Spit...   \n",
       "1  Er sagte, dass die Bereiche ruhige Treffpunkte...   \n",
       "2  Für die Geschäftsleute an der B 27 ist es nur ...   \n",
       "3  Diese Fähigkeit sei möglicherweise angeboren o...   \n",
       "4  Weil sie Wassertemperaturen um die sechs Grad ...   \n",
       "\n",
       "                                           reference  \\\n",
       "0  Her timeless pace measures them when they equi...   \n",
       "1  He said the areas offer quiet meeting points b...   \n",
       "2  For businessmen at the B 27, it's only a small...   \n",
       "3  This ability may be born or developed with gen...   \n",
       "4  Because they prefer water temperatures around ...   \n",
       "\n",
       "                                         translation   z-score  avg-score  \\\n",
       "0  Their slow speed was measured by researchers o... -0.345024       76.0   \n",
       "1  He said the spaces provided calm meeting point...  0.903800       97.5   \n",
       "2  This is only a small consolation for businesse...  0.700503       94.0   \n",
       "3  This ability may be innate, or may develop as ... -1.256572       51.5   \n",
       "4  They generally only come to the surface in win...  0.293909       87.0   \n",
       "\n",
       "   annotators           BLEU  \n",
       "0           1  9.257325e-232  \n",
       "1           2   0.000000e+00  \n",
       "2           1  1.000369e-231  \n",
       "3           2   0.000000e+00  \n",
       "4           2   0.000000e+00  "
      ]
     },
     "execution_count": 7,
     "metadata": {},
     "output_type": "execute_result"
    }
   ],
   "source": [
    "#Calculate BLEU Score for the entire Corpora \n",
    "for i in tqdm(range(len(corpus))):\n",
    "    #Temp Series to store the BLEU-4 scores (initiated as 0 and type float64)\n",
    "    bleus=np.zeros(corpora[i].shape[0],'float64')\n",
    "    for j in tqdm(range(corpora[i].shape[0])):\n",
    "        #The human translation\n",
    "        reference=corpora[i].loc[j].reference.lower().split()\n",
    "        #The automatic translation bein evaluated\n",
    "        translation=corpora[i].loc[j].translation.lower().split()\n",
    "        #Calculate the BLEU-4 (cumulative 4-gram BLEU score)\n",
    "        bleus[j]=sentence_bleu(translation,reference, weights=(0.25, 0.25, 0.25, 0.25))\n",
    "    corpora[i]['BLEU']=bleus\n",
    "#Examine BLEU-4 Score for one language pair\n",
    "corpora[1].head(5)"
   ]
  },
  {
   "cell_type": "code",
   "execution_count": 8,
   "metadata": {},
   "outputs": [
    {
     "data": {
      "text/html": [
       "<div>\n",
       "<style scoped>\n",
       "    .dataframe tbody tr th:only-of-type {\n",
       "        vertical-align: middle;\n",
       "    }\n",
       "\n",
       "    .dataframe tbody tr th {\n",
       "        vertical-align: top;\n",
       "    }\n",
       "\n",
       "    .dataframe thead th {\n",
       "        text-align: right;\n",
       "    }\n",
       "</style>\n",
       "<table border=\"1\" class=\"dataframe\">\n",
       "  <thead>\n",
       "    <tr style=\"text-align: right;\">\n",
       "      <th></th>\n",
       "      <th>BLEU (Pearson)</th>\n",
       "      <th>BLEU (Kendalltau-T)</th>\n",
       "      <th>BLEU (Kendalltau-P)</th>\n",
       "    </tr>\n",
       "    <tr>\n",
       "      <th>Corpus</th>\n",
       "      <th></th>\n",
       "      <th></th>\n",
       "      <th></th>\n",
       "    </tr>\n",
       "  </thead>\n",
       "  <tbody>\n",
       "    <tr>\n",
       "      <th>cs-en</th>\n",
       "      <td>-0.006645723855051797</td>\n",
       "      <td>0.014454541297883622</td>\n",
       "      <td>0.03598716128904323</td>\n",
       "    </tr>\n",
       "    <tr>\n",
       "      <th>de-en</th>\n",
       "      <td>0.003212614720728616</td>\n",
       "      <td>0.010492470302197587</td>\n",
       "      <td>0.036554995138382874</td>\n",
       "    </tr>\n",
       "    <tr>\n",
       "      <th>en-fi</th>\n",
       "      <td>0.02837502140716627</td>\n",
       "      <td>-0.01406814987164407</td>\n",
       "      <td>0.1516126785955457</td>\n",
       "    </tr>\n",
       "    <tr>\n",
       "      <th>en-zh</th>\n",
       "      <td>-0.01562506562772765</td>\n",
       "      <td>0.006691096616692321</td>\n",
       "      <td>0.39699542733631277</td>\n",
       "    </tr>\n",
       "    <tr>\n",
       "      <th>ru-en</th>\n",
       "      <td>-0.009512216072439897</td>\n",
       "      <td>0.009443572422650733</td>\n",
       "      <td>0.09049953612652259</td>\n",
       "    </tr>\n",
       "    <tr>\n",
       "      <th>zh-en</th>\n",
       "      <td>0.0012337911742889543</td>\n",
       "      <td>-0.03531560164650325</td>\n",
       "      <td>3.3419059744954125e-15</td>\n",
       "    </tr>\n",
       "    <tr>\n",
       "      <th>Average</th>\n",
       "      <td>0.0</td>\n",
       "      <td>-0.0</td>\n",
       "      <td>0.12</td>\n",
       "    </tr>\n",
       "  </tbody>\n",
       "</table>\n",
       "</div>"
      ],
      "text/plain": [
       "                BLEU (Pearson)   BLEU (Kendalltau-T)     BLEU (Kendalltau-P)\n",
       "Corpus                                                                      \n",
       "cs-en    -0.006645723855051797  0.014454541297883622     0.03598716128904323\n",
       "de-en     0.003212614720728616  0.010492470302197587    0.036554995138382874\n",
       "en-fi      0.02837502140716627  -0.01406814987164407      0.1516126785955457\n",
       "en-zh     -0.01562506562772765  0.006691096616692321     0.39699542733631277\n",
       "ru-en    -0.009512216072439897  0.009443572422650733     0.09049953612652259\n",
       "zh-en    0.0012337911742889543  -0.03531560164650325  3.3419059744954125e-15\n",
       "Average                    0.0                  -0.0                    0.12"
      ]
     },
     "execution_count": 8,
     "metadata": {},
     "output_type": "execute_result"
    }
   ],
   "source": [
    "#Empty list to keep correlations of BLEU and Z-Score\n",
    "correl=[]\n",
    "KendallT=[]\n",
    "KendallP=[]\n",
    "#Clalculate the correlation of columns BLEU and Z-Score on all corpora\n",
    "for i in range(len(corpus)):\n",
    "    correl.append(corpora[i].BLEU.corr(corpora[i]['z-score']))\n",
    "    T,P=stats.kendalltau(corpora[i].BLEU, corpora[i]['z-score'])\n",
    "    KendallT.append(T)\n",
    "    KendallP.append(P)\n",
    "#Create a DataFrame with the correlation calculated for each language pair\n",
    "corrbleu=pd.DataFrame(np.array([corpus,correl,KendallT,KendallP])).T\n",
    "#Rename the columns\n",
    "corrbleu.columns = ['Corpus', 'BLEU (Pearson)','BLEU (Kendalltau-T)','BLEU (Kendalltau-P)']\n",
    "#calculate the mean of the correlations in the entire corpora\n",
    "avgPearson=corrbleu['BLEU (Pearson)'].astype(float).mean()\n",
    "avgTau=corrbleu['BLEU (Kendalltau-T)'].astype(float).mean()\n",
    "avgP=corrbleu['BLEU (Kendalltau-P)'].astype(float).mean()\n",
    "corrbleu=corrbleu.append({'Corpus':'Average','BLEU (Pearson)':round(avgPearson,2),\\\n",
    "                         'BLEU (Kendalltau-T)':round(avgTau,2),'BLEU (Kendalltau-P)':round(avgP,2)}, ignore_index=True)\n",
    "corrbleu.set_index('Corpus', inplace=True)\n",
    "corrbleu"
   ]
  },
  {
   "cell_type": "markdown",
   "metadata": {},
   "source": [
    "<h2>ROUGE-N</h2>"
   ]
  },
  {
   "cell_type": "code",
   "execution_count": 9,
   "metadata": {},
   "outputs": [
    {
     "data": {
      "application/vnd.jupyter.widget-view+json": {
       "model_id": "62e046f71ce940ceb7ce646111a85d84",
       "version_major": 2,
       "version_minor": 0
      },
      "text/plain": [
       "  0%|          | 0/6 [00:00<?, ?it/s]"
      ]
     },
     "metadata": {},
     "output_type": "display_data"
    },
    {
     "data": {
      "text/html": [
       "<div>\n",
       "<style scoped>\n",
       "    .dataframe tbody tr th:only-of-type {\n",
       "        vertical-align: middle;\n",
       "    }\n",
       "\n",
       "    .dataframe tbody tr th {\n",
       "        vertical-align: top;\n",
       "    }\n",
       "\n",
       "    .dataframe thead th {\n",
       "        text-align: right;\n",
       "    }\n",
       "</style>\n",
       "<table border=\"1\" class=\"dataframe\">\n",
       "  <thead>\n",
       "    <tr style=\"text-align: right;\">\n",
       "      <th></th>\n",
       "      <th>rouge-1</th>\n",
       "      <th>rouge-2</th>\n",
       "      <th>rouge-l</th>\n",
       "    </tr>\n",
       "  </thead>\n",
       "  <tbody>\n",
       "    <tr>\n",
       "      <th>0</th>\n",
       "      <td>{'f': 0.5185185135253774, 'p': 0.5384615384615...</td>\n",
       "      <td>{'f': 0.23999999500800012, 'p': 0.25, 'r': 0.2...</td>\n",
       "      <td>{'f': 0.4615384565384616, 'p': 0.4615384615384...</td>\n",
       "    </tr>\n",
       "    <tr>\n",
       "      <th>1</th>\n",
       "      <td>{'f': 0.586206891646849, 'p': 0.68, 'r': 0.515...</td>\n",
       "      <td>{'f': 0.2857142808163266, 'p': 0.3333333333333...</td>\n",
       "      <td>{'f': 0.45283018372374517, 'p': 0.5, 'r': 0.41...</td>\n",
       "    </tr>\n",
       "    <tr>\n",
       "      <th>2</th>\n",
       "      <td>{'f': 0.4999999950347222, 'p': 0.4615384615384...</td>\n",
       "      <td>{'f': 0.27272726776859507, 'p': 0.25, 'r': 0.3}</td>\n",
       "      <td>{'f': 0.4999999950347222, 'p': 0.4615384615384...</td>\n",
       "    </tr>\n",
       "    <tr>\n",
       "      <th>3</th>\n",
       "      <td>{'f': 0.49122806517697754, 'p': 0.482758620689...</td>\n",
       "      <td>{'f': 0.25454544954710745, 'p': 0.25, 'r': 0.2...</td>\n",
       "      <td>{'f': 0.4905660327376291, 'p': 0.4814814814814...</td>\n",
       "    </tr>\n",
       "    <tr>\n",
       "      <th>4</th>\n",
       "      <td>{'f': 0.33333332847222225, 'p': 0.4, 'r': 0.28...</td>\n",
       "      <td>{'f': 0.1999999952000001, 'p': 0.25, 'r': 0.16...</td>\n",
       "      <td>{'f': 0.33333332847222225, 'p': 0.4, 'r': 0.28...</td>\n",
       "    </tr>\n",
       "  </tbody>\n",
       "</table>\n",
       "</div>"
      ],
      "text/plain": [
       "                                             rouge-1  \\\n",
       "0  {'f': 0.5185185135253774, 'p': 0.5384615384615...   \n",
       "1  {'f': 0.586206891646849, 'p': 0.68, 'r': 0.515...   \n",
       "2  {'f': 0.4999999950347222, 'p': 0.4615384615384...   \n",
       "3  {'f': 0.49122806517697754, 'p': 0.482758620689...   \n",
       "4  {'f': 0.33333332847222225, 'p': 0.4, 'r': 0.28...   \n",
       "\n",
       "                                             rouge-2  \\\n",
       "0  {'f': 0.23999999500800012, 'p': 0.25, 'r': 0.2...   \n",
       "1  {'f': 0.2857142808163266, 'p': 0.3333333333333...   \n",
       "2    {'f': 0.27272726776859507, 'p': 0.25, 'r': 0.3}   \n",
       "3  {'f': 0.25454544954710745, 'p': 0.25, 'r': 0.2...   \n",
       "4  {'f': 0.1999999952000001, 'p': 0.25, 'r': 0.16...   \n",
       "\n",
       "                                             rouge-l  \n",
       "0  {'f': 0.4615384565384616, 'p': 0.4615384615384...  \n",
       "1  {'f': 0.45283018372374517, 'p': 0.5, 'r': 0.41...  \n",
       "2  {'f': 0.4999999950347222, 'p': 0.4615384615384...  \n",
       "3  {'f': 0.4905660327376291, 'p': 0.4814814814814...  \n",
       "4  {'f': 0.33333332847222225, 'p': 0.4, 'r': 0.28...  "
      ]
     },
     "execution_count": 9,
     "metadata": {},
     "output_type": "execute_result"
    }
   ],
   "source": [
    "#Empty list to store Rouge-N scores\n",
    "rgn=[]\n",
    "#Instantiate Rouge\n",
    "rouge = Rouge()\n",
    "#Get the Rouge-N scores for each language pair\n",
    "for i in tqdm(range(len(corpus))):\n",
    "    rgn.append(pd.DataFrame(rouge.get_scores(corpora[4].translation, corpora[4].reference)))\n",
    "#validate output\n",
    "rgn[3].head(5)"
   ]
  },
  {
   "cell_type": "code",
   "execution_count": 10,
   "metadata": {},
   "outputs": [
    {
     "data": {
      "application/vnd.jupyter.widget-view+json": {
       "model_id": "84009477ea824f008a8e083f6b0fd2f6",
       "version_major": 2,
       "version_minor": 0
      },
      "text/plain": [
       "  0%|          | 0/6 [00:00<?, ?it/s]"
      ]
     },
     "metadata": {},
     "output_type": "display_data"
    },
    {
     "data": {
      "text/html": [
       "<div>\n",
       "<style scoped>\n",
       "    .dataframe tbody tr th:only-of-type {\n",
       "        vertical-align: middle;\n",
       "    }\n",
       "\n",
       "    .dataframe tbody tr th {\n",
       "        vertical-align: top;\n",
       "    }\n",
       "\n",
       "    .dataframe thead th {\n",
       "        text-align: right;\n",
       "    }\n",
       "</style>\n",
       "<table border=\"1\" class=\"dataframe\">\n",
       "  <thead>\n",
       "    <tr style=\"text-align: right;\">\n",
       "      <th></th>\n",
       "      <th>ROUGE-1 F1-Score</th>\n",
       "      <th>ROUGE-1 Precision</th>\n",
       "      <th>ROUGE-1 Recall</th>\n",
       "    </tr>\n",
       "  </thead>\n",
       "  <tbody>\n",
       "    <tr>\n",
       "      <th>0</th>\n",
       "      <td>0.518519</td>\n",
       "      <td>0.538462</td>\n",
       "      <td>0.500000</td>\n",
       "    </tr>\n",
       "    <tr>\n",
       "      <th>1</th>\n",
       "      <td>0.586207</td>\n",
       "      <td>0.680000</td>\n",
       "      <td>0.515152</td>\n",
       "    </tr>\n",
       "    <tr>\n",
       "      <th>2</th>\n",
       "      <td>0.500000</td>\n",
       "      <td>0.461538</td>\n",
       "      <td>0.545455</td>\n",
       "    </tr>\n",
       "    <tr>\n",
       "      <th>3</th>\n",
       "      <td>0.491228</td>\n",
       "      <td>0.482759</td>\n",
       "      <td>0.500000</td>\n",
       "    </tr>\n",
       "    <tr>\n",
       "      <th>4</th>\n",
       "      <td>0.333333</td>\n",
       "      <td>0.400000</td>\n",
       "      <td>0.285714</td>\n",
       "    </tr>\n",
       "  </tbody>\n",
       "</table>\n",
       "</div>"
      ],
      "text/plain": [
       "   ROUGE-1 F1-Score  ROUGE-1 Precision  ROUGE-1 Recall\n",
       "0          0.518519           0.538462        0.500000\n",
       "1          0.586207           0.680000        0.515152\n",
       "2          0.500000           0.461538        0.545455\n",
       "3          0.491228           0.482759        0.500000\n",
       "4          0.333333           0.400000        0.285714"
      ]
     },
     "execution_count": 10,
     "metadata": {},
     "output_type": "execute_result"
    }
   ],
   "source": [
    "#Empty lists to store the dataframes with Rouge-1, Rouge-2, Rouge-L scores split into columns\n",
    "rg1=[]\n",
    "rg2=[]\n",
    "rgl=[]\n",
    "#For each column of rgn store the 'exlosion' of its dictionay in a new dataframe\n",
    "for i in tqdm(range(len(corpus))):\n",
    "    #'exploding' dictionaries in a temp dataframe to preserve the other colmns\n",
    "    temp=rgn[i]\n",
    "    rg1.append(pd.json_normalize(temp['rouge-1']))\n",
    "    rg1[i].columns=[\"ROUGE-1 F1-Score\",\"ROUGE-1 Precision\",\"ROUGE-1 Recall\"]\n",
    "    temp=rgn[i]\n",
    "    rg2.append(pd.json_normalize(temp['rouge-2']))\n",
    "    rg2[i].columns=[\"ROUGE-2 F1-Score\",\"ROUGE-2 Precision\",\"ROUGE-2 Recall\"]\n",
    "    temp=rgn[i]\n",
    "    rgl.append(pd.json_normalize(temp['rouge-l']))\n",
    "    rgl[i].columns=[\"ROUGE-L F1-Score\",\"ROUGE-L Precision\",\"ROUGE-L Recall\"]\n",
    "rg1[0].head(5)"
   ]
  },
  {
   "cell_type": "code",
   "execution_count": 11,
   "metadata": {},
   "outputs": [
    {
     "data": {
      "application/vnd.jupyter.widget-view+json": {
       "model_id": "619a3717641f4a45abfba0273eba5830",
       "version_major": 2,
       "version_minor": 0
      },
      "text/plain": [
       "  0%|          | 0/6 [00:00<?, ?it/s]"
      ]
     },
     "metadata": {},
     "output_type": "display_data"
    },
    {
     "data": {
      "text/html": [
       "<div>\n",
       "<style scoped>\n",
       "    .dataframe tbody tr th:only-of-type {\n",
       "        vertical-align: middle;\n",
       "    }\n",
       "\n",
       "    .dataframe tbody tr th {\n",
       "        vertical-align: top;\n",
       "    }\n",
       "\n",
       "    .dataframe thead th {\n",
       "        text-align: right;\n",
       "    }\n",
       "</style>\n",
       "<table border=\"1\" class=\"dataframe\">\n",
       "  <thead>\n",
       "    <tr style=\"text-align: right;\">\n",
       "      <th></th>\n",
       "      <th>source</th>\n",
       "      <th>reference</th>\n",
       "      <th>translation</th>\n",
       "      <th>z-score</th>\n",
       "      <th>avg-score</th>\n",
       "      <th>annotators</th>\n",
       "      <th>BLEU</th>\n",
       "      <th>ROUGE-1 F1-Score</th>\n",
       "      <th>ROUGE-1 Precision</th>\n",
       "      <th>ROUGE-1 Recall</th>\n",
       "      <th>ROUGE-2 F1-Score</th>\n",
       "      <th>ROUGE-2 Precision</th>\n",
       "      <th>ROUGE-2 Recall</th>\n",
       "      <th>ROUGE-L F1-Score</th>\n",
       "      <th>ROUGE-L Precision</th>\n",
       "      <th>ROUGE-L Recall</th>\n",
       "    </tr>\n",
       "  </thead>\n",
       "  <tbody>\n",
       "    <tr>\n",
       "      <th>0</th>\n",
       "      <td>\"In the GISS model's simulation, Venus' slow s...</td>\n",
       "      <td>GSIS的科学家AnthonyDelGenio在新闻稿中解释说：“在GISS模型的模拟模型中...</td>\n",
       "      <td>戈达德太空研究所科学家安东尼·德尔·杰尼奥在新闻发布会上解释说：“在戈达德太空研究所的模型模...</td>\n",
       "      <td>-1.171867</td>\n",
       "      <td>50.0</td>\n",
       "      <td>1</td>\n",
       "      <td>0.0</td>\n",
       "      <td>0.518519</td>\n",
       "      <td>0.538462</td>\n",
       "      <td>0.500000</td>\n",
       "      <td>0.240000</td>\n",
       "      <td>0.250000</td>\n",
       "      <td>0.230769</td>\n",
       "      <td>0.461538</td>\n",
       "      <td>0.461538</td>\n",
       "      <td>0.461538</td>\n",
       "    </tr>\n",
       "    <tr>\n",
       "      <th>1</th>\n",
       "      <td>Ai Yanhan of China in the Women's 4 x 200m Fre...</td>\n",
       "      <td>中国在英国女性4x200mFreestreyWTE中的最后被称为：“中国14岁的孩子从球下降...</td>\n",
       "      <td>参加女子4x200米自由泳接力赛决赛的中国小将艾衍含被这样描述：“那名14岁的中国小姑娘犯了...</td>\n",
       "      <td>-2.255403</td>\n",
       "      <td>26.5</td>\n",
       "      <td>2</td>\n",
       "      <td>0.0</td>\n",
       "      <td>0.586207</td>\n",
       "      <td>0.680000</td>\n",
       "      <td>0.515152</td>\n",
       "      <td>0.285714</td>\n",
       "      <td>0.333333</td>\n",
       "      <td>0.250000</td>\n",
       "      <td>0.452830</td>\n",
       "      <td>0.500000</td>\n",
       "      <td>0.413793</td>\n",
       "    </tr>\n",
       "    <tr>\n",
       "      <th>2</th>\n",
       "      <td>Then came 2012, when nothing much went right f...</td>\n",
       "      <td>然后来到2012年，当她和她的队友们没有什么好处。</td>\n",
       "      <td>2012年，她和她的队友都不被看好。</td>\n",
       "      <td>-2.508996</td>\n",
       "      <td>21.0</td>\n",
       "      <td>1</td>\n",
       "      <td>0.0</td>\n",
       "      <td>0.500000</td>\n",
       "      <td>0.461538</td>\n",
       "      <td>0.545455</td>\n",
       "      <td>0.272727</td>\n",
       "      <td>0.250000</td>\n",
       "      <td>0.300000</td>\n",
       "      <td>0.500000</td>\n",
       "      <td>0.461538</td>\n",
       "      <td>0.545455</td>\n",
       "    </tr>\n",
       "    <tr>\n",
       "      <th>3</th>\n",
       "      <td>Since last year, Guodian Group has exported a ...</td>\n",
       "      <td>自去年以来，GoudianGroup从南非通过南非港口出口了163套风力发电项目。</td>\n",
       "      <td>自去年以来，国电集团共计有163套风电项目陆续从连云港港出口南非。</td>\n",
       "      <td>-2.416780</td>\n",
       "      <td>23.0</td>\n",
       "      <td>1</td>\n",
       "      <td>0.0</td>\n",
       "      <td>0.491228</td>\n",
       "      <td>0.482759</td>\n",
       "      <td>0.500000</td>\n",
       "      <td>0.254545</td>\n",
       "      <td>0.250000</td>\n",
       "      <td>0.259259</td>\n",
       "      <td>0.490566</td>\n",
       "      <td>0.481481</td>\n",
       "      <td>0.500000</td>\n",
       "    </tr>\n",
       "    <tr>\n",
       "      <th>4</th>\n",
       "      <td>Some alleged that the Kempinski hotel simply \"...</td>\n",
       "      <td>一些人指称，Kempinski旅馆只是\"被捕\"，以满足阿拉伯客户的要求。</td>\n",
       "      <td>有人认为凯宾斯基酒店简直是为了满足阿拉伯客户的要求而“卑躬屈膝”。</td>\n",
       "      <td>-1.489676</td>\n",
       "      <td>45.0</td>\n",
       "      <td>7</td>\n",
       "      <td>0.0</td>\n",
       "      <td>0.333333</td>\n",
       "      <td>0.400000</td>\n",
       "      <td>0.285714</td>\n",
       "      <td>0.200000</td>\n",
       "      <td>0.250000</td>\n",
       "      <td>0.166667</td>\n",
       "      <td>0.333333</td>\n",
       "      <td>0.400000</td>\n",
       "      <td>0.285714</td>\n",
       "    </tr>\n",
       "  </tbody>\n",
       "</table>\n",
       "</div>"
      ],
      "text/plain": [
       "                                              source  \\\n",
       "0  \"In the GISS model's simulation, Venus' slow s...   \n",
       "1  Ai Yanhan of China in the Women's 4 x 200m Fre...   \n",
       "2  Then came 2012, when nothing much went right f...   \n",
       "3  Since last year, Guodian Group has exported a ...   \n",
       "4  Some alleged that the Kempinski hotel simply \"...   \n",
       "\n",
       "                                           reference  \\\n",
       "0  GSIS的科学家AnthonyDelGenio在新闻稿中解释说：“在GISS模型的模拟模型中...   \n",
       "1  中国在英国女性4x200mFreestreyWTE中的最后被称为：“中国14岁的孩子从球下降...   \n",
       "2                          然后来到2012年，当她和她的队友们没有什么好处。   \n",
       "3          自去年以来，GoudianGroup从南非通过南非港口出口了163套风力发电项目。   \n",
       "4               一些人指称，Kempinski旅馆只是\"被捕\"，以满足阿拉伯客户的要求。   \n",
       "\n",
       "                                         translation   z-score  avg-score  \\\n",
       "0  戈达德太空研究所科学家安东尼·德尔·杰尼奥在新闻发布会上解释说：“在戈达德太空研究所的模型模... -1.171867       50.0   \n",
       "1  参加女子4x200米自由泳接力赛决赛的中国小将艾衍含被这样描述：“那名14岁的中国小姑娘犯了... -2.255403       26.5   \n",
       "2                                 2012年，她和她的队友都不被看好。 -2.508996       21.0   \n",
       "3                  自去年以来，国电集团共计有163套风电项目陆续从连云港港出口南非。 -2.416780       23.0   \n",
       "4                  有人认为凯宾斯基酒店简直是为了满足阿拉伯客户的要求而“卑躬屈膝”。 -1.489676       45.0   \n",
       "\n",
       "   annotators  BLEU  ROUGE-1 F1-Score  ROUGE-1 Precision  ROUGE-1 Recall  \\\n",
       "0           1   0.0          0.518519           0.538462        0.500000   \n",
       "1           2   0.0          0.586207           0.680000        0.515152   \n",
       "2           1   0.0          0.500000           0.461538        0.545455   \n",
       "3           1   0.0          0.491228           0.482759        0.500000   \n",
       "4           7   0.0          0.333333           0.400000        0.285714   \n",
       "\n",
       "   ROUGE-2 F1-Score  ROUGE-2 Precision  ROUGE-2 Recall  ROUGE-L F1-Score  \\\n",
       "0          0.240000           0.250000        0.230769          0.461538   \n",
       "1          0.285714           0.333333        0.250000          0.452830   \n",
       "2          0.272727           0.250000        0.300000          0.500000   \n",
       "3          0.254545           0.250000        0.259259          0.490566   \n",
       "4          0.200000           0.250000        0.166667          0.333333   \n",
       "\n",
       "   ROUGE-L Precision  ROUGE-L Recall  \n",
       "0           0.461538        0.461538  \n",
       "1           0.500000        0.413793  \n",
       "2           0.461538        0.545455  \n",
       "3           0.481481        0.500000  \n",
       "4           0.400000        0.285714  "
      ]
     },
     "execution_count": 11,
     "metadata": {},
     "output_type": "execute_result"
    }
   ],
   "source": [
    "for i in tqdm(range(len(corpus))):\n",
    "    corpora[i]=pd.concat([corpora[i],rg1[i],rg2[i],rgl[i]], axis=1, join='inner')\n",
    "corpora[3].head(5)"
   ]
  },
  {
   "cell_type": "code",
   "execution_count": 12,
   "metadata": {},
   "outputs": [
    {
     "data": {
      "text/html": [
       "<div>\n",
       "<style scoped>\n",
       "    .dataframe tbody tr th:only-of-type {\n",
       "        vertical-align: middle;\n",
       "    }\n",
       "\n",
       "    .dataframe tbody tr th {\n",
       "        vertical-align: top;\n",
       "    }\n",
       "\n",
       "    .dataframe thead th {\n",
       "        text-align: right;\n",
       "    }\n",
       "</style>\n",
       "<table border=\"1\" class=\"dataframe\">\n",
       "  <thead>\n",
       "    <tr style=\"text-align: right;\">\n",
       "      <th></th>\n",
       "      <th>ROUGE-1 F1-Score</th>\n",
       "      <th>ROUGE-1 Precision</th>\n",
       "      <th>ROUGE-1 Recall</th>\n",
       "      <th>ROUGE-2 F1-Score</th>\n",
       "      <th>ROUGE-2 Precision</th>\n",
       "      <th>ROUGE-2 Recall</th>\n",
       "      <th>ROUGE-L F1-Score</th>\n",
       "      <th>ROUGE-L Precision</th>\n",
       "      <th>ROUGE-L Recall</th>\n",
       "    </tr>\n",
       "    <tr>\n",
       "      <th>Corpus</th>\n",
       "      <th></th>\n",
       "      <th></th>\n",
       "      <th></th>\n",
       "      <th></th>\n",
       "      <th></th>\n",
       "      <th></th>\n",
       "      <th></th>\n",
       "      <th></th>\n",
       "      <th></th>\n",
       "    </tr>\n",
       "  </thead>\n",
       "  <tbody>\n",
       "    <tr>\n",
       "      <th>cs-en</th>\n",
       "      <td>0.01</td>\n",
       "      <td>0.01</td>\n",
       "      <td>0.01</td>\n",
       "      <td>0.02</td>\n",
       "      <td>0.02</td>\n",
       "      <td>0.02</td>\n",
       "      <td>0.01</td>\n",
       "      <td>0.01</td>\n",
       "      <td>0.02</td>\n",
       "    </tr>\n",
       "    <tr>\n",
       "      <th>de-en</th>\n",
       "      <td>0.0</td>\n",
       "      <td>0.0</td>\n",
       "      <td>0.0</td>\n",
       "      <td>-0.0</td>\n",
       "      <td>-0.0</td>\n",
       "      <td>-0.0</td>\n",
       "      <td>-0.0</td>\n",
       "      <td>-0.0</td>\n",
       "      <td>-0.0</td>\n",
       "    </tr>\n",
       "    <tr>\n",
       "      <th>en-fi</th>\n",
       "      <td>0.02</td>\n",
       "      <td>0.03</td>\n",
       "      <td>0.01</td>\n",
       "      <td>0.03</td>\n",
       "      <td>0.03</td>\n",
       "      <td>0.02</td>\n",
       "      <td>0.03</td>\n",
       "      <td>0.03</td>\n",
       "      <td>0.03</td>\n",
       "    </tr>\n",
       "    <tr>\n",
       "      <th>en-zh</th>\n",
       "      <td>-0.0</td>\n",
       "      <td>-0.01</td>\n",
       "      <td>0.0</td>\n",
       "      <td>-0.01</td>\n",
       "      <td>-0.01</td>\n",
       "      <td>-0.0</td>\n",
       "      <td>-0.01</td>\n",
       "      <td>-0.01</td>\n",
       "      <td>-0.0</td>\n",
       "    </tr>\n",
       "    <tr>\n",
       "      <th>ru-en</th>\n",
       "      <td>0.33</td>\n",
       "      <td>0.33</td>\n",
       "      <td>0.3</td>\n",
       "      <td>0.3</td>\n",
       "      <td>0.31</td>\n",
       "      <td>0.29</td>\n",
       "      <td>0.34</td>\n",
       "      <td>0.34</td>\n",
       "      <td>0.31</td>\n",
       "    </tr>\n",
       "    <tr>\n",
       "      <th>zh-en</th>\n",
       "      <td>0.03</td>\n",
       "      <td>0.03</td>\n",
       "      <td>0.03</td>\n",
       "      <td>0.03</td>\n",
       "      <td>0.03</td>\n",
       "      <td>0.03</td>\n",
       "      <td>0.04</td>\n",
       "      <td>0.04</td>\n",
       "      <td>0.04</td>\n",
       "    </tr>\n",
       "    <tr>\n",
       "      <th>Average</th>\n",
       "      <td>0.07</td>\n",
       "      <td>0.07</td>\n",
       "      <td>0.06</td>\n",
       "      <td>0.06</td>\n",
       "      <td>0.06</td>\n",
       "      <td>0.06</td>\n",
       "      <td>0.07</td>\n",
       "      <td>0.07</td>\n",
       "      <td>0.07</td>\n",
       "    </tr>\n",
       "  </tbody>\n",
       "</table>\n",
       "</div>"
      ],
      "text/plain": [
       "        ROUGE-1 F1-Score ROUGE-1 Precision ROUGE-1 Recall ROUGE-2 F1-Score  \\\n",
       "Corpus                                                                       \n",
       "cs-en               0.01              0.01           0.01             0.02   \n",
       "de-en                0.0               0.0            0.0             -0.0   \n",
       "en-fi               0.02              0.03           0.01             0.03   \n",
       "en-zh               -0.0             -0.01            0.0            -0.01   \n",
       "ru-en               0.33              0.33            0.3              0.3   \n",
       "zh-en               0.03              0.03           0.03             0.03   \n",
       "Average             0.07              0.07           0.06             0.06   \n",
       "\n",
       "        ROUGE-2 Precision ROUGE-2 Recall ROUGE-L F1-Score ROUGE-L Precision  \\\n",
       "Corpus                                                                        \n",
       "cs-en                0.02           0.02             0.01              0.01   \n",
       "de-en                -0.0           -0.0             -0.0              -0.0   \n",
       "en-fi                0.03           0.02             0.03              0.03   \n",
       "en-zh               -0.01           -0.0            -0.01             -0.01   \n",
       "ru-en                0.31           0.29             0.34              0.34   \n",
       "zh-en                0.03           0.03             0.04              0.04   \n",
       "Average              0.06           0.06             0.07              0.07   \n",
       "\n",
       "        ROUGE-L Recall  \n",
       "Corpus                  \n",
       "cs-en             0.02  \n",
       "de-en             -0.0  \n",
       "en-fi             0.03  \n",
       "en-zh             -0.0  \n",
       "ru-en             0.31  \n",
       "zh-en             0.04  \n",
       "Average           0.07  "
      ]
     },
     "execution_count": 12,
     "metadata": {},
     "output_type": "execute_result"
    }
   ],
   "source": [
    "#Empty list to keep correlations of BLEU and Z-Score\n",
    "correl1=[]\n",
    "correl2=[]\n",
    "correl3=[]\n",
    "correl4=[]\n",
    "correl5=[]\n",
    "correl6=[]\n",
    "correl7=[]\n",
    "correl8=[]\n",
    "correl9=[]\n",
    "#Clalculate the correlation of columns ROUGE... and Z-Score on all corpora\n",
    "for i in range(len(corpus)):\n",
    "    correl1.append(corpora[i]['ROUGE-1 F1-Score'].corr(corpora[i]['z-score']))\n",
    "    correl1[i]=round(correl1[i],2)\n",
    "    correl2.append(corpora[i]['ROUGE-1 Precision'].corr(corpora[i]['z-score']))\n",
    "    correl2[i]=round(correl2[i],2)\n",
    "    correl3.append(corpora[i]['ROUGE-1 Recall'].corr(corpora[i]['z-score']))\n",
    "    correl3[i]=round(correl3[i],2)\n",
    "    correl4.append(corpora[i]['ROUGE-2 F1-Score'].corr(corpora[i]['z-score']))\n",
    "    correl4[i]=round(correl4[i],2)\n",
    "    correl5.append(corpora[i]['ROUGE-2 Precision'].corr(corpora[i]['z-score']))\n",
    "    correl5[i]=round(correl5[i],2)\n",
    "    correl6.append(corpora[i]['ROUGE-2 Recall'].corr(corpora[i]['z-score']))\n",
    "    correl6[i]=round(correl6[i],2)\n",
    "    correl7.append(corpora[i]['ROUGE-L F1-Score'].corr(corpora[i]['z-score']))\n",
    "    correl7[i]=round(correl7[i],2)\n",
    "    correl8.append(corpora[i]['ROUGE-L Precision'].corr(corpora[i]['z-score']))\n",
    "    correl8[i]=round(correl8[i],2)\n",
    "    correl9.append(corpora[i]['ROUGE-L Recall'].corr(corpora[i]['z-score']))\n",
    "    correl9[i]=round(correl9[i],2)\n",
    "#Create a DataFrame with the correlation calculated for each language pair\n",
    "corrouge=pd.DataFrame(np.array([corpus,correl1,correl2,correl3,correl4,correl5,correl6,correl7,correl8,correl9])).T\n",
    "#Rename the columns\n",
    "corrouge.columns = ['Corpus', 'ROUGE-1 F1-Score', 'ROUGE-1 Precision', 'ROUGE-1 Recall', 'ROUGE-2 F1-Score',\\\n",
    "                    'ROUGE-2 Precision', 'ROUGE-2 Recall', 'ROUGE-L F1-Score', 'ROUGE-L Precision', 'ROUGE-L Recall',]\n",
    "#calculate the mean of the correlations in the entire corpora\n",
    "avg1=corrouge['ROUGE-1 F1-Score'].astype(float).mean()\n",
    "avg2=corrouge['ROUGE-1 Precision'].astype(float).mean()\n",
    "avg3=corrouge['ROUGE-1 Recall'].astype(float).mean()\n",
    "avg4=corrouge['ROUGE-2 F1-Score'].astype(float).mean()\n",
    "avg5=corrouge['ROUGE-2 Precision'].astype(float).mean()\n",
    "avg6=corrouge['ROUGE-2 Recall'].astype(float).mean()\n",
    "avg7=corrouge['ROUGE-L F1-Score'].astype(float).mean()\n",
    "avg8=corrouge['ROUGE-L Precision'].astype(float).mean()\n",
    "avg9=corrouge['ROUGE-L Recall'].astype(float).mean()\n",
    "corrouge=corrouge.append({'Corpus':'Average','ROUGE-1 F1-Score':round(avg1,2),'ROUGE-1 Precision':round(avg2,2),\\\n",
    "                          'ROUGE-1 Recall':round(avg3,2),'ROUGE-2 F1-Score':round(avg4,2),'ROUGE-2 Precision':round(avg5,2),\\\n",
    "                          'ROUGE-2 Recall':round(avg6,2),'ROUGE-L F1-Score':round(avg7,2),'ROUGE-L Precision':round(avg8,2),\\\n",
    "                          'ROUGE-L Recall':round(avg9,2),}, ignore_index=True)\n",
    "corrouge.set_index('Corpus', inplace=True)\n",
    "corrouge"
   ]
  },
  {
   "cell_type": "markdown",
   "metadata": {},
   "source": [
    "<h2>WMD - World Movers Distance</h2>"
   ]
  },
  {
   "cell_type": "code",
   "execution_count": 13,
   "metadata": {},
   "outputs": [
    {
     "name": "stderr",
     "output_type": "stream",
     "text": [
      "[nltk_data] Downloading package stopwords to\n",
      "[nltk_data]     C:\\Users\\david\\AppData\\Roaming\\nltk_data...\n",
      "[nltk_data]   Package stopwords is already up-to-date!\n"
     ]
    }
   ],
   "source": [
    "download('stopwords')\n",
    "#Get the english and finnish stopwords from nltk.corpus.stopwords\n",
    "english_stopwords=stopwords.words('english')\n",
    "finnish_stopwords=stopwords.words('finnish')\n",
    "#Get the chinese stopwords from stopwordsiso\n",
    "chinese_stopwords=swordsiso('zh')\n",
    "#join all stopwords\n",
    "all_stopwords=english_stopwords\n",
    "all_stopwords.extend(finnish_stopwords)\n",
    "all_stopwords.extend(chinese_stopwords)"
   ]
  },
  {
   "cell_type": "code",
   "execution_count": 14,
   "metadata": {},
   "outputs": [
    {
     "name": "stdout",
     "output_type": "stream",
     "text": [
      "Wall time: 1min 13s\n"
     ]
    }
   ],
   "source": [
    "%%time\n",
    "if not(os.path.isfile('GoogleNews-vectors-negative300.bin')):\n",
    "    if not(os.path.isfile('GoogleNews-vectors-negative300.bin.gz')):\n",
    "        urllib.request.urlretrieve(\"https://s3.amazonaws.com/dl4j-distribution/GoogleNews-vectors-negative300.bin.gz\",\\\n",
    "                                   \"GoogleNews-vectors-negative300.bin.gz\")\n",
    "    with gzip.open('GoogleNews-vectors-negative300.bin.gz', 'rb') as f_in:\n",
    "        with open('GoogleNews-vectors-negative300.bin', 'wb') as f_out:\n",
    "            shutil.copyfileobj(f_in, f_out)\n",
    "model = KeyedVectors.load_word2vec_format(\"GoogleNews-vectors-negative300.bin\", binary=True)"
   ]
  },
  {
   "cell_type": "code",
   "execution_count": 15,
   "metadata": {},
   "outputs": [
    {
     "data": {
      "application/vnd.jupyter.widget-view+json": {
       "model_id": "23aff528506f40cb9631dcc83b7ae95b",
       "version_major": 2,
       "version_minor": 0
      },
      "text/plain": [
       "  0%|          | 0/6 [00:00<?, ?it/s]"
      ]
     },
     "metadata": {},
     "output_type": "display_data"
    },
    {
     "data": {
      "application/vnd.jupyter.widget-view+json": {
       "model_id": "8b9cd3a1787d4161921d67ea08a6dcbd",
       "version_major": 2,
       "version_minor": 0
      },
      "text/plain": [
       "  0%|          | 0/11585 [00:00<?, ?it/s]"
      ]
     },
     "metadata": {},
     "output_type": "display_data"
    },
    {
     "data": {
      "application/vnd.jupyter.widget-view+json": {
       "model_id": "a317ac27b5e74bd99c6d7ccfe280d61c",
       "version_major": 2,
       "version_minor": 0
      },
      "text/plain": [
       "  0%|          | 0/17977 [00:00<?, ?it/s]"
      ]
     },
     "metadata": {},
     "output_type": "display_data"
    },
    {
     "data": {
      "application/vnd.jupyter.widget-view+json": {
       "model_id": "0b5907b62f35425b8233fbce29224550",
       "version_major": 2,
       "version_minor": 0
      },
      "text/plain": [
       "  0%|          | 0/6748 [00:00<?, ?it/s]"
      ]
     },
     "metadata": {},
     "output_type": "display_data"
    },
    {
     "data": {
      "application/vnd.jupyter.widget-view+json": {
       "model_id": "cc2fdd9bf5474442855ec0bb5f87e7f9",
       "version_major": 2,
       "version_minor": 0
      },
      "text/plain": [
       "  0%|          | 0/10221 [00:00<?, ?it/s]"
      ]
     },
     "metadata": {},
     "output_type": "display_data"
    },
    {
     "data": {
      "application/vnd.jupyter.widget-view+json": {
       "model_id": "972b5902b8e8410b8fa86358ed203dc1",
       "version_major": 2,
       "version_minor": 0
      },
      "text/plain": [
       "  0%|          | 0/17977 [00:00<?, ?it/s]"
      ]
     },
     "metadata": {},
     "output_type": "display_data"
    },
    {
     "data": {
      "application/vnd.jupyter.widget-view+json": {
       "model_id": "0b2a1a4f786d477eb0eab860803f862f",
       "version_major": 2,
       "version_minor": 0
      },
      "text/plain": [
       "  0%|          | 0/17977 [00:00<?, ?it/s]"
      ]
     },
     "metadata": {},
     "output_type": "display_data"
    },
    {
     "data": {
      "text/html": [
       "<div>\n",
       "<style scoped>\n",
       "    .dataframe tbody tr th:only-of-type {\n",
       "        vertical-align: middle;\n",
       "    }\n",
       "\n",
       "    .dataframe tbody tr th {\n",
       "        vertical-align: top;\n",
       "    }\n",
       "\n",
       "    .dataframe thead th {\n",
       "        text-align: right;\n",
       "    }\n",
       "</style>\n",
       "<table border=\"1\" class=\"dataframe\">\n",
       "  <thead>\n",
       "    <tr style=\"text-align: right;\">\n",
       "      <th></th>\n",
       "      <th>source</th>\n",
       "      <th>reference</th>\n",
       "      <th>translation</th>\n",
       "      <th>z-score</th>\n",
       "      <th>avg-score</th>\n",
       "      <th>annotators</th>\n",
       "      <th>BLEU</th>\n",
       "      <th>ROUGE-1 F1-Score</th>\n",
       "      <th>ROUGE-1 Precision</th>\n",
       "      <th>ROUGE-1 Recall</th>\n",
       "      <th>ROUGE-2 F1-Score</th>\n",
       "      <th>ROUGE-2 Precision</th>\n",
       "      <th>ROUGE-2 Recall</th>\n",
       "      <th>ROUGE-L F1-Score</th>\n",
       "      <th>ROUGE-L Precision</th>\n",
       "      <th>ROUGE-L Recall</th>\n",
       "      <th>WMDistance</th>\n",
       "    </tr>\n",
       "  </thead>\n",
       "  <tbody>\n",
       "    <tr>\n",
       "      <th>0</th>\n",
       "      <td>Uchopíte pak zbraň mezi své předloktí a rameno...</td>\n",
       "      <td>You will then grab the weapon between your for...</td>\n",
       "      <td>You then grasp the gun between your forearm an...</td>\n",
       "      <td>-0.675383</td>\n",
       "      <td>60.000000</td>\n",
       "      <td>3</td>\n",
       "      <td>8.319100e-232</td>\n",
       "      <td>0.518519</td>\n",
       "      <td>0.538462</td>\n",
       "      <td>0.500000</td>\n",
       "      <td>0.240000</td>\n",
       "      <td>0.250000</td>\n",
       "      <td>0.230769</td>\n",
       "      <td>0.461538</td>\n",
       "      <td>0.461538</td>\n",
       "      <td>0.461538</td>\n",
       "      <td>0.108759</td>\n",
       "    </tr>\n",
       "    <tr>\n",
       "      <th>1</th>\n",
       "      <td>Ale je-li New York změna, pak je to také znovu...</td>\n",
       "      <td>But if New York is changed, then it's also a r...</td>\n",
       "      <td>But if New York is change, it is also reinvent...</td>\n",
       "      <td>-0.829403</td>\n",
       "      <td>44.000000</td>\n",
       "      <td>2</td>\n",
       "      <td>9.134375e-232</td>\n",
       "      <td>0.586207</td>\n",
       "      <td>0.680000</td>\n",
       "      <td>0.515152</td>\n",
       "      <td>0.285714</td>\n",
       "      <td>0.333333</td>\n",
       "      <td>0.250000</td>\n",
       "      <td>0.452830</td>\n",
       "      <td>0.500000</td>\n",
       "      <td>0.413793</td>\n",
       "      <td>0.000000</td>\n",
       "    </tr>\n",
       "    <tr>\n",
       "      <th>2</th>\n",
       "      <td>Dlouho a intenzivně jsem během léta přemýšlel,...</td>\n",
       "      <td>I have been thinking over and over again over ...</td>\n",
       "      <td>I have thought long and hard over the course o...</td>\n",
       "      <td>0.803185</td>\n",
       "      <td>96.500000</td>\n",
       "      <td>2</td>\n",
       "      <td>9.336118e-232</td>\n",
       "      <td>0.500000</td>\n",
       "      <td>0.461538</td>\n",
       "      <td>0.545455</td>\n",
       "      <td>0.272727</td>\n",
       "      <td>0.250000</td>\n",
       "      <td>0.300000</td>\n",
       "      <td>0.500000</td>\n",
       "      <td>0.461538</td>\n",
       "      <td>0.545455</td>\n",
       "      <td>0.000000</td>\n",
       "    </tr>\n",
       "    <tr>\n",
       "      <th>3</th>\n",
       "      <td>Najdou si jiný způsob, jak někde podvádět.</td>\n",
       "      <td>They find another way to cheat somewhere.</td>\n",
       "      <td>They will find another way how to defraud others.</td>\n",
       "      <td>0.563149</td>\n",
       "      <td>90.500000</td>\n",
       "      <td>2</td>\n",
       "      <td>0.000000e+00</td>\n",
       "      <td>0.491228</td>\n",
       "      <td>0.482759</td>\n",
       "      <td>0.500000</td>\n",
       "      <td>0.254545</td>\n",
       "      <td>0.250000</td>\n",
       "      <td>0.259259</td>\n",
       "      <td>0.490566</td>\n",
       "      <td>0.481481</td>\n",
       "      <td>0.500000</td>\n",
       "      <td>0.000000</td>\n",
       "    </tr>\n",
       "    <tr>\n",
       "      <th>4</th>\n",
       "      <td>Zpráva o výměně v čele prezidentovy administra...</td>\n",
       "      <td>The report on the replacement of the president...</td>\n",
       "      <td>The news of the replacement at the top of the ...</td>\n",
       "      <td>0.021549</td>\n",
       "      <td>74.666667</td>\n",
       "      <td>3</td>\n",
       "      <td>0.000000e+00</td>\n",
       "      <td>0.333333</td>\n",
       "      <td>0.400000</td>\n",
       "      <td>0.285714</td>\n",
       "      <td>0.200000</td>\n",
       "      <td>0.250000</td>\n",
       "      <td>0.166667</td>\n",
       "      <td>0.333333</td>\n",
       "      <td>0.400000</td>\n",
       "      <td>0.285714</td>\n",
       "      <td>0.000000</td>\n",
       "    </tr>\n",
       "  </tbody>\n",
       "</table>\n",
       "</div>"
      ],
      "text/plain": [
       "                                              source  \\\n",
       "0  Uchopíte pak zbraň mezi své předloktí a rameno...   \n",
       "1  Ale je-li New York změna, pak je to také znovu...   \n",
       "2  Dlouho a intenzivně jsem během léta přemýšlel,...   \n",
       "3         Najdou si jiný způsob, jak někde podvádět.   \n",
       "4  Zpráva o výměně v čele prezidentovy administra...   \n",
       "\n",
       "                                           reference  \\\n",
       "0  You will then grab the weapon between your for...   \n",
       "1  But if New York is changed, then it's also a r...   \n",
       "2  I have been thinking over and over again over ...   \n",
       "3          They find another way to cheat somewhere.   \n",
       "4  The report on the replacement of the president...   \n",
       "\n",
       "                                         translation   z-score  avg-score  \\\n",
       "0  You then grasp the gun between your forearm an... -0.675383  60.000000   \n",
       "1  But if New York is change, it is also reinvent... -0.829403  44.000000   \n",
       "2  I have thought long and hard over the course o...  0.803185  96.500000   \n",
       "3  They will find another way how to defraud others.  0.563149  90.500000   \n",
       "4  The news of the replacement at the top of the ...  0.021549  74.666667   \n",
       "\n",
       "   annotators           BLEU  ROUGE-1 F1-Score  ROUGE-1 Precision  \\\n",
       "0           3  8.319100e-232          0.518519           0.538462   \n",
       "1           2  9.134375e-232          0.586207           0.680000   \n",
       "2           2  9.336118e-232          0.500000           0.461538   \n",
       "3           2   0.000000e+00          0.491228           0.482759   \n",
       "4           3   0.000000e+00          0.333333           0.400000   \n",
       "\n",
       "   ROUGE-1 Recall  ROUGE-2 F1-Score  ROUGE-2 Precision  ROUGE-2 Recall  \\\n",
       "0        0.500000          0.240000           0.250000        0.230769   \n",
       "1        0.515152          0.285714           0.333333        0.250000   \n",
       "2        0.545455          0.272727           0.250000        0.300000   \n",
       "3        0.500000          0.254545           0.250000        0.259259   \n",
       "4        0.285714          0.200000           0.250000        0.166667   \n",
       "\n",
       "   ROUGE-L F1-Score  ROUGE-L Precision  ROUGE-L Recall  WMDistance  \n",
       "0          0.461538           0.461538        0.461538    0.108759  \n",
       "1          0.452830           0.500000        0.413793    0.000000  \n",
       "2          0.500000           0.461538        0.545455    0.000000  \n",
       "3          0.490566           0.481481        0.500000    0.000000  \n",
       "4          0.333333           0.400000        0.285714    0.000000  "
      ]
     },
     "execution_count": 15,
     "metadata": {},
     "output_type": "execute_result"
    }
   ],
   "source": [
    "#create a copy of the corpora, remove stopwords, set lowercase and calculate the distance\n",
    "corp=corpora\n",
    "for i in tqdm(range(len(corpus))):\n",
    "    results=np.zeros(corpora[i].shape[0],'float64')\n",
    "    corp[i]['reference'].apply(lambda x : [word for word in x.lower().split() if word not in all_stopwords])\n",
    "    corp[i]['translation'].apply(lambda x : [word for word in x.lower().split() if word not in all_stopwords])\n",
    "    for j in tqdm(range(corp[i].shape[0])):\n",
    "        results[i]=model.wmdistance(corp[i].loc[j].reference,corp[i].loc[j].translation)\n",
    "    corpora[i]['WMDistance']=results\n",
    "corpora[0].head(5)"
   ]
  },
  {
   "cell_type": "code",
   "execution_count": 16,
   "metadata": {},
   "outputs": [
    {
     "data": {
      "text/html": [
       "<div>\n",
       "<style scoped>\n",
       "    .dataframe tbody tr th:only-of-type {\n",
       "        vertical-align: middle;\n",
       "    }\n",
       "\n",
       "    .dataframe tbody tr th {\n",
       "        vertical-align: top;\n",
       "    }\n",
       "\n",
       "    .dataframe thead th {\n",
       "        text-align: right;\n",
       "    }\n",
       "</style>\n",
       "<table border=\"1\" class=\"dataframe\">\n",
       "  <thead>\n",
       "    <tr style=\"text-align: right;\">\n",
       "      <th></th>\n",
       "      <th>WMDistance</th>\n",
       "    </tr>\n",
       "    <tr>\n",
       "      <th>Corpus</th>\n",
       "      <th></th>\n",
       "    </tr>\n",
       "  </thead>\n",
       "  <tbody>\n",
       "    <tr>\n",
       "      <th>cs-en</th>\n",
       "      <td>-0.01</td>\n",
       "    </tr>\n",
       "    <tr>\n",
       "      <th>de-en</th>\n",
       "      <td>0.01</td>\n",
       "    </tr>\n",
       "    <tr>\n",
       "      <th>en-fi</th>\n",
       "      <td>0.02</td>\n",
       "    </tr>\n",
       "    <tr>\n",
       "      <th>en-zh</th>\n",
       "      <td>-0.03</td>\n",
       "    </tr>\n",
       "    <tr>\n",
       "      <th>ru-en</th>\n",
       "      <td>0.01</td>\n",
       "    </tr>\n",
       "    <tr>\n",
       "      <th>zh-en</th>\n",
       "      <td>0.0</td>\n",
       "    </tr>\n",
       "    <tr>\n",
       "      <th>Average</th>\n",
       "      <td>0.0</td>\n",
       "    </tr>\n",
       "  </tbody>\n",
       "</table>\n",
       "</div>"
      ],
      "text/plain": [
       "        WMDistance\n",
       "Corpus            \n",
       "cs-en        -0.01\n",
       "de-en         0.01\n",
       "en-fi         0.02\n",
       "en-zh        -0.03\n",
       "ru-en         0.01\n",
       "zh-en          0.0\n",
       "Average        0.0"
      ]
     },
     "execution_count": 16,
     "metadata": {},
     "output_type": "execute_result"
    }
   ],
   "source": [
    "#Empty list to keep correlations of WMDistance and Z-Score\n",
    "correl=[]\n",
    "#Clalculate the correlation of columns WMDistance and Z-Score on all corpora\n",
    "for i in range(len(corpus)):\n",
    "    correl.append(corpora[i].WMDistance.corr(corpora[i]['z-score']))\n",
    "    correl[i]=round(correl[i],2)\n",
    "#Create a DataFrame with the correlation calculated for each language pair\n",
    "corrWMDistance=pd.DataFrame(np.array([corpus,correl])).T\n",
    "#Rename the columns\n",
    "corrWMDistance.columns = ['Corpus', 'WMDistance']\n",
    "#calculate the mean of the correlations in the entire corpora\n",
    "avg=corrWMDistance['WMDistance'].astype(float).mean()\n",
    "corrWMDistance=corrWMDistance.append({'Corpus':'Average','WMDistance':round(avg,2)}, ignore_index=True)\n",
    "corrWMDistance.set_index('Corpus', inplace=True)\n",
    "corrWMDistance"
   ]
  },
  {
   "cell_type": "markdown",
   "metadata": {},
   "source": [
    "<h2>BERT-Score</h2>"
   ]
  },
  {
   "cell_type": "code",
   "execution_count": 17,
   "metadata": {},
   "outputs": [],
   "source": [
    "#preparation\n",
    "#transformers\n",
    "transformers.tokenization_utils.logger.setLevel(logging.ERROR)\n",
    "transformers.configuration_utils.logger.setLevel(logging.ERROR)\n",
    "transformers.modeling_utils.logger.setLevel(logging.ERROR)\n",
    "#Visualization options\n",
    "rcParams[\"xtick.major.size\"] = 0\n",
    "rcParams[\"xtick.minor.size\"] = 0\n",
    "rcParams[\"ytick.major.size\"] = 0\n",
    "rcParams[\"ytick.minor.size\"] = 0\n",
    "rcParams[\"axes.labelsize\"] = \"large\"\n",
    "rcParams[\"axes.axisbelow\"] = True\n",
    "rcParams[\"axes.grid\"] = True"
   ]
  },
  {
   "cell_type": "code",
   "execution_count": 18,
   "metadata": {},
   "outputs": [
    {
     "data": {
      "application/vnd.jupyter.widget-view+json": {
       "model_id": "3692629373934d378775fc3db4cb368d",
       "version_major": 2,
       "version_minor": 0
      },
      "text/plain": [
       "  0%|          | 0/6 [00:00<?, ?it/s]"
      ]
     },
     "metadata": {},
     "output_type": "display_data"
    },
    {
     "name": "stdout",
     "output_type": "stream",
     "text": [
      "calculating scores...\n",
      "computing bert embedding.\n"
     ]
    },
    {
     "data": {
      "application/vnd.jupyter.widget-view+json": {
       "model_id": "5b9024831d7e4369b9fedf2cd9eeab04",
       "version_major": 2,
       "version_minor": 0
      },
      "text/plain": [
       "  0%|          | 0/178 [00:00<?, ?it/s]"
      ]
     },
     "metadata": {},
     "output_type": "display_data"
    },
    {
     "name": "stdout",
     "output_type": "stream",
     "text": [
      "computing greedy matching.\n"
     ]
    },
    {
     "data": {
      "application/vnd.jupyter.widget-view+json": {
       "model_id": "72dc9bbdb5eb455ab29fb807e3673453",
       "version_major": 2,
       "version_minor": 0
      },
      "text/plain": [
       "  0%|          | 0/182 [00:00<?, ?it/s]"
      ]
     },
     "metadata": {},
     "output_type": "display_data"
    },
    {
     "ename": "KeyError",
     "evalue": "'You will then grab the weapon between your forearm and shoulder just before you hit it in your face with a free elbow.'",
     "output_type": "error",
     "traceback": [
      "\u001b[1;31m---------------------------------------------------------------------------\u001b[0m",
      "\u001b[1;31mKeyError\u001b[0m                                  Traceback (most recent call last)",
      "\u001b[1;32m<ipython-input-18-0fe8e68c8757>\u001b[0m in \u001b[0;36m<module>\u001b[1;34m\u001b[0m\n\u001b[0;32m      3\u001b[0m \u001b[0mBSF1\u001b[0m\u001b[1;33m=\u001b[0m\u001b[1;33m[\u001b[0m\u001b[1;33m]\u001b[0m\u001b[1;33m\u001b[0m\u001b[1;33m\u001b[0m\u001b[0m\n\u001b[0;32m      4\u001b[0m \u001b[1;32mfor\u001b[0m \u001b[0mi\u001b[0m \u001b[1;32min\u001b[0m \u001b[0mtqdm\u001b[0m\u001b[1;33m(\u001b[0m\u001b[0mrange\u001b[0m\u001b[1;33m(\u001b[0m\u001b[0mlen\u001b[0m\u001b[1;33m(\u001b[0m\u001b[0mcorpus\u001b[0m\u001b[1;33m)\u001b[0m\u001b[1;33m)\u001b[0m\u001b[1;33m)\u001b[0m\u001b[1;33m:\u001b[0m\u001b[1;33m\u001b[0m\u001b[1;33m\u001b[0m\u001b[0m\n\u001b[1;32m----> 5\u001b[1;33m     \u001b[0mPtemp\u001b[0m\u001b[1;33m,\u001b[0m \u001b[0mRtemp\u001b[0m\u001b[1;33m,\u001b[0m \u001b[0mF1temp\u001b[0m \u001b[1;33m=\u001b[0m \u001b[0mscore\u001b[0m\u001b[1;33m(\u001b[0m\u001b[0mcorpora\u001b[0m\u001b[1;33m[\u001b[0m\u001b[0mi\u001b[0m\u001b[1;33m]\u001b[0m\u001b[1;33m.\u001b[0m\u001b[0mtranslation\u001b[0m\u001b[1;33m,\u001b[0m \u001b[0mcorpora\u001b[0m\u001b[1;33m[\u001b[0m\u001b[0mi\u001b[0m\u001b[1;33m]\u001b[0m\u001b[1;33m.\u001b[0m\u001b[0mreference\u001b[0m\u001b[1;33m,\u001b[0m \u001b[0mlang\u001b[0m\u001b[1;33m=\u001b[0m\u001b[0mcorpus\u001b[0m\u001b[1;33m[\u001b[0m\u001b[0mi\u001b[0m\u001b[1;33m]\u001b[0m\u001b[1;33m[\u001b[0m\u001b[1;33m-\u001b[0m\u001b[1;36m2\u001b[0m\u001b[1;33m:\u001b[0m\u001b[1;33m]\u001b[0m\u001b[1;33m,\u001b[0m \u001b[0mverbose\u001b[0m\u001b[1;33m=\u001b[0m\u001b[1;32mTrue\u001b[0m\u001b[1;33m)\u001b[0m\u001b[1;33m\u001b[0m\u001b[1;33m\u001b[0m\u001b[0m\n\u001b[0m\u001b[0;32m      6\u001b[0m     \u001b[0mBSP\u001b[0m\u001b[1;33m.\u001b[0m\u001b[0mappend\u001b[0m\u001b[1;33m(\u001b[0m\u001b[0mPtemp\u001b[0m\u001b[1;33m)\u001b[0m\u001b[1;33m\u001b[0m\u001b[1;33m\u001b[0m\u001b[0m\n\u001b[0;32m      7\u001b[0m     \u001b[0mBSR\u001b[0m\u001b[1;33m.\u001b[0m\u001b[0mappend\u001b[0m\u001b[1;33m(\u001b[0m\u001b[0mRtemp\u001b[0m\u001b[1;33m)\u001b[0m\u001b[1;33m\u001b[0m\u001b[1;33m\u001b[0m\u001b[0m\n",
      "\u001b[1;32mC:\\ProgramData\\Anaconda3\\lib\\site-packages\\bert_score\\score.py\u001b[0m in \u001b[0;36mscore\u001b[1;34m(cands, refs, model_type, num_layers, verbose, idf, device, batch_size, nthreads, all_layers, lang, return_hash, rescale_with_baseline, baseline_path)\u001b[0m\n\u001b[0;32m    127\u001b[0m         \u001b[0mprint\u001b[0m\u001b[1;33m(\u001b[0m\u001b[1;34m\"calculating scores...\"\u001b[0m\u001b[1;33m)\u001b[0m\u001b[1;33m\u001b[0m\u001b[1;33m\u001b[0m\u001b[0m\n\u001b[0;32m    128\u001b[0m     \u001b[0mstart\u001b[0m \u001b[1;33m=\u001b[0m \u001b[0mtime\u001b[0m\u001b[1;33m.\u001b[0m\u001b[0mperf_counter\u001b[0m\u001b[1;33m(\u001b[0m\u001b[1;33m)\u001b[0m\u001b[1;33m\u001b[0m\u001b[1;33m\u001b[0m\u001b[0m\n\u001b[1;32m--> 129\u001b[1;33m     all_preds = bert_cos_score_idf(\n\u001b[0m\u001b[0;32m    130\u001b[0m         \u001b[0mmodel\u001b[0m\u001b[1;33m,\u001b[0m\u001b[1;33m\u001b[0m\u001b[1;33m\u001b[0m\u001b[0m\n\u001b[0;32m    131\u001b[0m         \u001b[0mrefs\u001b[0m\u001b[1;33m,\u001b[0m\u001b[1;33m\u001b[0m\u001b[1;33m\u001b[0m\u001b[0m\n",
      "\u001b[1;32mC:\\ProgramData\\Anaconda3\\lib\\site-packages\\bert_score\\utils.py\u001b[0m in \u001b[0;36mbert_cos_score_idf\u001b[1;34m(model, refs, hyps, tokenizer, idf_dict, verbose, batch_size, device, all_layers)\u001b[0m\n\u001b[0;32m    536\u001b[0m             \u001b[0mbatch_refs\u001b[0m \u001b[1;33m=\u001b[0m \u001b[0mrefs\u001b[0m\u001b[1;33m[\u001b[0m\u001b[0mbatch_start\u001b[0m \u001b[1;33m:\u001b[0m \u001b[0mbatch_start\u001b[0m \u001b[1;33m+\u001b[0m \u001b[0mbatch_size\u001b[0m\u001b[1;33m]\u001b[0m\u001b[1;33m\u001b[0m\u001b[1;33m\u001b[0m\u001b[0m\n\u001b[0;32m    537\u001b[0m             \u001b[0mbatch_hyps\u001b[0m \u001b[1;33m=\u001b[0m \u001b[0mhyps\u001b[0m\u001b[1;33m[\u001b[0m\u001b[0mbatch_start\u001b[0m \u001b[1;33m:\u001b[0m \u001b[0mbatch_start\u001b[0m \u001b[1;33m+\u001b[0m \u001b[0mbatch_size\u001b[0m\u001b[1;33m]\u001b[0m\u001b[1;33m\u001b[0m\u001b[1;33m\u001b[0m\u001b[0m\n\u001b[1;32m--> 538\u001b[1;33m             \u001b[0mref_stats\u001b[0m \u001b[1;33m=\u001b[0m \u001b[0mpad_batch_stats\u001b[0m\u001b[1;33m(\u001b[0m\u001b[0mbatch_refs\u001b[0m\u001b[1;33m,\u001b[0m \u001b[0mstats_dict\u001b[0m\u001b[1;33m,\u001b[0m \u001b[0mdevice\u001b[0m\u001b[1;33m)\u001b[0m\u001b[1;33m\u001b[0m\u001b[1;33m\u001b[0m\u001b[0m\n\u001b[0m\u001b[0;32m    539\u001b[0m             \u001b[0mhyp_stats\u001b[0m \u001b[1;33m=\u001b[0m \u001b[0mpad_batch_stats\u001b[0m\u001b[1;33m(\u001b[0m\u001b[0mbatch_hyps\u001b[0m\u001b[1;33m,\u001b[0m \u001b[0mstats_dict\u001b[0m\u001b[1;33m,\u001b[0m \u001b[0mdevice\u001b[0m\u001b[1;33m)\u001b[0m\u001b[1;33m\u001b[0m\u001b[1;33m\u001b[0m\u001b[0m\n\u001b[0;32m    540\u001b[0m \u001b[1;33m\u001b[0m\u001b[0m\n",
      "\u001b[1;32mC:\\ProgramData\\Anaconda3\\lib\\site-packages\\bert_score\\utils.py\u001b[0m in \u001b[0;36mpad_batch_stats\u001b[1;34m(sen_batch, stats_dict, device)\u001b[0m\n\u001b[0;32m    509\u001b[0m \u001b[1;33m\u001b[0m\u001b[0m\n\u001b[0;32m    510\u001b[0m     \u001b[1;32mdef\u001b[0m \u001b[0mpad_batch_stats\u001b[0m\u001b[1;33m(\u001b[0m\u001b[0msen_batch\u001b[0m\u001b[1;33m,\u001b[0m \u001b[0mstats_dict\u001b[0m\u001b[1;33m,\u001b[0m \u001b[0mdevice\u001b[0m\u001b[1;33m)\u001b[0m\u001b[1;33m:\u001b[0m\u001b[1;33m\u001b[0m\u001b[1;33m\u001b[0m\u001b[0m\n\u001b[1;32m--> 511\u001b[1;33m         \u001b[0mstats\u001b[0m \u001b[1;33m=\u001b[0m \u001b[1;33m[\u001b[0m\u001b[0mstats_dict\u001b[0m\u001b[1;33m[\u001b[0m\u001b[0ms\u001b[0m\u001b[1;33m]\u001b[0m \u001b[1;32mfor\u001b[0m \u001b[0ms\u001b[0m \u001b[1;32min\u001b[0m \u001b[0msen_batch\u001b[0m\u001b[1;33m]\u001b[0m\u001b[1;33m\u001b[0m\u001b[1;33m\u001b[0m\u001b[0m\n\u001b[0m\u001b[0;32m    512\u001b[0m         \u001b[0memb\u001b[0m\u001b[1;33m,\u001b[0m \u001b[0midf\u001b[0m \u001b[1;33m=\u001b[0m \u001b[0mzip\u001b[0m\u001b[1;33m(\u001b[0m\u001b[1;33m*\u001b[0m\u001b[0mstats\u001b[0m\u001b[1;33m)\u001b[0m\u001b[1;33m\u001b[0m\u001b[1;33m\u001b[0m\u001b[0m\n\u001b[0;32m    513\u001b[0m         \u001b[0memb\u001b[0m \u001b[1;33m=\u001b[0m \u001b[1;33m[\u001b[0m\u001b[0me\u001b[0m\u001b[1;33m.\u001b[0m\u001b[0mto\u001b[0m\u001b[1;33m(\u001b[0m\u001b[0mdevice\u001b[0m\u001b[1;33m)\u001b[0m \u001b[1;32mfor\u001b[0m \u001b[0me\u001b[0m \u001b[1;32min\u001b[0m \u001b[0memb\u001b[0m\u001b[1;33m]\u001b[0m\u001b[1;33m\u001b[0m\u001b[1;33m\u001b[0m\u001b[0m\n",
      "\u001b[1;32mC:\\ProgramData\\Anaconda3\\lib\\site-packages\\bert_score\\utils.py\u001b[0m in \u001b[0;36m<listcomp>\u001b[1;34m(.0)\u001b[0m\n\u001b[0;32m    509\u001b[0m \u001b[1;33m\u001b[0m\u001b[0m\n\u001b[0;32m    510\u001b[0m     \u001b[1;32mdef\u001b[0m \u001b[0mpad_batch_stats\u001b[0m\u001b[1;33m(\u001b[0m\u001b[0msen_batch\u001b[0m\u001b[1;33m,\u001b[0m \u001b[0mstats_dict\u001b[0m\u001b[1;33m,\u001b[0m \u001b[0mdevice\u001b[0m\u001b[1;33m)\u001b[0m\u001b[1;33m:\u001b[0m\u001b[1;33m\u001b[0m\u001b[1;33m\u001b[0m\u001b[0m\n\u001b[1;32m--> 511\u001b[1;33m         \u001b[0mstats\u001b[0m \u001b[1;33m=\u001b[0m \u001b[1;33m[\u001b[0m\u001b[0mstats_dict\u001b[0m\u001b[1;33m[\u001b[0m\u001b[0ms\u001b[0m\u001b[1;33m]\u001b[0m \u001b[1;32mfor\u001b[0m \u001b[0ms\u001b[0m \u001b[1;32min\u001b[0m \u001b[0msen_batch\u001b[0m\u001b[1;33m]\u001b[0m\u001b[1;33m\u001b[0m\u001b[1;33m\u001b[0m\u001b[0m\n\u001b[0m\u001b[0;32m    512\u001b[0m         \u001b[0memb\u001b[0m\u001b[1;33m,\u001b[0m \u001b[0midf\u001b[0m \u001b[1;33m=\u001b[0m \u001b[0mzip\u001b[0m\u001b[1;33m(\u001b[0m\u001b[1;33m*\u001b[0m\u001b[0mstats\u001b[0m\u001b[1;33m)\u001b[0m\u001b[1;33m\u001b[0m\u001b[1;33m\u001b[0m\u001b[0m\n\u001b[0;32m    513\u001b[0m         \u001b[0memb\u001b[0m \u001b[1;33m=\u001b[0m \u001b[1;33m[\u001b[0m\u001b[0me\u001b[0m\u001b[1;33m.\u001b[0m\u001b[0mto\u001b[0m\u001b[1;33m(\u001b[0m\u001b[0mdevice\u001b[0m\u001b[1;33m)\u001b[0m \u001b[1;32mfor\u001b[0m \u001b[0me\u001b[0m \u001b[1;32min\u001b[0m \u001b[0memb\u001b[0m\u001b[1;33m]\u001b[0m\u001b[1;33m\u001b[0m\u001b[1;33m\u001b[0m\u001b[0m\n",
      "\u001b[1;31mKeyError\u001b[0m: 'You will then grab the weapon between your forearm and shoulder just before you hit it in your face with a free elbow.'"
     ]
    }
   ],
   "source": [
    "BSP=[]\n",
    "BSR=[]\n",
    "BSF1=[]\n",
    "for i in tqdm(range(len(corpus))):\n",
    "    Ptemp, Rtemp, F1temp = score(corpora[i].translation, corpora[i].reference, lang=corpus[i][-2:], verbose=True)\n",
    "    BSP.append(Ptemp)\n",
    "    BSR.append(Rtemp)\n",
    "    BSF1.append(F1temp)\n",
    "for i in range(len(corpus)):\n",
    "    corpora[i]=pd.concat([corpora[i],BSP[i],BSR[i],BSF1[i]], axis=1, join='inner')\n",
    "corpora[4].head(5)"
   ]
  }
 ],
 "metadata": {
  "kernelspec": {
   "display_name": "Python 3",
   "language": "python",
   "name": "python3"
  },
  "language_info": {
   "codemirror_mode": {
    "name": "ipython",
    "version": 3
   },
   "file_extension": ".py",
   "mimetype": "text/x-python",
   "name": "python",
   "nbconvert_exporter": "python",
   "pygments_lexer": "ipython3",
   "version": "3.8.5"
  }
 },
 "nbformat": 4,
 "nbformat_minor": 5
}
